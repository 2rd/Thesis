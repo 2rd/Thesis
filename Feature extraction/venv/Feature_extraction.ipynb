{
  "nbformat": 4,
  "nbformat_minor": 0,
  "metadata": {
    "colab": {
      "name": "cluster6_1-1K.ipynb",
      "provenance": [],
      "collapsed_sections": []
    },
    "kernelspec": {
      "name": "python3",
      "display_name": "Python 3"
    }
  },
  "cells": [
    {
      "cell_type": "code",
      "metadata": {
        "id": "Sg9LpiT9qfnj"
      },
      "source": [
        "from google.colab import drive\n",
        "drive.mount('/content/drive')"
      ],
      "execution_count": null,
      "outputs": []
    },
    {
      "cell_type": "code",
      "metadata": {
        "id": "op4J3fAQr2xE"
      },
      "source": [
        "# memory footprint support libraries/code\n",
        "!ln -sf /opt/bin/nvidia-smi /usr/bin/nvidia-smi\n",
        "!pip install gputil\n",
        "!pip install psutil\n",
        "!pip install humanize\n",
        "import psutil\n",
        "import humanize\n",
        "import os\n",
        "import GPUtil as GPU\n",
        "GPUs = GPU.getGPUs()\n",
        "# XXX: only one GPU on Colab and isn’t guaranteed\n",
        "gpu = GPUs[0]\n",
        "def printm():\n",
        " process = psutil.Process(os.getpid())\n",
        " print(\"Gen RAM Free: \" + humanize.naturalsize( psutil.virtual_memory().available ), \" | Proc size: \" + humanize.naturalsize( process.memory_info().rss))\n",
        " print(\"GPU RAM Free: {0:.0f}MB | Used: {1:.0f}MB | Util {2:3.0f}% | Total {3:.0f}MB\".format(gpu.memoryFree, gpu.memoryUsed, gpu.memoryUtil*100, gpu.memoryTotal))\n",
        "printm() "
      ],
      "execution_count": null,
      "outputs": []
    },
    {
      "cell_type": "code",
      "metadata": {
        "id": "Kg6vEF-Lr5ft"
      },
      "source": [
        "import zipfile\n",
        "with zipfile.ZipFile('/content/drive/My Drive/clusters/cluster6/T6-1-1K.zip', 'r') as zip_ref:\n",
        "    zip_ref.extractall('/content/T6-1-1K')"
      ],
      "execution_count": null,
      "outputs": []
    },
    {
      "cell_type": "code",
      "metadata": {
        "id": "WuBX7WGdsCuX"
      },
      "source": [
        "import os\n",
        "os.environ[\"THEANO_FLAGS\"] = \"mode=FAST_RUN, device=gpu, floatX=float32\"\n",
        "\n",
        "\n",
        "# import necessary modules\n",
        "import tensorflow\n",
        "from timeit import default_timer as timer\n",
        "import matplotlib.pyplot as plt\n",
        "import numpy as np\n",
        "%matplotlib inline\n",
        "np.random.seed(2017) \n",
        "from keras.applications.vgg19 import VGG19\n",
        "from keras.applications.vgg19 import preprocess_input, decode_predictions\n",
        "from keras.preprocessing import image\n",
        "from keras.models import Model\n",
        "import cv2\n",
        "import pickle\n",
        "import shutil"
      ],
      "execution_count": null,
      "outputs": []
    },
    {
      "cell_type": "code",
      "metadata": {
        "id": "9W-zyHhIsFlp"
      },
      "source": [
        "#-----------CLASSIFICATION--------------\n",
        "\n",
        "# load pre-trained model\n",
        "model = VGG19(weights='imagenet', include_top=True)\n",
        "# display model layers\n",
        "model.summary()"
      ],
      "execution_count": null,
      "outputs": []
    },
    {
      "cell_type": "code",
      "metadata": {
        "id": "nkdW-x17sHm3"
      },
      "source": [
        "dir = \"/content/T6-1-1K\"\n",
        "time_start = timer()\n",
        "\n",
        "for movie in os.listdir(dir):\n",
        "    mov_timer = timer()\n",
        "    movie_predictions = []\n",
        "    movie_dir = dir + \"/\" + movie\n",
        "    for frame in os.listdir(dir + \"/\" + movie):\n",
        "        img = image.load_img(os.path.join(movie_dir,frame), target_size=(224, 224))\n",
        "        img = image.img_to_array(img)\n",
        "        img = np.expand_dims(img, axis=0)\n",
        "        img = preprocess_input(img)\n",
        "    \n",
        "        # predict the output \n",
        "        preds = model.predict(img)\n",
        "        movie_predictions.append(decode_predictions(preds, top=3)[0])\n",
        "        \n",
        "    pickle.dump(movie_predictions, (open(f\"/content/output/labels/{movie}.p\", \"wb\")))\n",
        "\n",
        "print(f\"TOTAL exectution time: {timer() - time_start} seconds.\")"
      ],
      "execution_count": null,
      "outputs": []
    },
    {
      "cell_type": "code",
      "metadata": {
        "id": "r7aCqNEhsXyi"
      },
      "source": [
        "dir = '/content/output/labels'\n",
        "drive = '/content/drive/My Drive/output/labels'\n",
        "\n",
        "for movie in os.listdir(dir):\n",
        "  if(movie.endswith('.p')):\n",
        "    shutil.copy2(f'{dir}/{movie}', f'{drive}/{movie}')"
      ],
      "execution_count": null,
      "outputs": []
    }
  ]
}