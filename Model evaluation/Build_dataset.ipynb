{
  "nbformat": 4,
  "nbformat_minor": 0,
  "metadata": {
    "colab": {
      "name": "Build_dataset.ipynb",
      "provenance": [],
      "collapsed_sections": []
    },
    "kernelspec": {
      "name": "python3",
      "display_name": "Python 3.8.3 64-bit",
      "metadata": {
        "interpreter": {
          "hash": "e465e424a5f5f4997ecd5b1f530b09852afcd3da5da0b1ae67542ab4f5b6605c"
        }
      }
    }
  },
  "cells": [
    {
      "cell_type": "code",
      "metadata": {
        "id": "lP0EJ6jCza7k",
        "outputId": "62e928de-86dd-4ece-8ae8-9092b218298c",
        "colab": {
          "base_uri": "https://localhost:8080/",
          "height": 91
        }
      },
      "source": [
        "'''\n",
        "Bygge datasett (dtype=vocabulary) med interaction matrix, \n",
        "item feature matrix, feature list.\n",
        "\n",
        "Interaction matrix: \n",
        "    dtype = csr matrix \n",
        "    index = userId, columns = movieId, values = rating(weight)\n",
        "    Se på hvordan weights fungerer og normaliser rating utifra det\n",
        "      create_interaction_matrix() fra recsys cookbook:\n",
        "          Mulighet for å velge threshold - hva som regnes som pos/neg\n",
        "Item feature matrix:\n",
        "    dtype = csr matrix\n",
        "    index = movieId, columns = features/labels, values = binært? normalisert?\n",
        "Item features:\n",
        "    liste over alle item features/labels\n",
        "    Må korrespondere med kolonnene i item feature matrix\n",
        "\n",
        "'''"
      ],
      "execution_count": null,
      "outputs": [
        {
          "output_type": "execute_result",
          "data": {
            "application/vnd.google.colaboratory.intrinsic+json": {
              "type": "string"
            },
            "text/plain": [
              "'\\nBygge datasett (dtype=vocabulary) med interaction matrix, \\nitem feature matrix, feature list.\\n\\nInteraction matrix: \\n    dtype = csr matrix \\n    index = userId, columns = movieId, values = rating(weight)\\n    Se på hvordan weights fungerer og normaliser rating utifra det\\n      create_interaction_matrix() fra recsys cookbook:\\n          Mulighet for å velge threshold - hva som regnes som pos/neg\\nItem feature matrix:\\n    dtype = csr matrix\\n    index = movieId, columns = features/labels, values = binært? normalisert?\\nItem features:\\n    liste over alle item features/labels\\n    Må korrespondere med kolonnene i item feature matrix\\n\\n'"
            ]
          },
          "metadata": {
            "tags": []
          },
          "execution_count": 1
        }
      ]
    },
    {
      "cell_type": "code",
      "metadata": {
        "id": "TDRVFGFSJDN2",
        "outputId": "d89d4bde-3051-40d4-f6ef-3136a096a657",
        "colab": {
          "base_uri": "https://localhost:8080/",
          "height": 291
        }
      },
      "source": [
        "!pip install lightfm\n",
        "!pip install pandas==1.1.0 as pd"
      ],
      "execution_count": null,
      "outputs": [
        {
          "output_type": "stream",
          "text": [
            "Requirement already satisfied: lightfm in /usr/local/lib/python3.6/dist-packages (1.15)\n",
            "Requirement already satisfied: requests in /usr/local/lib/python3.6/dist-packages (from lightfm) (2.23.0)\n",
            "Requirement already satisfied: numpy in /usr/local/lib/python3.6/dist-packages (from lightfm) (1.18.5)\n",
            "Requirement already satisfied: scipy>=0.17.0 in /usr/local/lib/python3.6/dist-packages (from lightfm) (1.4.1)\n",
            "Requirement already satisfied: certifi>=2017.4.17 in /usr/local/lib/python3.6/dist-packages (from requests->lightfm) (2020.6.20)\n",
            "Requirement already satisfied: idna<3,>=2.5 in /usr/local/lib/python3.6/dist-packages (from requests->lightfm) (2.10)\n",
            "Requirement already satisfied: chardet<4,>=3.0.2 in /usr/local/lib/python3.6/dist-packages (from requests->lightfm) (3.0.4)\n",
            "Requirement already satisfied: urllib3!=1.25.0,!=1.25.1,<1.26,>=1.21.1 in /usr/local/lib/python3.6/dist-packages (from requests->lightfm) (1.24.3)\n",
            "Requirement already satisfied: pandas==1.1.0 in /usr/local/lib/python3.6/dist-packages (1.1.0)\n",
            "Requirement already satisfied: as in /usr/local/lib/python3.6/dist-packages (0.1)\n",
            "Requirement already satisfied: pd in /usr/local/lib/python3.6/dist-packages (0.0.1)\n",
            "Requirement already satisfied: python-dateutil>=2.7.3 in /usr/local/lib/python3.6/dist-packages (from pandas==1.1.0) (2.8.1)\n",
            "Requirement already satisfied: numpy>=1.15.4 in /usr/local/lib/python3.6/dist-packages (from pandas==1.1.0) (1.18.5)\n",
            "Requirement already satisfied: pytz>=2017.2 in /usr/local/lib/python3.6/dist-packages (from pandas==1.1.0) (2018.9)\n",
            "Requirement already satisfied: six>=1.5 in /usr/local/lib/python3.6/dist-packages (from python-dateutil>=2.7.3->pandas==1.1.0) (1.15.0)\n"
          ],
          "name": "stdout"
        }
      ]
    },
    {
      "cell_type": "code",
      "metadata": {
        "id": "nQ7Gyvt4wC1q",
        "outputId": "401f37ca-8682-4f01-9589-69a8381e8cf9",
        "colab": {
          "base_uri": "https://localhost:8080/",
          "height": 36
        }
      },
      "source": [
        "'''\n",
        "for data profiling\n",
        "import sys\n",
        "!{sys.executable} -m pip install -U pandas-profiling[notebook]\n",
        "!jupyter nbextension enable --py widgetsnbextension\n",
        "'''"
      ],
      "execution_count": null,
      "outputs": [
        {
          "output_type": "execute_result",
          "data": {
            "application/vnd.google.colaboratory.intrinsic+json": {
              "type": "string"
            },
            "text/plain": [
              "'\\nfor data profiling\\nimport sys\\n!{sys.executable} -m pip install -U pandas-profiling[notebook]\\n!jupyter nbextension enable --py widgetsnbextension\\n'"
            ]
          },
          "metadata": {
            "tags": []
          },
          "execution_count": 2
        }
      ]
    },
    {
      "cell_type": "code",
      "metadata": {
        "id": "CWn-i9yEJHlX",
        "outputId": "74adce00-cbcd-4fe0-9061-80f751b30d92",
        "colab": {
          "base_uri": "https://localhost:8080/",
          "height": 35
        }
      },
      "source": [
        "from google.colab import drive\n",
        "drive.mount('/content/drive', force_remount=True)"
      ],
      "execution_count": null,
      "outputs": [
        {
          "output_type": "stream",
          "text": [
            "Mounted at /content/drive\n"
          ],
          "name": "stdout"
        }
      ]
    },
    {
      "cell_type": "code",
      "metadata": {
        "id": "URmAl7zIJOBG"
      },
      "source": [
        "# Necessary imports\n",
        "import pandas as pd\n",
        "import numpy as np\n",
        "import pickle\n",
        "from pandas_profiling import ProfileReport\n",
        "from scipy.sparse import csr_matrix\n",
        "from scipy.sparse import lil_matrix\n",
        "from sklearn.preprocessing import MinMaxScaler\n",
        "from lightfm.cross_validation import random_train_test_split"
      ],
      "execution_count": null,
      "outputs": []
    },
    {
      "cell_type": "code",
      "metadata": {
        "id": "tpZ_kZM_KNHG"
      },
      "source": [
        "data_dir = '/content/drive/My Drive/Master/Data'\n",
        "'''\n",
        " Load item features and interaction data\n",
        " Item features:\n",
        "    dtype: dict\n",
        "    keys: movie_id, data\n",
        "    data: list of list labels per frame in a movie \n",
        "          (3 tuples with labels pr frame)\n",
        "          [[('feat1_id', 'feat_name', 'confidance),(feat2_id,..)],...]\n",
        "'''\n",
        "\n",
        "# Item features\n",
        "infile = open(f'{data_dir}/labels_dataset_raw (1).p', 'rb')\n",
        "item_features = pickle.load(infile)\n",
        "infile.close()\n",
        "\n",
        "# Subtitle features (loaded here to ensure the same movies in the dsets)\n",
        "infile = open(f'{data_dir}/subs_df.p', 'rb')\n",
        "subs_df = pickle.load(infile)\n",
        "infile.close()\n",
        "\n",
        "'''\n",
        "infile = open(f'{data_dir}/ratings_dataset_raw.p', 'rb')\n",
        "interactions_df = pickle.load(infile)\n",
        "infile.close()\n",
        "infile = open(f'{data_dir}/subs_df.p', 'rb')\n",
        "subs_df = pickle.load(infile)\n",
        "infile.close()\n",
        "movies_df = pd.read_csv(f'{data_dir}/movies (1).csv')\n",
        "'''\n",
        "\n",
        "\n",
        "# Movielens 1M Dataset\n",
        "movies_df = pd.read_csv(f'{data_dir}/movies.dat', \n",
        "                        sep=\"::\", \n",
        "                        usecols = [0, 1], \n",
        "                        names = ['movieId', 'title'], \n",
        "                        engine = 'python')\n",
        "interactions_df = pd.read_csv(f'{data_dir}/ratings.dat', \n",
        "                        sep=\"::\", \n",
        "                        usecols = [0, 1, 2], \n",
        "                        names = ['userId', 'movieId', 'rating'], \n",
        "                        engine = 'python')\n"
      ],
      "execution_count": null,
      "outputs": []
    },
    {
      "cell_type": "code",
      "metadata": {
        "id": "fe33YTNo176O",
        "outputId": "08c22654-2db7-4369-c1ef-9bce91224db9",
        "colab": {
          "base_uri": "https://localhost:8080/",
          "height": 54
        }
      },
      "source": [
        "'''\n",
        "\n",
        "infile = open(f'{data_dir}/labels_dataset_raw (1).p', 'rb')\n",
        "item_features = pickle.load(infile)\n",
        "infile.close()\n",
        "interactions_df = pd.read_csv(f'{data_dir}/ratings.csv')\n",
        "movies_df = pd.read_csv(f'{data_dir}/movies (2).csv')\n",
        "'''"
      ],
      "execution_count": null,
      "outputs": [
        {
          "output_type": "execute_result",
          "data": {
            "application/vnd.google.colaboratory.intrinsic+json": {
              "type": "string"
            },
            "text/plain": [
              "\"\\n\\ninfile = open(f'{data_dir}/labels_dataset_raw (1).p', 'rb')\\nitem_features = pickle.load(infile)\\ninfile.close()\\ninteractions_df = pd.read_csv(f'{data_dir}/ratings.csv')\\nmovies_df = pd.read_csv(f'{data_dir}/movies (2).csv')\\n\""
            ]
          },
          "metadata": {
            "tags": []
          },
          "execution_count": 12
        }
      ]
    },
    {
      "cell_type": "code",
      "metadata": {
        "id": "4FhiAOVOg-bF"
      },
      "source": [
        "final_dataset = {}\n",
        "full_vocab = {}"
      ],
      "execution_count": null,
      "outputs": []
    },
    {
      "cell_type": "code",
      "metadata": {
        "id": "d_XJDUAqEKJX"
      },
      "source": [
        "\n",
        "# Takes a movie dict (keys: movie_id, data)\n",
        "# returns a list of all top labels pr frame occuring in the movie\n",
        "def labels_to_list(data):\n",
        "  movie_labels = []\n",
        "  for frame in data:\n",
        "    word = frame[0][1]\n",
        "    movie_labels.append(word)\n",
        "  return movie_labels\n",
        "# Takes a list of words\n",
        "# Returns a vocab with every unique word and\n",
        "# the number of times it occurs in the list\n",
        "def words_to_vocab(words):\n",
        "  vocab = {}\n",
        "  for word in words:\n",
        "    if word not in vocab.keys():\n",
        "      vocab[word] = 1\n",
        "    else:\n",
        "      vocab[word] += 1\n",
        "  return vocab\n",
        "\n",
        "# Add a word to the global vocabulary\n",
        "def add_to_vocab(word):\n",
        "  if word not in full_vocab.keys():\n",
        "    full_vocab[word] = 1\n",
        "  else: \n",
        "    full_vocab[word] += 1\n",
        "\n",
        "# Creates item features based on confidence\n",
        "def create_confidence_features(movie):\n",
        "  label_dict = dict()\n",
        "  for frame in movie['data']:\n",
        "    word = frame[0][1]\n",
        "    if word not in label_dict.keys():\n",
        "      label_dict[word] = np.array([frame[0][2]])\n",
        "    else:\n",
        "      label_dict[word] = np.append(label_dict[word], frame[0][2])\n",
        "\n",
        "  for word in label_dict.keys():\n",
        "    label_dict[word] = label_dict[word].mean()\n",
        "  \n",
        "  return {'movieId':movie['movie_id'], 'labels':label_dict}\n",
        "\n",
        "def not_in_list(list1, list2):\n",
        "  not_in_list = map(lambda x: x not in list2, list1)\n",
        "  return not_in_list\n"
      ],
      "execution_count": null,
      "outputs": []
    },
    {
      "cell_type": "code",
      "metadata": {
        "id": "RanU1XrtQsp9"
      },
      "source": [
        "# Create DataFrame with label features and their respective confidence\n",
        "\n",
        "conf_features_df = map(create_confidence_features, item_features)\n",
        "conf_features_df = pd.DataFrame.from_records(conf_features_df)\n",
        "conf_features_df['movieId'] = conf_features_df['movieId'].astype(int)"
      ],
      "execution_count": null,
      "outputs": []
    },
    {
      "cell_type": "code",
      "metadata": {
        "id": "CrmNu-1PQeW2"
      },
      "source": [
        "# convert item features (frequency) to df\n",
        "item_features_df = pd.DataFrame.from_records(item_features)\n",
        "item_features_df.rename(columns={'movie_id':'movieId'}, inplace=True)\n",
        "# movies_df.drop(columns='genres', inplace=True)\n",
        "item_features_df['movieId'] = item_features_df['movieId'].astype(int)\n",
        "print(item_features_df.head)"
      ],
      "execution_count": null,
      "outputs": []
    },
    {
      "cell_type": "code",
      "metadata": {
        "id": "3DyiiM7MRBeV",
        "outputId": "f61eff7e-657b-4769-9ee4-a448e3f7f020",
        "colab": {
          "base_uri": "https://localhost:8080/",
          "height": 35
        }
      },
      "source": [
        "# 10M dataset:\n",
        "# Drop half of the movies in the interactions matrix (because of hardware restrictions...)\n",
        "\n",
        "interactions_movies = pd.DataFrame(interactions_df.movieId.unique()).rename(columns={0:'movieId'})\n",
        "rand = np.random.default_rng()\n",
        "to_drop = rand.integers(0,len(interactions_movies.movieId.unique()), \n",
        "                        size=int(len(interactions_df.movieId.unique())/2))\n",
        "interactions_movies.drop(index=to_drop, inplace=True)\n",
        "interactions_df = pd.merge(interactions_df, interactions_movies, on='movieId')\n",
        "len(interactions_df.movieId.unique())"
      ],
      "execution_count": null,
      "outputs": [
        {
          "output_type": "execute_result",
          "data": {
            "text/plain": [
              "6471"
            ]
          },
          "metadata": {
            "tags": []
          },
          "execution_count": 10
        }
      ]
    },
    {
      "cell_type": "code",
      "metadata": {
        "id": "q8uKKV6S2X7-"
      },
      "source": [
        "# Include only overlapping movies\n",
        "\n",
        "features_movies = pd.DataFrame(item_features_df.movieId.unique()).rename(columns={0:'movieId'})\n",
        "\n",
        "features_union_interactions = pd.merge(features_movies, interactions_movies, on='movieId')\n",
        "\n",
        "interactions_df = pd.merge(interactions_df, features_union_interactions, on='movieId')\n",
        "item_features_df = pd.merge(pd.merge(item_features_df, features_union_interactions, on='movieId'), movies_df, on='movieId')\n",
        "conf_features_df = pd.merge(conf_features_df, features_union_interactions, on='movieId')"
      ],
      "execution_count": null,
      "outputs": []
    },
    {
      "cell_type": "code",
      "metadata": {
        "id": "UphvC_szn_Or",
        "outputId": "a5e54b4e-7404-4854-95f3-8238d178969c",
        "colab": {
          "base_uri": "https://localhost:8080/",
          "height": 424
        }
      },
      "source": [
        "item_features_df"
      ],
      "execution_count": null,
      "outputs": [
        {
          "output_type": "execute_result",
          "data": {
            "text/html": [
              "<div>\n",
              "<style scoped>\n",
              "    .dataframe tbody tr th:only-of-type {\n",
              "        vertical-align: middle;\n",
              "    }\n",
              "\n",
              "    .dataframe tbody tr th {\n",
              "        vertical-align: top;\n",
              "    }\n",
              "\n",
              "    .dataframe thead th {\n",
              "        text-align: right;\n",
              "    }\n",
              "</style>\n",
              "<table border=\"1\" class=\"dataframe\">\n",
              "  <thead>\n",
              "    <tr style=\"text-align: right;\">\n",
              "      <th></th>\n",
              "      <th>movieId</th>\n",
              "      <th>data</th>\n",
              "      <th>title</th>\n",
              "    </tr>\n",
              "  </thead>\n",
              "  <tbody>\n",
              "    <tr>\n",
              "      <th>0</th>\n",
              "      <td>89</td>\n",
              "      <td>[[(n02883205, bow_tie, 0.09820818), (n02951585...</td>\n",
              "      <td>Nick of Time (1995)</td>\n",
              "    </tr>\n",
              "    <tr>\n",
              "      <th>1</th>\n",
              "      <td>92</td>\n",
              "      <td>[]</td>\n",
              "      <td>Mary Reilly (1996)</td>\n",
              "    </tr>\n",
              "    <tr>\n",
              "      <th>2</th>\n",
              "      <td>94</td>\n",
              "      <td>[[(n01930112, nematode, 0.045145374), (n042865...</td>\n",
              "      <td>Beautiful Girls (1996)</td>\n",
              "    </tr>\n",
              "    <tr>\n",
              "      <th>3</th>\n",
              "      <td>99</td>\n",
              "      <td>[[(n04589890, window_screen, 0.12671871), (n04...</td>\n",
              "      <td>Heidi Fleiss: Hollywood Madam (1995)</td>\n",
              "    </tr>\n",
              "    <tr>\n",
              "      <th>4</th>\n",
              "      <td>100</td>\n",
              "      <td>[[(n04266014, space_shuttle, 0.58021516), (n03...</td>\n",
              "      <td>City Hall (1996)</td>\n",
              "    </tr>\n",
              "    <tr>\n",
              "      <th>...</th>\n",
              "      <td>...</td>\n",
              "      <td>...</td>\n",
              "      <td>...</td>\n",
              "    </tr>\n",
              "    <tr>\n",
              "      <th>3522</th>\n",
              "      <td>64921</td>\n",
              "      <td>[[(n04266014, space_shuttle, 0.14096697), (n03...</td>\n",
              "      <td>Arabian Nights (1942)</td>\n",
              "    </tr>\n",
              "    <tr>\n",
              "      <th>3523</th>\n",
              "      <td>64926</td>\n",
              "      <td>[[(n03424325, gasmask, 0.12416885), (n03110669...</td>\n",
              "      <td>Battle of Russia, The (Why We Fight, 5) (1943)</td>\n",
              "    </tr>\n",
              "    <tr>\n",
              "      <th>3524</th>\n",
              "      <td>64944</td>\n",
              "      <td>[[(n04239074, sliding_door, 0.13018622), (n034...</td>\n",
              "      <td>Face of a Fugitive (1959)</td>\n",
              "    </tr>\n",
              "    <tr>\n",
              "      <th>3525</th>\n",
              "      <td>65025</td>\n",
              "      <td>[[(n04023962, punching_bag, 0.06733158), (n026...</td>\n",
              "      <td>Double Dynamite (1951)</td>\n",
              "    </tr>\n",
              "    <tr>\n",
              "      <th>3526</th>\n",
              "      <td>65091</td>\n",
              "      <td>[[(n04350905, suit, 0.2829576), (n02883205, bo...</td>\n",
              "      <td>Manhattan Melodrama (1934)</td>\n",
              "    </tr>\n",
              "  </tbody>\n",
              "</table>\n",
              "<p>3527 rows × 3 columns</p>\n",
              "</div>"
            ],
            "text/plain": [
              "      movieId  ...                                           title\n",
              "0          89  ...                             Nick of Time (1995)\n",
              "1          92  ...                              Mary Reilly (1996)\n",
              "2          94  ...                          Beautiful Girls (1996)\n",
              "3          99  ...            Heidi Fleiss: Hollywood Madam (1995)\n",
              "4         100  ...                                City Hall (1996)\n",
              "...       ...  ...                                             ...\n",
              "3522    64921  ...                           Arabian Nights (1942)\n",
              "3523    64926  ...  Battle of Russia, The (Why We Fight, 5) (1943)\n",
              "3524    64944  ...                       Face of a Fugitive (1959)\n",
              "3525    65025  ...                          Double Dynamite (1951)\n",
              "3526    65091  ...                      Manhattan Melodrama (1934)\n",
              "\n",
              "[3527 rows x 3 columns]"
            ]
          },
          "metadata": {
            "tags": []
          },
          "execution_count": 14
        }
      ]
    },
    {
      "cell_type": "code",
      "metadata": {
        "id": "UDJlf_n03gu3"
      },
      "source": [
        "pickle.dump(interactions_df, (open('/content/drive/My Drive/Master/Data/1Minteractions_df.p', 'wb')))\n",
        "pickle.dump(item_features_df, (open('/content/drive/My Drive/Master/Data/1Mitem_features_df.p', 'wb')))\n",
        "pickle.dump(conf_features_df, (open('/content/drive/My Drive/Master/Data/1Mconf_features_df.p', 'wb')))\n",
        "pickle.dump(subs_df, (open('/content/drive/My Drive/Master/Data/1Msubs_df.p', 'wb')))"
      ],
      "execution_count": null,
      "outputs": []
    },
    {
      "cell_type": "code",
      "metadata": {
        "id": "q9xaodJV35uQ"
      },
      "source": [
        "infile = open(f'/content/drive/My Drive/Master/Data/1Mitem_features_df.p', 'rb')\n",
        "item_features_df = pickle.load(infile)\n",
        "infile.close()\n",
        "infile = open(f'/content/drive/My Drive/Master/Data/1Minteractions_df.p', 'rb')\n",
        "interactions_df = pickle.load(infile)\n",
        "infile.close()\n",
        "infile = open(f'/content/drive/My Drive/Master/Data/1Mconf_features_df.p', 'rb')\n",
        "conf_features_df = pickle.load(infile)\n",
        "infile.close()\n",
        "infile = open(f'/content/drive/My Drive/Master/Data/1Msubs_df.p', 'rb')\n",
        "subs_df = pickle.load(infile)\n",
        "infile.close()\n",
        "# interactions_df.drop(columns='timestamp', inplace=True)"
      ],
      "execution_count": null,
      "outputs": []
    },
    {
      "cell_type": "code",
      "metadata": {
        "id": "bFmofp8P-Twz"
      },
      "source": [
        "def create_interaction_matrix(df,user_col, item_col, rating_col, norm= False, threshold = None):\n",
        "    '''\n",
        "    @author: Aayush Agrawal\n",
        "    @source: https://github.com/aayushmnit/cookbook/blob/master/recsys.py\n",
        "    \n",
        "    Function to create an interaction matrix dataframe from transactional type interactions\n",
        "    Required Input -\n",
        "        - df = Pandas DataFrame containing user-item interactions\n",
        "        - user_col = column name containing user's identifier\n",
        "        - item_col = column name containing item's identifier\n",
        "        - rating col = column name containing user feedback on interaction with a given item\n",
        "        - norm (optional) = True if a normalization of ratings is needed\n",
        "        - threshold (required if norm = True) = value above which the rating is favorable\n",
        "    Expected output - \n",
        "        - Pandas dataframe with user-item interactions ready to be fed in a recommendation algorithm\n",
        "    '''\n",
        "    interactions = df.groupby([user_col, item_col])[rating_col] \\\n",
        "            .sum().unstack().reset_index(). \\\n",
        "            fillna(0).set_index(user_col)\n",
        "    if norm:\n",
        "        interactions = interactions.applymap(lambda x: 1 if x > threshold else 0)\n",
        "    return interactions\n",
        "\n",
        "\n",
        "def create_user_dict(interactions):\n",
        "    '''\n",
        "    @author: Aayush Agrawal\n",
        "    @source: https://github.com/aayushmnit/cookbook/blob/master/recsys.py\n",
        "\n",
        "    Function to create a user dictionary based on their index and number in interaction dataset\n",
        "    Required Input - \n",
        "        interactions - dataset created by create_interaction_matrix\n",
        "    Expected Output -\n",
        "        user_dict - Dictionary type output containing interaction_index as key and user_id as value\n",
        "    '''\n",
        "    user_id = list(interactions.index)\n",
        "    user_dict = {}\n",
        "    counter = 0 \n",
        "    for i in user_id:\n",
        "        user_dict[i] = counter\n",
        "        counter += 1\n",
        "    return user_dict\n",
        "\n",
        "def create_item_dict(df,id_col,name_col):\n",
        "\n",
        "    item_dict ={}\n",
        "    for movie, c in df.iterrows():\n",
        "      item_dict[(df.loc[movie, id_col])] = df.loc[movie, name_col]\n",
        "    \n",
        "    return item_dict"
      ],
      "execution_count": null,
      "outputs": []
    },
    {
      "cell_type": "code",
      "metadata": {
        "id": "IdOfzxdQ24ec"
      },
      "source": [
        "# interactions_df_split = np.array_split(interactions_df, 100)\n"
      ],
      "execution_count": null,
      "outputs": []
    },
    {
      "cell_type": "code",
      "metadata": {
        "id": "LX3AsORnAG-y"
      },
      "source": [
        "'''\n",
        "interactions_temp = []\n",
        "# Create interaction matrix as df, where only ratings 4+ are considered positive\n",
        "for df in interactions_df_split:\n",
        "  interactions_temp.append(create_interaction_matrix(df, 'userId', 'movieId', 'rating', norm=True, threshold=3.4))\n",
        "'''"
      ],
      "execution_count": null,
      "outputs": []
    },
    {
      "cell_type": "code",
      "metadata": {
        "id": "OW9DkmD_-U5G"
      },
      "source": [
        "interaction_matrix = create_interaction_matrix(interactions_df, 'userId', 'movieId', 'rating', norm=True, threshold=3.9)\n",
        "interaction_matrix_nonbinary = create_interaction_matrix(interactions_df, 'userId', 'movieId', 'rating')"
      ],
      "execution_count": null,
      "outputs": []
    },
    {
      "cell_type": "code",
      "metadata": {
        "id": "9rqqnMMVOsED",
        "outputId": "8ab61aeb-29ab-4d64-c13e-1f30f2a5dc03",
        "colab": {
          "base_uri": "https://localhost:8080/",
          "height": 35
        }
      },
      "source": [
        "interactions_dense = csr_matrix(interaction_matrix).todense()\n",
        "sparsity = float(len(interactions_dense.nonzero()[0]))\n",
        "sparsity /= (interactions_dense.shape[0] * interactions_dense.shape[1])\n",
        "sparsity *= 100\n",
        "print('Sparsity: {:4.2f}%'.format(sparsity))"
      ],
      "execution_count": null,
      "outputs": [
        {
          "output_type": "stream",
          "text": [
            "Sparsity: 0.86%\n"
          ],
          "name": "stdout"
        }
      ]
    },
    {
      "cell_type": "code",
      "metadata": {
        "id": "7gf47jeCA2Zq"
      },
      "source": [
        "'''\n",
        "interaction_matrix = None\n",
        "for df in interactions_temp:\n",
        "  if interaction_matrix is None:\n",
        "    interaction_matrix = df\n",
        "  else:\n",
        "    interaction_matrix.append(df)\n",
        "'''\n",
        "\n",
        "# Create user dict\n",
        "user_dict = create_user_dict(interaction_matrix)\n",
        "\n",
        "# Create item dict\n",
        "item_dict = create_item_dict(item_features_df, 'movieId', 'title')"
      ],
      "execution_count": null,
      "outputs": []
    },
    {
      "cell_type": "code",
      "metadata": {
        "id": "qJTKK22ux-JZ",
        "outputId": "70e5afc8-e29d-48e1-b574-14f240656eb5",
        "colab": {
          "base_uri": "https://localhost:8080/",
          "height": 424
        }
      },
      "source": [
        "item_features_df"
      ],
      "execution_count": null,
      "outputs": [
        {
          "output_type": "execute_result",
          "data": {
            "text/html": [
              "<div>\n",
              "<style scoped>\n",
              "    .dataframe tbody tr th:only-of-type {\n",
              "        vertical-align: middle;\n",
              "    }\n",
              "\n",
              "    .dataframe tbody tr th {\n",
              "        vertical-align: top;\n",
              "    }\n",
              "\n",
              "    .dataframe thead th {\n",
              "        text-align: right;\n",
              "    }\n",
              "</style>\n",
              "<table border=\"1\" class=\"dataframe\">\n",
              "  <thead>\n",
              "    <tr style=\"text-align: right;\">\n",
              "      <th></th>\n",
              "      <th>movieId</th>\n",
              "      <th>data</th>\n",
              "      <th>title</th>\n",
              "    </tr>\n",
              "  </thead>\n",
              "  <tbody>\n",
              "    <tr>\n",
              "      <th>0</th>\n",
              "      <td>89</td>\n",
              "      <td>[[(n02883205, bow_tie, 0.09820818), (n02951585...</td>\n",
              "      <td>Nick of Time (1995)</td>\n",
              "    </tr>\n",
              "    <tr>\n",
              "      <th>1</th>\n",
              "      <td>92</td>\n",
              "      <td>[]</td>\n",
              "      <td>Mary Reilly (1996)</td>\n",
              "    </tr>\n",
              "    <tr>\n",
              "      <th>2</th>\n",
              "      <td>94</td>\n",
              "      <td>[[(n01930112, nematode, 0.045145374), (n042865...</td>\n",
              "      <td>Beautiful Girls (1996)</td>\n",
              "    </tr>\n",
              "    <tr>\n",
              "      <th>3</th>\n",
              "      <td>99</td>\n",
              "      <td>[[(n04589890, window_screen, 0.12671871), (n04...</td>\n",
              "      <td>Heidi Fleiss: Hollywood Madam (1995)</td>\n",
              "    </tr>\n",
              "    <tr>\n",
              "      <th>4</th>\n",
              "      <td>100</td>\n",
              "      <td>[[(n04266014, space_shuttle, 0.58021516), (n03...</td>\n",
              "      <td>City Hall (1996)</td>\n",
              "    </tr>\n",
              "    <tr>\n",
              "      <th>...</th>\n",
              "      <td>...</td>\n",
              "      <td>...</td>\n",
              "      <td>...</td>\n",
              "    </tr>\n",
              "    <tr>\n",
              "      <th>3522</th>\n",
              "      <td>64921</td>\n",
              "      <td>[[(n04266014, space_shuttle, 0.14096697), (n03...</td>\n",
              "      <td>Arabian Nights (1942)</td>\n",
              "    </tr>\n",
              "    <tr>\n",
              "      <th>3523</th>\n",
              "      <td>64926</td>\n",
              "      <td>[[(n03424325, gasmask, 0.12416885), (n03110669...</td>\n",
              "      <td>Battle of Russia, The (Why We Fight, 5) (1943)</td>\n",
              "    </tr>\n",
              "    <tr>\n",
              "      <th>3524</th>\n",
              "      <td>64944</td>\n",
              "      <td>[[(n04239074, sliding_door, 0.13018622), (n034...</td>\n",
              "      <td>Face of a Fugitive (1959)</td>\n",
              "    </tr>\n",
              "    <tr>\n",
              "      <th>3525</th>\n",
              "      <td>65025</td>\n",
              "      <td>[[(n04023962, punching_bag, 0.06733158), (n026...</td>\n",
              "      <td>Double Dynamite (1951)</td>\n",
              "    </tr>\n",
              "    <tr>\n",
              "      <th>3526</th>\n",
              "      <td>65091</td>\n",
              "      <td>[[(n04350905, suit, 0.2829576), (n02883205, bo...</td>\n",
              "      <td>Manhattan Melodrama (1934)</td>\n",
              "    </tr>\n",
              "  </tbody>\n",
              "</table>\n",
              "<p>3527 rows × 3 columns</p>\n",
              "</div>"
            ],
            "text/plain": [
              "      movieId  ...                                           title\n",
              "0          89  ...                             Nick of Time (1995)\n",
              "1          92  ...                              Mary Reilly (1996)\n",
              "2          94  ...                          Beautiful Girls (1996)\n",
              "3          99  ...            Heidi Fleiss: Hollywood Madam (1995)\n",
              "4         100  ...                                City Hall (1996)\n",
              "...       ...  ...                                             ...\n",
              "3522    64921  ...                           Arabian Nights (1942)\n",
              "3523    64926  ...  Battle of Russia, The (Why We Fight, 5) (1943)\n",
              "3524    64944  ...                       Face of a Fugitive (1959)\n",
              "3525    65025  ...                          Double Dynamite (1951)\n",
              "3526    65091  ...                      Manhattan Melodrama (1934)\n",
              "\n",
              "[3527 rows x 3 columns]"
            ]
          },
          "metadata": {
            "tags": []
          },
          "execution_count": 21
        }
      ]
    },
    {
      "cell_type": "code",
      "metadata": {
        "id": "7bhxf7CjOHD6"
      },
      "source": [
        "# Change item feature dataframe so that every feature has its own column, and\n",
        "# value in each column is the number for occurencies for the particular film.\n",
        "\n",
        "for movie in item_features_df.itertuples():\n",
        "  corpus = words_to_vocab(labels_to_list(movie[2])) \n",
        "  for key in corpus.keys():\n",
        "    if key in item_features_df.columns and not np.isnan(item_features_df.at[movie[0], key]):\n",
        "      item_features_df.at[movie[0], key] += corpus[key]\n",
        "      add_to_vocab(key)\n",
        "    else:\n",
        "      item_features_df.at[movie[0], key] = corpus[key]\n",
        "      add_to_vocab(key)\n",
        "\n",
        "\n",
        "item_features_df.drop(columns='data', inplace=True)\n",
        "item_features_df = item_features_df.reset_index()"
      ],
      "execution_count": null,
      "outputs": []
    },
    {
      "cell_type": "code",
      "metadata": {
        "id": "ArzZGoOYcYyA"
      },
      "source": [
        "# Convert item_features to csr matrix\n",
        "item_features_df['movieId'] = item_features_df['movieId'].astype(int)\n",
        "item_features_df = item_features_df.sort_values('movieId').reset_index().drop(['index', 'title'], axis=1)\n",
        "item_features_df.replace(np.nan, 0, inplace=True)\n",
        "item_features_csr = csr_matrix(item_features_df.drop(['movieId', 'level_0'], axis=1).values)"
      ],
      "execution_count": null,
      "outputs": []
    },
    {
      "cell_type": "code",
      "metadata": {
        "id": "rqcBpJbXdjWA"
      },
      "source": [
        "# Normalize item features\n",
        "\n",
        "scaler = MinMaxScaler()\n",
        "item_features_csr = csr_matrix(scaler.fit_transform(item_features_csr.todense()))"
      ],
      "execution_count": null,
      "outputs": []
    },
    {
      "cell_type": "code",
      "metadata": {
        "id": "MSxP3rh044ev",
        "outputId": "8d6e5f6d-58d2-4386-e163-d7e2d01aa82c",
        "colab": {
          "base_uri": "https://localhost:8080/",
          "height": 54
        }
      },
      "source": [
        "'''\n",
        "Remove users with less than 5 interactions???\n",
        "'''\n",
        "\n",
        "'''\n",
        "users = []\n",
        "interaction_matrix = interaction_matrix\n",
        "for user, content in interaction_matrix.iterrows():\n",
        "  if content.sum() < 5:\n",
        "    interaction_matrix.drop(index=user, inplace=True)\n",
        "    \n",
        "user_dict = create_user_dict(interaction_matrix)\n",
        "\n",
        "'''"
      ],
      "execution_count": null,
      "outputs": [
        {
          "output_type": "execute_result",
          "data": {
            "application/vnd.google.colaboratory.intrinsic+json": {
              "type": "string"
            },
            "text/plain": [
              "'\\nusers = []\\ninteractions_matrix = interactions_matrix\\nfor user, content in interactions_matrix.iterrows():\\n  if content.sum() < 5:\\n    interactions_matrix.drop(index=user, inplace=True)\\n    \\nuser_dict = create_user_dict(interactions_matrix)\\n\\n'"
            ]
          },
          "metadata": {
            "tags": []
          },
          "execution_count": 20
        }
      ]
    },
    {
      "cell_type": "code",
      "metadata": {
        "id": "R9xCsrGmMTHq"
      },
      "source": [
        "'''\n",
        "Split method that enables specification of minimum user-item\n",
        "interactions for the users that are moved to the test set\n",
        "'''\n",
        "\n",
        "\n",
        "def train_test_split(interactions, split_count, fraction=0.2):\n",
        "  \n",
        "  '''\n",
        "  source: https://www.ethanrosenthal.com/2016/10/19/implicit-mf-part-1/\n",
        "  interactions : scipy.sparse matrix\n",
        "                Interactions between users and items.     \n",
        "  split_count : int         \n",
        "                Number of user-item-interactions per user to move \n",
        "                from training to test set.     \n",
        "  fractions : float         \n",
        "              Fraction of users to split off some of their \n",
        "              interactions into test set. If None, then all \n",
        "              users are considered.\n",
        "  '''\n",
        "  \n",
        "  train = interactions.copy().tocoo()\n",
        "  test = lil_matrix(train.shape)\n",
        "    \n",
        "  if fraction:\n",
        "    try:\n",
        "      user_index = np.random.choice(\n",
        "          np.where(np.bincount(train.row) >= split_count * 2)[0], \n",
        "          replace=False,\n",
        "          size=np.int32(np.floor(fraction * train.shape[0]))\n",
        "      ).tolist()\n",
        "    except:\n",
        "      print(('Not enough users with > {} '\n",
        "            'interactions for fraction of {}')\\\n",
        "            .format(2*k, fraction))\n",
        "      raise\n",
        "  else:\n",
        "    user_index = range(train.shape[0])\n",
        "      \n",
        "  train = train.tolil()\n",
        "\n",
        "  for user in user_index:\n",
        "    test_ratings = np.random.choice(interactions.getrow(user).indices, \n",
        "                                    size=split_count, \n",
        "                                    replace=False)\n",
        "    train[user, test_ratings] = 0.\n",
        "    # These are just 1.0 right now\n",
        "    test[user, test_ratings] = interactions[user, test_ratings]\n",
        "  \n",
        "  \n",
        "  # Test and training are truly disjoint\n",
        "  assert(train.multiply(test).nnz == 0)\n",
        "  return train.tocsr(), test.tocsr(), user_index\n",
        "\n"
      ],
      "execution_count": null,
      "outputs": []
    },
    {
      "cell_type": "code",
      "metadata": {
        "id": "oshBVI2rfQIn",
        "outputId": "b0cc6dbe-77b8-4979-f0c0-716e697ed6a1",
        "colab": {
          "base_uri": "https://localhost:8080/",
          "height": 36
        }
      },
      "source": [
        "# Run if only users with >= 10 interactions should be moved to test set\n",
        "'''\n",
        "interaction_matrix_csr = csr_matrix(interaction_matrix)\n",
        "train, test, user_index = train_test_split(interaction_matrix_csr, 5)\n",
        "'''"
      ],
      "execution_count": null,
      "outputs": [
        {
          "output_type": "execute_result",
          "data": {
            "application/vnd.google.colaboratory.intrinsic+json": {
              "type": "string"
            },
            "text/plain": [
              "'\\ninteractions_matrix_csr = csr_matrix(interactions_matrix)\\ntrain, test, user_index = train_test_split(interactions_matrix_csr, 5)\\n'"
            ]
          },
          "metadata": {
            "tags": []
          },
          "execution_count": 22
        }
      ]
    },
    {
      "cell_type": "code",
      "metadata": {
        "id": "KvqujysMhS6g"
      },
      "source": [
        "# Run if num of interactions should not be considered when splitting\n",
        "train, test = random_train_test_split(csr_matrix(interaction_matrix), test_percentage=0.2)\n",
        "train_nonbinary, test_nonbinary = random_train_test_split(csr_matrix(interaction_matrix_nonbinary), test_percentage=0.2)"
      ],
      "execution_count": null,
      "outputs": []
    },
    {
      "cell_type": "code",
      "metadata": {
        "id": "bSXPyof6gGLx"
      },
      "source": [
        "final_dataset['item_features'] = item_features_csr\n",
        "final_dataset['interactions'] = csr_matrix(interaction_matrix)\n",
        "final_dataset['train'] = train\n",
        "final_dataset['test'] = test\n",
        "final_dataset['full_vocab'] = full_vocab\n",
        "final_dataset['user_dict'] = user_dict\n",
        "final_dataset['item_dict'] = item_dict\n",
        "final_dataset['train_nonbinary'] = train_nonbinary\n",
        "final_dataset['test_nonbinary'] = test_nonbinary\n",
        "final_dataset['interactions_df_nonbinary'] = interactions_df"
      ],
      "execution_count": null,
      "outputs": []
    },
    {
      "cell_type": "code",
      "metadata": {
        "id": "J-yk1JciAt_L"
      },
      "source": [
        "'''\n",
        "Add confidence features and subtitle features to full vocab\n",
        "'''"
      ],
      "execution_count": null,
      "outputs": []
    },
    {
      "cell_type": "code",
      "metadata": {
        "id": "H7-98QismO3F",
        "outputId": "b7335c71-ad3e-4544-cce1-e1974d49269b",
        "colab": {
          "base_uri": "https://localhost:8080/",
          "height": 424
        }
      },
      "source": [
        "conf_features_df"
      ],
      "execution_count": null,
      "outputs": [
        {
          "output_type": "execute_result",
          "data": {
            "text/html": [
              "<div>\n",
              "<style scoped>\n",
              "    .dataframe tbody tr th:only-of-type {\n",
              "        vertical-align: middle;\n",
              "    }\n",
              "\n",
              "    .dataframe tbody tr th {\n",
              "        vertical-align: top;\n",
              "    }\n",
              "\n",
              "    .dataframe thead th {\n",
              "        text-align: right;\n",
              "    }\n",
              "</style>\n",
              "<table border=\"1\" class=\"dataframe\">\n",
              "  <thead>\n",
              "    <tr style=\"text-align: right;\">\n",
              "      <th></th>\n",
              "      <th>movieId</th>\n",
              "      <th>labels</th>\n",
              "    </tr>\n",
              "  </thead>\n",
              "  <tbody>\n",
              "    <tr>\n",
              "      <th>0</th>\n",
              "      <td>89</td>\n",
              "      <td>{'bow_tie': 0.1502389, 'spotlight': 0.11706595...</td>\n",
              "    </tr>\n",
              "    <tr>\n",
              "      <th>1</th>\n",
              "      <td>92</td>\n",
              "      <td>{}</td>\n",
              "    </tr>\n",
              "    <tr>\n",
              "      <th>2</th>\n",
              "      <td>94</td>\n",
              "      <td>{'nematode': 0.045145374, 'spotlight': 0.04144...</td>\n",
              "    </tr>\n",
              "    <tr>\n",
              "      <th>3</th>\n",
              "      <td>99</td>\n",
              "      <td>{'window_screen': 0.13067606, 'English_foxhoun...</td>\n",
              "    </tr>\n",
              "    <tr>\n",
              "      <th>4</th>\n",
              "      <td>100</td>\n",
              "      <td>{'space_shuttle': 0.32458422, 'bearskin': 0.61...</td>\n",
              "    </tr>\n",
              "    <tr>\n",
              "      <th>...</th>\n",
              "      <td>...</td>\n",
              "      <td>...</td>\n",
              "    </tr>\n",
              "    <tr>\n",
              "      <th>3522</th>\n",
              "      <td>64921</td>\n",
              "      <td>{'space_shuttle': 0.16505651, 'digital_clock':...</td>\n",
              "    </tr>\n",
              "    <tr>\n",
              "      <th>3523</th>\n",
              "      <td>64926</td>\n",
              "      <td>{'gasmask': 0.09172113, 'chain': 0.13236615, '...</td>\n",
              "    </tr>\n",
              "    <tr>\n",
              "      <th>3524</th>\n",
              "      <td>64944</td>\n",
              "      <td>{'sliding_door': 0.1034712, 'military_uniform'...</td>\n",
              "    </tr>\n",
              "    <tr>\n",
              "      <th>3525</th>\n",
              "      <td>65025</td>\n",
              "      <td>{'punching_bag': 0.06733158, 'cinema': 0.28765...</td>\n",
              "    </tr>\n",
              "    <tr>\n",
              "      <th>3526</th>\n",
              "      <td>65091</td>\n",
              "      <td>{'suit': 0.4134732, 'mask': 0.114067554, 'barb...</td>\n",
              "    </tr>\n",
              "  </tbody>\n",
              "</table>\n",
              "<p>3527 rows × 2 columns</p>\n",
              "</div>"
            ],
            "text/plain": [
              "      movieId                                             labels\n",
              "0          89  {'bow_tie': 0.1502389, 'spotlight': 0.11706595...\n",
              "1          92                                                 {}\n",
              "2          94  {'nematode': 0.045145374, 'spotlight': 0.04144...\n",
              "3          99  {'window_screen': 0.13067606, 'English_foxhoun...\n",
              "4         100  {'space_shuttle': 0.32458422, 'bearskin': 0.61...\n",
              "...       ...                                                ...\n",
              "3522    64921  {'space_shuttle': 0.16505651, 'digital_clock':...\n",
              "3523    64926  {'gasmask': 0.09172113, 'chain': 0.13236615, '...\n",
              "3524    64944  {'sliding_door': 0.1034712, 'military_uniform'...\n",
              "3525    65025  {'punching_bag': 0.06733158, 'cinema': 0.28765...\n",
              "3526    65091  {'suit': 0.4134732, 'mask': 0.114067554, 'barb...\n",
              "\n",
              "[3527 rows x 2 columns]"
            ]
          },
          "metadata": {
            "tags": []
          },
          "execution_count": 20
        }
      ]
    },
    {
      "cell_type": "code",
      "metadata": {
        "id": "7EJv0JduO2pE"
      },
      "source": [
        "# Change item feature dataframe so that every feature has its own column, and\n",
        "# value in each column is the number for occurencies for the particular film.\n",
        "\n",
        "for movie in conf_features_df.itertuples():\n",
        "  corpus = movie[2]\n",
        "  for key in corpus.keys():\n",
        "      conf_features_df.at[movie[0], key] = corpus[key]\n",
        "\n",
        "\n",
        "conf_features_df.drop(columns='labels', inplace=True)\n",
        "conf_features_df = conf_features_df.reset_index()"
      ],
      "execution_count": null,
      "outputs": []
    },
    {
      "cell_type": "code",
      "metadata": {
        "id": "R25-Bkm8Xk4n"
      },
      "source": [
        "# Convert item_features to csr matrix\n",
        "conf_features_df['movieId'] = conf_features_df['movieId'].astype(int)\n",
        "conf_features_df = conf_features_df.sort_values('movieId').reset_index().drop(['index'], axis=1)\n",
        "conf_features_df.replace(np.nan, 0, inplace=True)\n",
        "conf_features_csr = csr_matrix(conf_features_df.drop(['movieId', 'level_0'], axis=1).values)"
      ],
      "execution_count": null,
      "outputs": []
    },
    {
      "cell_type": "code",
      "metadata": {
        "id": "YNbFYRMOX8rP"
      },
      "source": [
        "final_dataset['conf_features'] = conf_features_csr"
      ],
      "execution_count": null,
      "outputs": []
    },
    {
      "cell_type": "code",
      "metadata": {
        "id": "rvFf4BmNZ_fj"
      },
      "source": [
        "subs_vocab = subs_df.drop(columns='movieId').sum(axis=0).to_dict()"
      ],
      "execution_count": null,
      "outputs": []
    },
    {
      "cell_type": "code",
      "metadata": {
        "id": "R1RXKhyJYI2H"
      },
      "source": [
        "subs_df['movieId'] = subs_df['movieId'].astype(int)\n",
        "subs_df = subs_df.sort_values('movieId').reset_index().drop(['index'], axis=1)\n",
        "subs_df.replace(np.nan, 0, inplace=True)\n",
        "subs_csr = csr_matrix(subs_df.drop(['movieId', 'level_0'], axis=1).values)"
      ],
      "execution_count": null,
      "outputs": []
    },
    {
      "cell_type": "code",
      "metadata": {
        "id": "Okj39u-htsYh"
      },
      "source": [
        "scaler = MinMaxScaler()\n",
        "subs_csr = csr_matrix(scaler.fit_transform(subs_csr.todense()))"
      ],
      "execution_count": null,
      "outputs": []
    },
    {
      "cell_type": "code",
      "metadata": {
        "id": "Cxy-zN9IvAO0"
      },
      "source": [
        "final_dataset['subs_features'] = subs_csr\n",
        "final_dataset['subs_vocab'] = subs_vocab"
      ],
      "execution_count": null,
      "outputs": []
    },
    {
      "cell_type": "code",
      "metadata": {
        "id": "Reg-YjNV5dm2",
        "outputId": "310b1171-a77b-4e14-97af-025e57264176",
        "colab": {
          "base_uri": "https://localhost:8080/",
          "height": 36
        }
      },
      "source": [
        "# Pandas profile report for interactions\n",
        "'''\n",
        "report = ProfileReport(interactions_df, title='Pandas profiling report', minimal=False)\n",
        "report.to_file('/content/drive/My Drive/Master/profiler_interactions.html')\n",
        "'''"
      ],
      "execution_count": null,
      "outputs": [
        {
          "output_type": "execute_result",
          "data": {
            "application/vnd.google.colaboratory.intrinsic+json": {
              "type": "string"
            },
            "text/plain": [
              "\"\\nreport = ProfileReport(interactions_df, title='Pandas profiling report', minimal=False)\\nreport.to_file('/content/drive/My Drive/Master/profiler_interactions.html')\\n\""
            ]
          },
          "metadata": {
            "tags": []
          },
          "execution_count": 25
        }
      ]
    },
    {
      "cell_type": "code",
      "metadata": {
        "id": "mKyapCcOuXpu",
        "outputId": "37610345-4dc1-497b-f30d-17e10c6c3139",
        "colab": {
          "base_uri": "https://localhost:8080/",
          "height": 54
        }
      },
      "source": [
        "# Pandas profile report for item features\n",
        "'''\n",
        "item_features_norm_df = pd.DataFrame(item_features_csr.todense())\n",
        "report = ProfileReport(item_features_norm_df, title='Pandas profiling report', minimal=True)\n",
        "report.to_file('/content/drive/My Drive/Master/profiler_items.html')\n",
        "'''"
      ],
      "execution_count": null,
      "outputs": [
        {
          "output_type": "execute_result",
          "data": {
            "application/vnd.google.colaboratory.intrinsic+json": {
              "type": "string"
            },
            "text/plain": [
              "\"\\nitem_features_norm_df = pd.DataFrame(item_features_csr.todense())\\nreport = ProfileReport(item_features_norm_df, title='Pandas profiling report', minimal=True)\\nreport.to_file('/content/drive/My Drive/Master/profiler_items.html')\\n\""
            ]
          },
          "metadata": {
            "tags": []
          },
          "execution_count": 26
        }
      ]
    },
    {
      "cell_type": "code",
      "metadata": {
        "id": "btKZGo53DoV-"
      },
      "source": [
        "pickle.dump(final_dataset, (open('/content/drive/My Drive/Master/Data/10Mdatasets.p', 'wb')))"
      ],
      "execution_count": null,
      "outputs": []
    },
    {
      "cell_type": "code",
      "metadata": {
        "id": "nzgmdUsSQwnO",
        "outputId": "a464c6f9-3fa3-4ceb-f19a-799a07bd3ae6",
        "colab": {
          "base_uri": "https://localhost:8080/",
          "height": 36
        }
      },
      "source": [
        "'''\n",
        "\n",
        "The next part will build a dataset for recommendations based on genre\n",
        "\n",
        "'''"
      ],
      "execution_count": null,
      "outputs": [
        {
          "output_type": "execute_result",
          "data": {
            "application/vnd.google.colaboratory.intrinsic+json": {
              "type": "string"
            },
            "text/plain": [
              "'\\n\\nThe next part will build a dataset for recommendations based on genre\\n\\n'"
            ]
          },
          "metadata": {
            "tags": []
          },
          "execution_count": 28
        }
      ]
    },
    {
      "cell_type": "code",
      "metadata": {
        "id": "rkzGl8djRJP_",
        "outputId": "593558ff-04e1-4070-f495-6af0c142c642",
        "colab": {
          "base_uri": "https://localhost:8080/",
          "height": 424
        }
      },
      "source": [
        "infile = open('/content/drive/My Drive/Master/Data/10Mdatasets.p', 'rb')\n",
        "final_dataset = pickle.load(infile)\n",
        "infile.close()\n",
        "\n",
        "movies_df = pd.read_csv(f'{data_dir}/10Mmovies.dat', \n",
        "                        sep=\"::\", \n",
        "                        usecols = [0, 1, 2], \n",
        "                        names = ['movieId', 'title', 'genres'], \n",
        "                        engine = 'python')\n",
        "\n",
        "movies_df = movies_df.merge(pd.DataFrame(data=interactions_df.\n",
        "                                         movieId.unique()).\n",
        "                            rename(columns={0:'movieId'}), on='movieId')\n",
        "movies_df.genres = movies_df.genres.apply(lambda x: list(x.split('|')))\n",
        "movies_df"
      ],
      "execution_count": null,
      "outputs": [
        {
          "output_type": "execute_result",
          "data": {
            "text/html": [
              "<div>\n",
              "<style scoped>\n",
              "    .dataframe tbody tr th:only-of-type {\n",
              "        vertical-align: middle;\n",
              "    }\n",
              "\n",
              "    .dataframe tbody tr th {\n",
              "        vertical-align: top;\n",
              "    }\n",
              "\n",
              "    .dataframe thead th {\n",
              "        text-align: right;\n",
              "    }\n",
              "</style>\n",
              "<table border=\"1\" class=\"dataframe\">\n",
              "  <thead>\n",
              "    <tr style=\"text-align: right;\">\n",
              "      <th></th>\n",
              "      <th>movieId</th>\n",
              "      <th>title</th>\n",
              "      <th>genres</th>\n",
              "    </tr>\n",
              "  </thead>\n",
              "  <tbody>\n",
              "    <tr>\n",
              "      <th>0</th>\n",
              "      <td>89</td>\n",
              "      <td>Nick of Time (1995)</td>\n",
              "      <td>[Action, Thriller]</td>\n",
              "    </tr>\n",
              "    <tr>\n",
              "      <th>1</th>\n",
              "      <td>92</td>\n",
              "      <td>Mary Reilly (1996)</td>\n",
              "      <td>[Drama, Horror, Thriller]</td>\n",
              "    </tr>\n",
              "    <tr>\n",
              "      <th>2</th>\n",
              "      <td>94</td>\n",
              "      <td>Beautiful Girls (1996)</td>\n",
              "      <td>[Comedy, Drama, Romance]</td>\n",
              "    </tr>\n",
              "    <tr>\n",
              "      <th>3</th>\n",
              "      <td>99</td>\n",
              "      <td>Heidi Fleiss: Hollywood Madam (1995)</td>\n",
              "      <td>[Documentary]</td>\n",
              "    </tr>\n",
              "    <tr>\n",
              "      <th>4</th>\n",
              "      <td>100</td>\n",
              "      <td>City Hall (1996)</td>\n",
              "      <td>[Drama, Thriller]</td>\n",
              "    </tr>\n",
              "    <tr>\n",
              "      <th>...</th>\n",
              "      <td>...</td>\n",
              "      <td>...</td>\n",
              "      <td>...</td>\n",
              "    </tr>\n",
              "    <tr>\n",
              "      <th>3522</th>\n",
              "      <td>64921</td>\n",
              "      <td>Arabian Nights (1942)</td>\n",
              "      <td>[Action, Adventure]</td>\n",
              "    </tr>\n",
              "    <tr>\n",
              "      <th>3523</th>\n",
              "      <td>64926</td>\n",
              "      <td>Battle of Russia, The (Why We Fight, 5) (1943)</td>\n",
              "      <td>[Documentary, War]</td>\n",
              "    </tr>\n",
              "    <tr>\n",
              "      <th>3524</th>\n",
              "      <td>64944</td>\n",
              "      <td>Face of a Fugitive (1959)</td>\n",
              "      <td>[Western]</td>\n",
              "    </tr>\n",
              "    <tr>\n",
              "      <th>3525</th>\n",
              "      <td>65025</td>\n",
              "      <td>Double Dynamite (1951)</td>\n",
              "      <td>[Comedy, Musical]</td>\n",
              "    </tr>\n",
              "    <tr>\n",
              "      <th>3526</th>\n",
              "      <td>65091</td>\n",
              "      <td>Manhattan Melodrama (1934)</td>\n",
              "      <td>[Crime, Drama, Romance]</td>\n",
              "    </tr>\n",
              "  </tbody>\n",
              "</table>\n",
              "<p>3527 rows × 3 columns</p>\n",
              "</div>"
            ],
            "text/plain": [
              "      movieId  ...                     genres\n",
              "0          89  ...         [Action, Thriller]\n",
              "1          92  ...  [Drama, Horror, Thriller]\n",
              "2          94  ...   [Comedy, Drama, Romance]\n",
              "3          99  ...              [Documentary]\n",
              "4         100  ...          [Drama, Thriller]\n",
              "...       ...  ...                        ...\n",
              "3522    64921  ...        [Action, Adventure]\n",
              "3523    64926  ...         [Documentary, War]\n",
              "3524    64944  ...                  [Western]\n",
              "3525    65025  ...          [Comedy, Musical]\n",
              "3526    65091  ...    [Crime, Drama, Romance]\n",
              "\n",
              "[3527 rows x 3 columns]"
            ]
          },
          "metadata": {
            "tags": []
          },
          "execution_count": 31
        }
      ]
    },
    {
      "cell_type": "code",
      "metadata": {
        "id": "hE_r4b__1M2b",
        "outputId": "3d2b4f2b-9773-4ff2-8d6b-dcaf36eb9ea5",
        "colab": {
          "base_uri": "https://localhost:8080/",
          "height": 461
        }
      },
      "source": [
        "all_genres = {}\n",
        "\n",
        "for movie in movies_df.itertuples():\n",
        "  for genre in movie[3]:\n",
        "    movies_df.at[movie[0], genre] = 1\n",
        "    if genre not in all_genres.keys():\n",
        "      all_genres[genre] = 1\n",
        "    else:\n",
        "      all_genres[genre] += 1\n",
        "movies_df.drop(columns=['title', 'genres'], inplace=True)\n",
        "movies_df.replace(np.nan, 0, inplace=True)\n",
        "movies_df"
      ],
      "execution_count": null,
      "outputs": [
        {
          "output_type": "execute_result",
          "data": {
            "text/html": [
              "<div>\n",
              "<style scoped>\n",
              "    .dataframe tbody tr th:only-of-type {\n",
              "        vertical-align: middle;\n",
              "    }\n",
              "\n",
              "    .dataframe tbody tr th {\n",
              "        vertical-align: top;\n",
              "    }\n",
              "\n",
              "    .dataframe thead th {\n",
              "        text-align: right;\n",
              "    }\n",
              "</style>\n",
              "<table border=\"1\" class=\"dataframe\">\n",
              "  <thead>\n",
              "    <tr style=\"text-align: right;\">\n",
              "      <th></th>\n",
              "      <th>movieId</th>\n",
              "      <th>Action</th>\n",
              "      <th>Thriller</th>\n",
              "      <th>Drama</th>\n",
              "      <th>Horror</th>\n",
              "      <th>Comedy</th>\n",
              "      <th>Romance</th>\n",
              "      <th>Documentary</th>\n",
              "      <th>Adventure</th>\n",
              "      <th>Crime</th>\n",
              "      <th>Children</th>\n",
              "      <th>Musical</th>\n",
              "      <th>Mystery</th>\n",
              "      <th>War</th>\n",
              "      <th>Film-Noir</th>\n",
              "      <th>Fantasy</th>\n",
              "      <th>Sci-Fi</th>\n",
              "      <th>Western</th>\n",
              "      <th>Animation</th>\n",
              "      <th>IMAX</th>\n",
              "    </tr>\n",
              "  </thead>\n",
              "  <tbody>\n",
              "    <tr>\n",
              "      <th>0</th>\n",
              "      <td>89</td>\n",
              "      <td>1.0</td>\n",
              "      <td>1.0</td>\n",
              "      <td>0.0</td>\n",
              "      <td>0.0</td>\n",
              "      <td>0.0</td>\n",
              "      <td>0.0</td>\n",
              "      <td>0.0</td>\n",
              "      <td>0.0</td>\n",
              "      <td>0.0</td>\n",
              "      <td>0.0</td>\n",
              "      <td>0.0</td>\n",
              "      <td>0.0</td>\n",
              "      <td>0.0</td>\n",
              "      <td>0.0</td>\n",
              "      <td>0.0</td>\n",
              "      <td>0.0</td>\n",
              "      <td>0.0</td>\n",
              "      <td>0.0</td>\n",
              "      <td>0.0</td>\n",
              "    </tr>\n",
              "    <tr>\n",
              "      <th>1</th>\n",
              "      <td>92</td>\n",
              "      <td>0.0</td>\n",
              "      <td>1.0</td>\n",
              "      <td>1.0</td>\n",
              "      <td>1.0</td>\n",
              "      <td>0.0</td>\n",
              "      <td>0.0</td>\n",
              "      <td>0.0</td>\n",
              "      <td>0.0</td>\n",
              "      <td>0.0</td>\n",
              "      <td>0.0</td>\n",
              "      <td>0.0</td>\n",
              "      <td>0.0</td>\n",
              "      <td>0.0</td>\n",
              "      <td>0.0</td>\n",
              "      <td>0.0</td>\n",
              "      <td>0.0</td>\n",
              "      <td>0.0</td>\n",
              "      <td>0.0</td>\n",
              "      <td>0.0</td>\n",
              "    </tr>\n",
              "    <tr>\n",
              "      <th>2</th>\n",
              "      <td>94</td>\n",
              "      <td>0.0</td>\n",
              "      <td>0.0</td>\n",
              "      <td>1.0</td>\n",
              "      <td>0.0</td>\n",
              "      <td>1.0</td>\n",
              "      <td>1.0</td>\n",
              "      <td>0.0</td>\n",
              "      <td>0.0</td>\n",
              "      <td>0.0</td>\n",
              "      <td>0.0</td>\n",
              "      <td>0.0</td>\n",
              "      <td>0.0</td>\n",
              "      <td>0.0</td>\n",
              "      <td>0.0</td>\n",
              "      <td>0.0</td>\n",
              "      <td>0.0</td>\n",
              "      <td>0.0</td>\n",
              "      <td>0.0</td>\n",
              "      <td>0.0</td>\n",
              "    </tr>\n",
              "    <tr>\n",
              "      <th>3</th>\n",
              "      <td>99</td>\n",
              "      <td>0.0</td>\n",
              "      <td>0.0</td>\n",
              "      <td>0.0</td>\n",
              "      <td>0.0</td>\n",
              "      <td>0.0</td>\n",
              "      <td>0.0</td>\n",
              "      <td>1.0</td>\n",
              "      <td>0.0</td>\n",
              "      <td>0.0</td>\n",
              "      <td>0.0</td>\n",
              "      <td>0.0</td>\n",
              "      <td>0.0</td>\n",
              "      <td>0.0</td>\n",
              "      <td>0.0</td>\n",
              "      <td>0.0</td>\n",
              "      <td>0.0</td>\n",
              "      <td>0.0</td>\n",
              "      <td>0.0</td>\n",
              "      <td>0.0</td>\n",
              "    </tr>\n",
              "    <tr>\n",
              "      <th>4</th>\n",
              "      <td>100</td>\n",
              "      <td>0.0</td>\n",
              "      <td>1.0</td>\n",
              "      <td>1.0</td>\n",
              "      <td>0.0</td>\n",
              "      <td>0.0</td>\n",
              "      <td>0.0</td>\n",
              "      <td>0.0</td>\n",
              "      <td>0.0</td>\n",
              "      <td>0.0</td>\n",
              "      <td>0.0</td>\n",
              "      <td>0.0</td>\n",
              "      <td>0.0</td>\n",
              "      <td>0.0</td>\n",
              "      <td>0.0</td>\n",
              "      <td>0.0</td>\n",
              "      <td>0.0</td>\n",
              "      <td>0.0</td>\n",
              "      <td>0.0</td>\n",
              "      <td>0.0</td>\n",
              "    </tr>\n",
              "    <tr>\n",
              "      <th>...</th>\n",
              "      <td>...</td>\n",
              "      <td>...</td>\n",
              "      <td>...</td>\n",
              "      <td>...</td>\n",
              "      <td>...</td>\n",
              "      <td>...</td>\n",
              "      <td>...</td>\n",
              "      <td>...</td>\n",
              "      <td>...</td>\n",
              "      <td>...</td>\n",
              "      <td>...</td>\n",
              "      <td>...</td>\n",
              "      <td>...</td>\n",
              "      <td>...</td>\n",
              "      <td>...</td>\n",
              "      <td>...</td>\n",
              "      <td>...</td>\n",
              "      <td>...</td>\n",
              "      <td>...</td>\n",
              "      <td>...</td>\n",
              "    </tr>\n",
              "    <tr>\n",
              "      <th>3522</th>\n",
              "      <td>64921</td>\n",
              "      <td>1.0</td>\n",
              "      <td>0.0</td>\n",
              "      <td>0.0</td>\n",
              "      <td>0.0</td>\n",
              "      <td>0.0</td>\n",
              "      <td>0.0</td>\n",
              "      <td>0.0</td>\n",
              "      <td>1.0</td>\n",
              "      <td>0.0</td>\n",
              "      <td>0.0</td>\n",
              "      <td>0.0</td>\n",
              "      <td>0.0</td>\n",
              "      <td>0.0</td>\n",
              "      <td>0.0</td>\n",
              "      <td>0.0</td>\n",
              "      <td>0.0</td>\n",
              "      <td>0.0</td>\n",
              "      <td>0.0</td>\n",
              "      <td>0.0</td>\n",
              "    </tr>\n",
              "    <tr>\n",
              "      <th>3523</th>\n",
              "      <td>64926</td>\n",
              "      <td>0.0</td>\n",
              "      <td>0.0</td>\n",
              "      <td>0.0</td>\n",
              "      <td>0.0</td>\n",
              "      <td>0.0</td>\n",
              "      <td>0.0</td>\n",
              "      <td>1.0</td>\n",
              "      <td>0.0</td>\n",
              "      <td>0.0</td>\n",
              "      <td>0.0</td>\n",
              "      <td>0.0</td>\n",
              "      <td>0.0</td>\n",
              "      <td>1.0</td>\n",
              "      <td>0.0</td>\n",
              "      <td>0.0</td>\n",
              "      <td>0.0</td>\n",
              "      <td>0.0</td>\n",
              "      <td>0.0</td>\n",
              "      <td>0.0</td>\n",
              "    </tr>\n",
              "    <tr>\n",
              "      <th>3524</th>\n",
              "      <td>64944</td>\n",
              "      <td>0.0</td>\n",
              "      <td>0.0</td>\n",
              "      <td>0.0</td>\n",
              "      <td>0.0</td>\n",
              "      <td>0.0</td>\n",
              "      <td>0.0</td>\n",
              "      <td>0.0</td>\n",
              "      <td>0.0</td>\n",
              "      <td>0.0</td>\n",
              "      <td>0.0</td>\n",
              "      <td>0.0</td>\n",
              "      <td>0.0</td>\n",
              "      <td>0.0</td>\n",
              "      <td>0.0</td>\n",
              "      <td>0.0</td>\n",
              "      <td>0.0</td>\n",
              "      <td>1.0</td>\n",
              "      <td>0.0</td>\n",
              "      <td>0.0</td>\n",
              "    </tr>\n",
              "    <tr>\n",
              "      <th>3525</th>\n",
              "      <td>65025</td>\n",
              "      <td>0.0</td>\n",
              "      <td>0.0</td>\n",
              "      <td>0.0</td>\n",
              "      <td>0.0</td>\n",
              "      <td>1.0</td>\n",
              "      <td>0.0</td>\n",
              "      <td>0.0</td>\n",
              "      <td>0.0</td>\n",
              "      <td>0.0</td>\n",
              "      <td>0.0</td>\n",
              "      <td>1.0</td>\n",
              "      <td>0.0</td>\n",
              "      <td>0.0</td>\n",
              "      <td>0.0</td>\n",
              "      <td>0.0</td>\n",
              "      <td>0.0</td>\n",
              "      <td>0.0</td>\n",
              "      <td>0.0</td>\n",
              "      <td>0.0</td>\n",
              "    </tr>\n",
              "    <tr>\n",
              "      <th>3526</th>\n",
              "      <td>65091</td>\n",
              "      <td>0.0</td>\n",
              "      <td>0.0</td>\n",
              "      <td>1.0</td>\n",
              "      <td>0.0</td>\n",
              "      <td>0.0</td>\n",
              "      <td>1.0</td>\n",
              "      <td>0.0</td>\n",
              "      <td>0.0</td>\n",
              "      <td>1.0</td>\n",
              "      <td>0.0</td>\n",
              "      <td>0.0</td>\n",
              "      <td>0.0</td>\n",
              "      <td>0.0</td>\n",
              "      <td>0.0</td>\n",
              "      <td>0.0</td>\n",
              "      <td>0.0</td>\n",
              "      <td>0.0</td>\n",
              "      <td>0.0</td>\n",
              "      <td>0.0</td>\n",
              "    </tr>\n",
              "  </tbody>\n",
              "</table>\n",
              "<p>3527 rows × 20 columns</p>\n",
              "</div>"
            ],
            "text/plain": [
              "      movieId  Action  Thriller  Drama  ...  Sci-Fi  Western  Animation  IMAX\n",
              "0          89     1.0       1.0    0.0  ...     0.0      0.0        0.0   0.0\n",
              "1          92     0.0       1.0    1.0  ...     0.0      0.0        0.0   0.0\n",
              "2          94     0.0       0.0    1.0  ...     0.0      0.0        0.0   0.0\n",
              "3          99     0.0       0.0    0.0  ...     0.0      0.0        0.0   0.0\n",
              "4         100     0.0       1.0    1.0  ...     0.0      0.0        0.0   0.0\n",
              "...       ...     ...       ...    ...  ...     ...      ...        ...   ...\n",
              "3522    64921     1.0       0.0    0.0  ...     0.0      0.0        0.0   0.0\n",
              "3523    64926     0.0       0.0    0.0  ...     0.0      0.0        0.0   0.0\n",
              "3524    64944     0.0       0.0    0.0  ...     0.0      1.0        0.0   0.0\n",
              "3525    65025     0.0       0.0    0.0  ...     0.0      0.0        0.0   0.0\n",
              "3526    65091     0.0       0.0    1.0  ...     0.0      0.0        0.0   0.0\n",
              "\n",
              "[3527 rows x 20 columns]"
            ]
          },
          "metadata": {
            "tags": []
          },
          "execution_count": 32
        }
      ]
    },
    {
      "cell_type": "code",
      "metadata": {
        "id": "r086xsgIET3c"
      },
      "source": [
        "movie_genres_csr = csr_matrix(movies_df.drop('movieId', axis=1).values)"
      ],
      "execution_count": null,
      "outputs": []
    },
    {
      "cell_type": "code",
      "metadata": {
        "id": "HzdndF7rUBOZ"
      },
      "source": [
        "final_dataset['genre_features'] = movie_genres_csr\n",
        "final_dataset['genre_dict'] = all_genres"
      ],
      "execution_count": null,
      "outputs": []
    },
    {
      "cell_type": "code",
      "metadata": {
        "id": "f7x_7Ji5USyR"
      },
      "source": [
        "pickle.dump(final_dataset, (open('/content/drive/My Drive/Master/Data/10Mdatasets.p', 'wb')))"
      ],
      "execution_count": null,
      "outputs": []
    },
    {
      "cell_type": "code",
      "metadata": {
        "id": "QgSAkoAdwJIf"
      },
      "source": [
        "'''\n",
        "\n",
        "The next part will build a dataset for recommendations based on tags\n",
        "\n",
        "'''"
      ],
      "execution_count": null,
      "outputs": []
    },
    {
      "cell_type": "code",
      "metadata": {
        "id": "RQoyEOrm_Kzk",
        "outputId": "fa30eb3f-7970-40fc-c345-310f66ca7471",
        "colab": {
          "base_uri": "https://localhost:8080/",
          "height": 329
        }
      },
      "source": [
        "infile = open('/content/drive/My Drive/Master/Data/1Mdatasets.p', 'rb')\n",
        "final_dataset = pickle.load(infile)\n",
        "infile.close()\n",
        "\n",
        "tags_df = pd.read_csv(f'{data_dir}/10Mtags.dat', sep='::', usecols=[1,2], names=['movieId', 'tag'])\n",
        "tags_df.head"
      ],
      "execution_count": null,
      "outputs": [
        {
          "output_type": "stream",
          "text": [
            "/usr/local/lib/python3.6/dist-packages/ipykernel_launcher.py:5: ParserWarning: Falling back to the 'python' engine because the 'c' engine does not support regex separators (separators > 1 char and different from '\\s+' are interpreted as regex); you can avoid this warning by specifying engine='python'.\n",
            "  \"\"\"\n"
          ],
          "name": "stderr"
        },
        {
          "output_type": "execute_result",
          "data": {
            "text/plain": [
              "<bound method NDFrame.head of        movieId              tag\n",
              "0         4973       excellent!\n",
              "1         1747         politics\n",
              "2         1747           satire\n",
              "3         2424  chick flick 212\n",
              "4         2424            hanks\n",
              "...        ...              ...\n",
              "95575     1377           Gothic\n",
              "95576     2424      chick flick\n",
              "95577     3033           comedy\n",
              "95578     3081           Gothic\n",
              "95579     7438          Western\n",
              "\n",
              "[95580 rows x 2 columns]>"
            ]
          },
          "metadata": {
            "tags": []
          },
          "execution_count": 7
        }
      ]
    },
    {
      "cell_type": "code",
      "metadata": {
        "id": "Sy0T2jcUGLL2"
      },
      "source": [
        "final_dataset['item_dict']"
      ],
      "execution_count": null,
      "outputs": []
    },
    {
      "cell_type": "code",
      "metadata": {
        "id": "obdEhT6TAIMC",
        "outputId": "65f02202-8b81-4f18-99aa-585b0a963ca7",
        "colab": {
          "base_uri": "https://localhost:8080/",
          "height": 273
        }
      },
      "source": [
        "tags_df = tags_df.merge(pd.DataFrame(data=final_dataset['item_dict'].keys()).\n",
        "                            rename(columns={0:'movieId'}).astype(int), on='movieId')\n",
        "\n",
        "tags_df['tag'] = tags_df['tag'].astype(str).apply(lambda x: x.lower())\n",
        "\n",
        "tags_df.head\n"
      ],
      "execution_count": null,
      "outputs": [
        {
          "output_type": "execute_result",
          "data": {
            "text/plain": [
              "<bound method NDFrame.head of        movieId                                tag\n",
              "0         3033                              spoof\n",
              "1         3033                          star wars\n",
              "2         3033                             comedy\n",
              "3         3033                         john candy\n",
              "4         3033                       rick moranis\n",
              "...        ...                                ...\n",
              "20758     2836  main character doesn't masturbate\n",
              "20759     1518                                fdf\n",
              "20760      694                       payback time\n",
              "20761     1404                     must see again\n",
              "20762     2815                          nostalgia\n",
              "\n",
              "[20763 rows x 2 columns]>"
            ]
          },
          "metadata": {
            "tags": []
          },
          "execution_count": 10
        }
      ]
    },
    {
      "cell_type": "code",
      "metadata": {
        "id": "P5OkMoUIGaqQ",
        "outputId": "e93865b5-09a2-4759-871d-9f8c1e35501f",
        "colab": {
          "base_uri": "https://localhost:8080/",
          "height": 54
        }
      },
      "source": [
        "print(len(tags_df['movieId'].unique()))\n",
        "print(len(final_dataset['item_dict'].keys()))"
      ],
      "execution_count": null,
      "outputs": [
        {
          "output_type": "stream",
          "text": [
            "1514\n",
            "1514\n"
          ],
          "name": "stdout"
        }
      ]
    },
    {
      "cell_type": "code",
      "metadata": {
        "id": "ck_oDGeHUdqK"
      },
      "source": [
        "\n",
        "for movieId in final_dataset['item_dict'].keys():\n",
        "  if int(movieId) not in tags_df['movieId'].values:\n",
        "    tags_df = tags_df.append(pd.Series([int(movieId),''], index=tags_df.columns), ignore_index=True)\n"
      ],
      "execution_count": null,
      "outputs": []
    },
    {
      "cell_type": "code",
      "metadata": {
        "id": "_j1DP5o3CPHM",
        "outputId": "525c1eb5-31c8-47c0-d08f-a1333a5029e0",
        "colab": {
          "base_uri": "https://localhost:8080/",
          "height": 600
        }
      },
      "source": [
        "tags_df['tag'] = tags_df['tag'].astype('category')\n",
        "trans_tags = pd.get_dummies(tags_df)\n",
        "trans_tags"
      ],
      "execution_count": null,
      "outputs": [
        {
          "output_type": "execute_result",
          "data": {
            "text/html": [
              "<div>\n",
              "<style scoped>\n",
              "    .dataframe tbody tr th:only-of-type {\n",
              "        vertical-align: middle;\n",
              "    }\n",
              "\n",
              "    .dataframe tbody tr th {\n",
              "        vertical-align: top;\n",
              "    }\n",
              "\n",
              "    .dataframe thead th {\n",
              "        text-align: right;\n",
              "    }\n",
              "</style>\n",
              "<table border=\"1\" class=\"dataframe\">\n",
              "  <thead>\n",
              "    <tr style=\"text-align: right;\">\n",
              "      <th></th>\n",
              "      <th>movieId</th>\n",
              "      <th>tag_</th>\n",
              "      <th>tag_\"damn dirty apes\"</th>\n",
              "      <th>tag_\"it's not an american story</th>\n",
              "      <th>tag_\"oh yah\"</th>\n",
              "      <th>tag_\"rosebud\"</th>\n",
              "      <th>tag_\"show me the money.\"</th>\n",
              "      <th>tag_\"underaged sex\"=child porn</th>\n",
              "      <th>tag_'and just what do you think you're doing mr. smeee?'</th>\n",
              "      <th>tag_'carrie i don't wanna rain on your parade but that's not fruit punch'</th>\n",
              "      <th>tag_'hey dan do you mind having rabbit stew for a pick-me-up?'</th>\n",
              "      <th>tag_'i can't get that theme song out of my head'</th>\n",
              "      <th>tag_'i guess repression does have it's moments after all'</th>\n",
              "      <th>tag_'oh spock! oh jim! oh bones!' wtf!? et tu herr doktor? heil!</th>\n",
              "      <th>tag_'oh the whore-ror!'</th>\n",
              "      <th>tag_'sexy'</th>\n",
              "      <th>tag_'stop banging the doorbell i'm landscaping my kitchen sink!'</th>\n",
              "      <th>tag_(s)vcd</th>\n",
              "      <th>tag_*good* musicals</th>\n",
              "      <th>tag_*reps*</th>\n",
              "      <th>tag_007</th>\n",
              "      <th>tag_007 (series)</th>\n",
              "      <th>tag_007 rocks</th>\n",
              "      <th>tag_05.03.06</th>\n",
              "      <th>tag_05.04.06</th>\n",
              "      <th>tag_06.04.06</th>\n",
              "      <th>tag_09.05.06</th>\n",
              "      <th>tag_1</th>\n",
              "      <th>tag_1-4-2007</th>\n",
              "      <th>tag_1.5</th>\n",
              "      <th>tag_10</th>\n",
              "      <th>tag_12-1-2007</th>\n",
              "      <th>tag_123</th>\n",
              "      <th>tag_12th century</th>\n",
              "      <th>tag_15.02.06</th>\n",
              "      <th>tag_15th century</th>\n",
              "      <th>tag_16mm</th>\n",
              "      <th>tag_17th century</th>\n",
              "      <th>tag_1800s</th>\n",
              "      <th>tag_1890s</th>\n",
              "      <th>...</th>\n",
              "      <th>tag_wwii</th>\n",
              "      <th>tag_wwii comedy-drama</th>\n",
              "      <th>tag_x-mas movie</th>\n",
              "      <th>tag_xenomorph</th>\n",
              "      <th>tag_xenophobia</th>\n",
              "      <th>tag_xenophobic?</th>\n",
              "      <th>tag_xmas</th>\n",
              "      <th>tag_xmas theme</th>\n",
              "      <th>tag_xmas theme(?)</th>\n",
              "      <th>tag_yahoo top pick</th>\n",
              "      <th>tag_yakuza</th>\n",
              "      <th>tag_yeah</th>\n",
              "      <th>tag_yellow</th>\n",
              "      <th>tag_you complete me</th>\n",
              "      <th>tag_you mean it's over inflated!</th>\n",
              "      <th>tag_you might laugh your head out.</th>\n",
              "      <th>tag_you only got 2 bullets. i have a sword. you will miss. i won't.</th>\n",
              "      <th>tag_you're gonna die clown</th>\n",
              "      <th>tag_you've seen them all.</th>\n",
              "      <th>tag_young age classic</th>\n",
              "      <th>tag_young anakin</th>\n",
              "      <th>tag_young kids</th>\n",
              "      <th>tag_young women's favorate</th>\n",
              "      <th>tag_your out of ur element donnie!!!!</th>\n",
              "      <th>tag_ytutyki</th>\n",
              "      <th>tag_yul brynner</th>\n",
              "      <th>tag_yuppies</th>\n",
              "      <th>tag_zaz</th>\n",
              "      <th>tag_zibri studio</th>\n",
              "      <th>tag_ziegfeld follies</th>\n",
              "      <th>tag_zim</th>\n",
              "      <th>tag_zither</th>\n",
              "      <th>tag_zombie</th>\n",
              "      <th>tag_zombies</th>\n",
              "      <th>tag_zoo</th>\n",
              "      <th>tag_zooey deschanel</th>\n",
              "      <th>tag_</th>\n",
              "      <th>tag_ \\t\\t\\t\\t\\tcharacter based on real person:saddam hussein</th>\n",
              "      <th>tag_â¡olivier martinez!</th>\n",
              "      <th>tag_ã‰rase una vez en amã©rica</th>\n",
              "    </tr>\n",
              "  </thead>\n",
              "  <tbody>\n",
              "    <tr>\n",
              "      <th>0</th>\n",
              "      <td>3033</td>\n",
              "      <td>0</td>\n",
              "      <td>0</td>\n",
              "      <td>0</td>\n",
              "      <td>0</td>\n",
              "      <td>0</td>\n",
              "      <td>0</td>\n",
              "      <td>0</td>\n",
              "      <td>0</td>\n",
              "      <td>0</td>\n",
              "      <td>0</td>\n",
              "      <td>0</td>\n",
              "      <td>0</td>\n",
              "      <td>0</td>\n",
              "      <td>0</td>\n",
              "      <td>0</td>\n",
              "      <td>0</td>\n",
              "      <td>0</td>\n",
              "      <td>0</td>\n",
              "      <td>0</td>\n",
              "      <td>0</td>\n",
              "      <td>0</td>\n",
              "      <td>0</td>\n",
              "      <td>0</td>\n",
              "      <td>0</td>\n",
              "      <td>0</td>\n",
              "      <td>0</td>\n",
              "      <td>0</td>\n",
              "      <td>0</td>\n",
              "      <td>0</td>\n",
              "      <td>0</td>\n",
              "      <td>0</td>\n",
              "      <td>0</td>\n",
              "      <td>0</td>\n",
              "      <td>0</td>\n",
              "      <td>0</td>\n",
              "      <td>0</td>\n",
              "      <td>0</td>\n",
              "      <td>0</td>\n",
              "      <td>0</td>\n",
              "      <td>...</td>\n",
              "      <td>0</td>\n",
              "      <td>0</td>\n",
              "      <td>0</td>\n",
              "      <td>0</td>\n",
              "      <td>0</td>\n",
              "      <td>0</td>\n",
              "      <td>0</td>\n",
              "      <td>0</td>\n",
              "      <td>0</td>\n",
              "      <td>0</td>\n",
              "      <td>0</td>\n",
              "      <td>0</td>\n",
              "      <td>0</td>\n",
              "      <td>0</td>\n",
              "      <td>0</td>\n",
              "      <td>0</td>\n",
              "      <td>0</td>\n",
              "      <td>0</td>\n",
              "      <td>0</td>\n",
              "      <td>0</td>\n",
              "      <td>0</td>\n",
              "      <td>0</td>\n",
              "      <td>0</td>\n",
              "      <td>0</td>\n",
              "      <td>0</td>\n",
              "      <td>0</td>\n",
              "      <td>0</td>\n",
              "      <td>0</td>\n",
              "      <td>0</td>\n",
              "      <td>0</td>\n",
              "      <td>0</td>\n",
              "      <td>0</td>\n",
              "      <td>0</td>\n",
              "      <td>0</td>\n",
              "      <td>0</td>\n",
              "      <td>0</td>\n",
              "      <td>0</td>\n",
              "      <td>0</td>\n",
              "      <td>0</td>\n",
              "      <td>0</td>\n",
              "    </tr>\n",
              "    <tr>\n",
              "      <th>1</th>\n",
              "      <td>3033</td>\n",
              "      <td>0</td>\n",
              "      <td>0</td>\n",
              "      <td>0</td>\n",
              "      <td>0</td>\n",
              "      <td>0</td>\n",
              "      <td>0</td>\n",
              "      <td>0</td>\n",
              "      <td>0</td>\n",
              "      <td>0</td>\n",
              "      <td>0</td>\n",
              "      <td>0</td>\n",
              "      <td>0</td>\n",
              "      <td>0</td>\n",
              "      <td>0</td>\n",
              "      <td>0</td>\n",
              "      <td>0</td>\n",
              "      <td>0</td>\n",
              "      <td>0</td>\n",
              "      <td>0</td>\n",
              "      <td>0</td>\n",
              "      <td>0</td>\n",
              "      <td>0</td>\n",
              "      <td>0</td>\n",
              "      <td>0</td>\n",
              "      <td>0</td>\n",
              "      <td>0</td>\n",
              "      <td>0</td>\n",
              "      <td>0</td>\n",
              "      <td>0</td>\n",
              "      <td>0</td>\n",
              "      <td>0</td>\n",
              "      <td>0</td>\n",
              "      <td>0</td>\n",
              "      <td>0</td>\n",
              "      <td>0</td>\n",
              "      <td>0</td>\n",
              "      <td>0</td>\n",
              "      <td>0</td>\n",
              "      <td>0</td>\n",
              "      <td>...</td>\n",
              "      <td>0</td>\n",
              "      <td>0</td>\n",
              "      <td>0</td>\n",
              "      <td>0</td>\n",
              "      <td>0</td>\n",
              "      <td>0</td>\n",
              "      <td>0</td>\n",
              "      <td>0</td>\n",
              "      <td>0</td>\n",
              "      <td>0</td>\n",
              "      <td>0</td>\n",
              "      <td>0</td>\n",
              "      <td>0</td>\n",
              "      <td>0</td>\n",
              "      <td>0</td>\n",
              "      <td>0</td>\n",
              "      <td>0</td>\n",
              "      <td>0</td>\n",
              "      <td>0</td>\n",
              "      <td>0</td>\n",
              "      <td>0</td>\n",
              "      <td>0</td>\n",
              "      <td>0</td>\n",
              "      <td>0</td>\n",
              "      <td>0</td>\n",
              "      <td>0</td>\n",
              "      <td>0</td>\n",
              "      <td>0</td>\n",
              "      <td>0</td>\n",
              "      <td>0</td>\n",
              "      <td>0</td>\n",
              "      <td>0</td>\n",
              "      <td>0</td>\n",
              "      <td>0</td>\n",
              "      <td>0</td>\n",
              "      <td>0</td>\n",
              "      <td>0</td>\n",
              "      <td>0</td>\n",
              "      <td>0</td>\n",
              "      <td>0</td>\n",
              "    </tr>\n",
              "    <tr>\n",
              "      <th>2</th>\n",
              "      <td>3033</td>\n",
              "      <td>0</td>\n",
              "      <td>0</td>\n",
              "      <td>0</td>\n",
              "      <td>0</td>\n",
              "      <td>0</td>\n",
              "      <td>0</td>\n",
              "      <td>0</td>\n",
              "      <td>0</td>\n",
              "      <td>0</td>\n",
              "      <td>0</td>\n",
              "      <td>0</td>\n",
              "      <td>0</td>\n",
              "      <td>0</td>\n",
              "      <td>0</td>\n",
              "      <td>0</td>\n",
              "      <td>0</td>\n",
              "      <td>0</td>\n",
              "      <td>0</td>\n",
              "      <td>0</td>\n",
              "      <td>0</td>\n",
              "      <td>0</td>\n",
              "      <td>0</td>\n",
              "      <td>0</td>\n",
              "      <td>0</td>\n",
              "      <td>0</td>\n",
              "      <td>0</td>\n",
              "      <td>0</td>\n",
              "      <td>0</td>\n",
              "      <td>0</td>\n",
              "      <td>0</td>\n",
              "      <td>0</td>\n",
              "      <td>0</td>\n",
              "      <td>0</td>\n",
              "      <td>0</td>\n",
              "      <td>0</td>\n",
              "      <td>0</td>\n",
              "      <td>0</td>\n",
              "      <td>0</td>\n",
              "      <td>0</td>\n",
              "      <td>...</td>\n",
              "      <td>0</td>\n",
              "      <td>0</td>\n",
              "      <td>0</td>\n",
              "      <td>0</td>\n",
              "      <td>0</td>\n",
              "      <td>0</td>\n",
              "      <td>0</td>\n",
              "      <td>0</td>\n",
              "      <td>0</td>\n",
              "      <td>0</td>\n",
              "      <td>0</td>\n",
              "      <td>0</td>\n",
              "      <td>0</td>\n",
              "      <td>0</td>\n",
              "      <td>0</td>\n",
              "      <td>0</td>\n",
              "      <td>0</td>\n",
              "      <td>0</td>\n",
              "      <td>0</td>\n",
              "      <td>0</td>\n",
              "      <td>0</td>\n",
              "      <td>0</td>\n",
              "      <td>0</td>\n",
              "      <td>0</td>\n",
              "      <td>0</td>\n",
              "      <td>0</td>\n",
              "      <td>0</td>\n",
              "      <td>0</td>\n",
              "      <td>0</td>\n",
              "      <td>0</td>\n",
              "      <td>0</td>\n",
              "      <td>0</td>\n",
              "      <td>0</td>\n",
              "      <td>0</td>\n",
              "      <td>0</td>\n",
              "      <td>0</td>\n",
              "      <td>0</td>\n",
              "      <td>0</td>\n",
              "      <td>0</td>\n",
              "      <td>0</td>\n",
              "    </tr>\n",
              "    <tr>\n",
              "      <th>3</th>\n",
              "      <td>3033</td>\n",
              "      <td>0</td>\n",
              "      <td>0</td>\n",
              "      <td>0</td>\n",
              "      <td>0</td>\n",
              "      <td>0</td>\n",
              "      <td>0</td>\n",
              "      <td>0</td>\n",
              "      <td>0</td>\n",
              "      <td>0</td>\n",
              "      <td>0</td>\n",
              "      <td>0</td>\n",
              "      <td>0</td>\n",
              "      <td>0</td>\n",
              "      <td>0</td>\n",
              "      <td>0</td>\n",
              "      <td>0</td>\n",
              "      <td>0</td>\n",
              "      <td>0</td>\n",
              "      <td>0</td>\n",
              "      <td>0</td>\n",
              "      <td>0</td>\n",
              "      <td>0</td>\n",
              "      <td>0</td>\n",
              "      <td>0</td>\n",
              "      <td>0</td>\n",
              "      <td>0</td>\n",
              "      <td>0</td>\n",
              "      <td>0</td>\n",
              "      <td>0</td>\n",
              "      <td>0</td>\n",
              "      <td>0</td>\n",
              "      <td>0</td>\n",
              "      <td>0</td>\n",
              "      <td>0</td>\n",
              "      <td>0</td>\n",
              "      <td>0</td>\n",
              "      <td>0</td>\n",
              "      <td>0</td>\n",
              "      <td>0</td>\n",
              "      <td>...</td>\n",
              "      <td>0</td>\n",
              "      <td>0</td>\n",
              "      <td>0</td>\n",
              "      <td>0</td>\n",
              "      <td>0</td>\n",
              "      <td>0</td>\n",
              "      <td>0</td>\n",
              "      <td>0</td>\n",
              "      <td>0</td>\n",
              "      <td>0</td>\n",
              "      <td>0</td>\n",
              "      <td>0</td>\n",
              "      <td>0</td>\n",
              "      <td>0</td>\n",
              "      <td>0</td>\n",
              "      <td>0</td>\n",
              "      <td>0</td>\n",
              "      <td>0</td>\n",
              "      <td>0</td>\n",
              "      <td>0</td>\n",
              "      <td>0</td>\n",
              "      <td>0</td>\n",
              "      <td>0</td>\n",
              "      <td>0</td>\n",
              "      <td>0</td>\n",
              "      <td>0</td>\n",
              "      <td>0</td>\n",
              "      <td>0</td>\n",
              "      <td>0</td>\n",
              "      <td>0</td>\n",
              "      <td>0</td>\n",
              "      <td>0</td>\n",
              "      <td>0</td>\n",
              "      <td>0</td>\n",
              "      <td>0</td>\n",
              "      <td>0</td>\n",
              "      <td>0</td>\n",
              "      <td>0</td>\n",
              "      <td>0</td>\n",
              "      <td>0</td>\n",
              "    </tr>\n",
              "    <tr>\n",
              "      <th>4</th>\n",
              "      <td>3033</td>\n",
              "      <td>0</td>\n",
              "      <td>0</td>\n",
              "      <td>0</td>\n",
              "      <td>0</td>\n",
              "      <td>0</td>\n",
              "      <td>0</td>\n",
              "      <td>0</td>\n",
              "      <td>0</td>\n",
              "      <td>0</td>\n",
              "      <td>0</td>\n",
              "      <td>0</td>\n",
              "      <td>0</td>\n",
              "      <td>0</td>\n",
              "      <td>0</td>\n",
              "      <td>0</td>\n",
              "      <td>0</td>\n",
              "      <td>0</td>\n",
              "      <td>0</td>\n",
              "      <td>0</td>\n",
              "      <td>0</td>\n",
              "      <td>0</td>\n",
              "      <td>0</td>\n",
              "      <td>0</td>\n",
              "      <td>0</td>\n",
              "      <td>0</td>\n",
              "      <td>0</td>\n",
              "      <td>0</td>\n",
              "      <td>0</td>\n",
              "      <td>0</td>\n",
              "      <td>0</td>\n",
              "      <td>0</td>\n",
              "      <td>0</td>\n",
              "      <td>0</td>\n",
              "      <td>0</td>\n",
              "      <td>0</td>\n",
              "      <td>0</td>\n",
              "      <td>0</td>\n",
              "      <td>0</td>\n",
              "      <td>0</td>\n",
              "      <td>...</td>\n",
              "      <td>0</td>\n",
              "      <td>0</td>\n",
              "      <td>0</td>\n",
              "      <td>0</td>\n",
              "      <td>0</td>\n",
              "      <td>0</td>\n",
              "      <td>0</td>\n",
              "      <td>0</td>\n",
              "      <td>0</td>\n",
              "      <td>0</td>\n",
              "      <td>0</td>\n",
              "      <td>0</td>\n",
              "      <td>0</td>\n",
              "      <td>0</td>\n",
              "      <td>0</td>\n",
              "      <td>0</td>\n",
              "      <td>0</td>\n",
              "      <td>0</td>\n",
              "      <td>0</td>\n",
              "      <td>0</td>\n",
              "      <td>0</td>\n",
              "      <td>0</td>\n",
              "      <td>0</td>\n",
              "      <td>0</td>\n",
              "      <td>0</td>\n",
              "      <td>0</td>\n",
              "      <td>0</td>\n",
              "      <td>0</td>\n",
              "      <td>0</td>\n",
              "      <td>0</td>\n",
              "      <td>0</td>\n",
              "      <td>0</td>\n",
              "      <td>0</td>\n",
              "      <td>0</td>\n",
              "      <td>0</td>\n",
              "      <td>0</td>\n",
              "      <td>0</td>\n",
              "      <td>0</td>\n",
              "      <td>0</td>\n",
              "      <td>0</td>\n",
              "    </tr>\n",
              "    <tr>\n",
              "      <th>...</th>\n",
              "      <td>...</td>\n",
              "      <td>...</td>\n",
              "      <td>...</td>\n",
              "      <td>...</td>\n",
              "      <td>...</td>\n",
              "      <td>...</td>\n",
              "      <td>...</td>\n",
              "      <td>...</td>\n",
              "      <td>...</td>\n",
              "      <td>...</td>\n",
              "      <td>...</td>\n",
              "      <td>...</td>\n",
              "      <td>...</td>\n",
              "      <td>...</td>\n",
              "      <td>...</td>\n",
              "      <td>...</td>\n",
              "      <td>...</td>\n",
              "      <td>...</td>\n",
              "      <td>...</td>\n",
              "      <td>...</td>\n",
              "      <td>...</td>\n",
              "      <td>...</td>\n",
              "      <td>...</td>\n",
              "      <td>...</td>\n",
              "      <td>...</td>\n",
              "      <td>...</td>\n",
              "      <td>...</td>\n",
              "      <td>...</td>\n",
              "      <td>...</td>\n",
              "      <td>...</td>\n",
              "      <td>...</td>\n",
              "      <td>...</td>\n",
              "      <td>...</td>\n",
              "      <td>...</td>\n",
              "      <td>...</td>\n",
              "      <td>...</td>\n",
              "      <td>...</td>\n",
              "      <td>...</td>\n",
              "      <td>...</td>\n",
              "      <td>...</td>\n",
              "      <td>...</td>\n",
              "      <td>...</td>\n",
              "      <td>...</td>\n",
              "      <td>...</td>\n",
              "      <td>...</td>\n",
              "      <td>...</td>\n",
              "      <td>...</td>\n",
              "      <td>...</td>\n",
              "      <td>...</td>\n",
              "      <td>...</td>\n",
              "      <td>...</td>\n",
              "      <td>...</td>\n",
              "      <td>...</td>\n",
              "      <td>...</td>\n",
              "      <td>...</td>\n",
              "      <td>...</td>\n",
              "      <td>...</td>\n",
              "      <td>...</td>\n",
              "      <td>...</td>\n",
              "      <td>...</td>\n",
              "      <td>...</td>\n",
              "      <td>...</td>\n",
              "      <td>...</td>\n",
              "      <td>...</td>\n",
              "      <td>...</td>\n",
              "      <td>...</td>\n",
              "      <td>...</td>\n",
              "      <td>...</td>\n",
              "      <td>...</td>\n",
              "      <td>...</td>\n",
              "      <td>...</td>\n",
              "      <td>...</td>\n",
              "      <td>...</td>\n",
              "      <td>...</td>\n",
              "      <td>...</td>\n",
              "      <td>...</td>\n",
              "      <td>...</td>\n",
              "      <td>...</td>\n",
              "      <td>...</td>\n",
              "      <td>...</td>\n",
              "      <td>...</td>\n",
              "    </tr>\n",
              "    <tr>\n",
              "      <th>21038</th>\n",
              "      <td>3920</td>\n",
              "      <td>1</td>\n",
              "      <td>0</td>\n",
              "      <td>0</td>\n",
              "      <td>0</td>\n",
              "      <td>0</td>\n",
              "      <td>0</td>\n",
              "      <td>0</td>\n",
              "      <td>0</td>\n",
              "      <td>0</td>\n",
              "      <td>0</td>\n",
              "      <td>0</td>\n",
              "      <td>0</td>\n",
              "      <td>0</td>\n",
              "      <td>0</td>\n",
              "      <td>0</td>\n",
              "      <td>0</td>\n",
              "      <td>0</td>\n",
              "      <td>0</td>\n",
              "      <td>0</td>\n",
              "      <td>0</td>\n",
              "      <td>0</td>\n",
              "      <td>0</td>\n",
              "      <td>0</td>\n",
              "      <td>0</td>\n",
              "      <td>0</td>\n",
              "      <td>0</td>\n",
              "      <td>0</td>\n",
              "      <td>0</td>\n",
              "      <td>0</td>\n",
              "      <td>0</td>\n",
              "      <td>0</td>\n",
              "      <td>0</td>\n",
              "      <td>0</td>\n",
              "      <td>0</td>\n",
              "      <td>0</td>\n",
              "      <td>0</td>\n",
              "      <td>0</td>\n",
              "      <td>0</td>\n",
              "      <td>0</td>\n",
              "      <td>...</td>\n",
              "      <td>0</td>\n",
              "      <td>0</td>\n",
              "      <td>0</td>\n",
              "      <td>0</td>\n",
              "      <td>0</td>\n",
              "      <td>0</td>\n",
              "      <td>0</td>\n",
              "      <td>0</td>\n",
              "      <td>0</td>\n",
              "      <td>0</td>\n",
              "      <td>0</td>\n",
              "      <td>0</td>\n",
              "      <td>0</td>\n",
              "      <td>0</td>\n",
              "      <td>0</td>\n",
              "      <td>0</td>\n",
              "      <td>0</td>\n",
              "      <td>0</td>\n",
              "      <td>0</td>\n",
              "      <td>0</td>\n",
              "      <td>0</td>\n",
              "      <td>0</td>\n",
              "      <td>0</td>\n",
              "      <td>0</td>\n",
              "      <td>0</td>\n",
              "      <td>0</td>\n",
              "      <td>0</td>\n",
              "      <td>0</td>\n",
              "      <td>0</td>\n",
              "      <td>0</td>\n",
              "      <td>0</td>\n",
              "      <td>0</td>\n",
              "      <td>0</td>\n",
              "      <td>0</td>\n",
              "      <td>0</td>\n",
              "      <td>0</td>\n",
              "      <td>0</td>\n",
              "      <td>0</td>\n",
              "      <td>0</td>\n",
              "      <td>0</td>\n",
              "    </tr>\n",
              "    <tr>\n",
              "      <th>21039</th>\n",
              "      <td>3934</td>\n",
              "      <td>1</td>\n",
              "      <td>0</td>\n",
              "      <td>0</td>\n",
              "      <td>0</td>\n",
              "      <td>0</td>\n",
              "      <td>0</td>\n",
              "      <td>0</td>\n",
              "      <td>0</td>\n",
              "      <td>0</td>\n",
              "      <td>0</td>\n",
              "      <td>0</td>\n",
              "      <td>0</td>\n",
              "      <td>0</td>\n",
              "      <td>0</td>\n",
              "      <td>0</td>\n",
              "      <td>0</td>\n",
              "      <td>0</td>\n",
              "      <td>0</td>\n",
              "      <td>0</td>\n",
              "      <td>0</td>\n",
              "      <td>0</td>\n",
              "      <td>0</td>\n",
              "      <td>0</td>\n",
              "      <td>0</td>\n",
              "      <td>0</td>\n",
              "      <td>0</td>\n",
              "      <td>0</td>\n",
              "      <td>0</td>\n",
              "      <td>0</td>\n",
              "      <td>0</td>\n",
              "      <td>0</td>\n",
              "      <td>0</td>\n",
              "      <td>0</td>\n",
              "      <td>0</td>\n",
              "      <td>0</td>\n",
              "      <td>0</td>\n",
              "      <td>0</td>\n",
              "      <td>0</td>\n",
              "      <td>0</td>\n",
              "      <td>...</td>\n",
              "      <td>0</td>\n",
              "      <td>0</td>\n",
              "      <td>0</td>\n",
              "      <td>0</td>\n",
              "      <td>0</td>\n",
              "      <td>0</td>\n",
              "      <td>0</td>\n",
              "      <td>0</td>\n",
              "      <td>0</td>\n",
              "      <td>0</td>\n",
              "      <td>0</td>\n",
              "      <td>0</td>\n",
              "      <td>0</td>\n",
              "      <td>0</td>\n",
              "      <td>0</td>\n",
              "      <td>0</td>\n",
              "      <td>0</td>\n",
              "      <td>0</td>\n",
              "      <td>0</td>\n",
              "      <td>0</td>\n",
              "      <td>0</td>\n",
              "      <td>0</td>\n",
              "      <td>0</td>\n",
              "      <td>0</td>\n",
              "      <td>0</td>\n",
              "      <td>0</td>\n",
              "      <td>0</td>\n",
              "      <td>0</td>\n",
              "      <td>0</td>\n",
              "      <td>0</td>\n",
              "      <td>0</td>\n",
              "      <td>0</td>\n",
              "      <td>0</td>\n",
              "      <td>0</td>\n",
              "      <td>0</td>\n",
              "      <td>0</td>\n",
              "      <td>0</td>\n",
              "      <td>0</td>\n",
              "      <td>0</td>\n",
              "      <td>0</td>\n",
              "    </tr>\n",
              "    <tr>\n",
              "      <th>21040</th>\n",
              "      <td>3940</td>\n",
              "      <td>1</td>\n",
              "      <td>0</td>\n",
              "      <td>0</td>\n",
              "      <td>0</td>\n",
              "      <td>0</td>\n",
              "      <td>0</td>\n",
              "      <td>0</td>\n",
              "      <td>0</td>\n",
              "      <td>0</td>\n",
              "      <td>0</td>\n",
              "      <td>0</td>\n",
              "      <td>0</td>\n",
              "      <td>0</td>\n",
              "      <td>0</td>\n",
              "      <td>0</td>\n",
              "      <td>0</td>\n",
              "      <td>0</td>\n",
              "      <td>0</td>\n",
              "      <td>0</td>\n",
              "      <td>0</td>\n",
              "      <td>0</td>\n",
              "      <td>0</td>\n",
              "      <td>0</td>\n",
              "      <td>0</td>\n",
              "      <td>0</td>\n",
              "      <td>0</td>\n",
              "      <td>0</td>\n",
              "      <td>0</td>\n",
              "      <td>0</td>\n",
              "      <td>0</td>\n",
              "      <td>0</td>\n",
              "      <td>0</td>\n",
              "      <td>0</td>\n",
              "      <td>0</td>\n",
              "      <td>0</td>\n",
              "      <td>0</td>\n",
              "      <td>0</td>\n",
              "      <td>0</td>\n",
              "      <td>0</td>\n",
              "      <td>...</td>\n",
              "      <td>0</td>\n",
              "      <td>0</td>\n",
              "      <td>0</td>\n",
              "      <td>0</td>\n",
              "      <td>0</td>\n",
              "      <td>0</td>\n",
              "      <td>0</td>\n",
              "      <td>0</td>\n",
              "      <td>0</td>\n",
              "      <td>0</td>\n",
              "      <td>0</td>\n",
              "      <td>0</td>\n",
              "      <td>0</td>\n",
              "      <td>0</td>\n",
              "      <td>0</td>\n",
              "      <td>0</td>\n",
              "      <td>0</td>\n",
              "      <td>0</td>\n",
              "      <td>0</td>\n",
              "      <td>0</td>\n",
              "      <td>0</td>\n",
              "      <td>0</td>\n",
              "      <td>0</td>\n",
              "      <td>0</td>\n",
              "      <td>0</td>\n",
              "      <td>0</td>\n",
              "      <td>0</td>\n",
              "      <td>0</td>\n",
              "      <td>0</td>\n",
              "      <td>0</td>\n",
              "      <td>0</td>\n",
              "      <td>0</td>\n",
              "      <td>0</td>\n",
              "      <td>0</td>\n",
              "      <td>0</td>\n",
              "      <td>0</td>\n",
              "      <td>0</td>\n",
              "      <td>0</td>\n",
              "      <td>0</td>\n",
              "      <td>0</td>\n",
              "    </tr>\n",
              "    <tr>\n",
              "      <th>21041</th>\n",
              "      <td>3943</td>\n",
              "      <td>1</td>\n",
              "      <td>0</td>\n",
              "      <td>0</td>\n",
              "      <td>0</td>\n",
              "      <td>0</td>\n",
              "      <td>0</td>\n",
              "      <td>0</td>\n",
              "      <td>0</td>\n",
              "      <td>0</td>\n",
              "      <td>0</td>\n",
              "      <td>0</td>\n",
              "      <td>0</td>\n",
              "      <td>0</td>\n",
              "      <td>0</td>\n",
              "      <td>0</td>\n",
              "      <td>0</td>\n",
              "      <td>0</td>\n",
              "      <td>0</td>\n",
              "      <td>0</td>\n",
              "      <td>0</td>\n",
              "      <td>0</td>\n",
              "      <td>0</td>\n",
              "      <td>0</td>\n",
              "      <td>0</td>\n",
              "      <td>0</td>\n",
              "      <td>0</td>\n",
              "      <td>0</td>\n",
              "      <td>0</td>\n",
              "      <td>0</td>\n",
              "      <td>0</td>\n",
              "      <td>0</td>\n",
              "      <td>0</td>\n",
              "      <td>0</td>\n",
              "      <td>0</td>\n",
              "      <td>0</td>\n",
              "      <td>0</td>\n",
              "      <td>0</td>\n",
              "      <td>0</td>\n",
              "      <td>0</td>\n",
              "      <td>...</td>\n",
              "      <td>0</td>\n",
              "      <td>0</td>\n",
              "      <td>0</td>\n",
              "      <td>0</td>\n",
              "      <td>0</td>\n",
              "      <td>0</td>\n",
              "      <td>0</td>\n",
              "      <td>0</td>\n",
              "      <td>0</td>\n",
              "      <td>0</td>\n",
              "      <td>0</td>\n",
              "      <td>0</td>\n",
              "      <td>0</td>\n",
              "      <td>0</td>\n",
              "      <td>0</td>\n",
              "      <td>0</td>\n",
              "      <td>0</td>\n",
              "      <td>0</td>\n",
              "      <td>0</td>\n",
              "      <td>0</td>\n",
              "      <td>0</td>\n",
              "      <td>0</td>\n",
              "      <td>0</td>\n",
              "      <td>0</td>\n",
              "      <td>0</td>\n",
              "      <td>0</td>\n",
              "      <td>0</td>\n",
              "      <td>0</td>\n",
              "      <td>0</td>\n",
              "      <td>0</td>\n",
              "      <td>0</td>\n",
              "      <td>0</td>\n",
              "      <td>0</td>\n",
              "      <td>0</td>\n",
              "      <td>0</td>\n",
              "      <td>0</td>\n",
              "      <td>0</td>\n",
              "      <td>0</td>\n",
              "      <td>0</td>\n",
              "      <td>0</td>\n",
              "    </tr>\n",
              "    <tr>\n",
              "      <th>21042</th>\n",
              "      <td>3944</td>\n",
              "      <td>1</td>\n",
              "      <td>0</td>\n",
              "      <td>0</td>\n",
              "      <td>0</td>\n",
              "      <td>0</td>\n",
              "      <td>0</td>\n",
              "      <td>0</td>\n",
              "      <td>0</td>\n",
              "      <td>0</td>\n",
              "      <td>0</td>\n",
              "      <td>0</td>\n",
              "      <td>0</td>\n",
              "      <td>0</td>\n",
              "      <td>0</td>\n",
              "      <td>0</td>\n",
              "      <td>0</td>\n",
              "      <td>0</td>\n",
              "      <td>0</td>\n",
              "      <td>0</td>\n",
              "      <td>0</td>\n",
              "      <td>0</td>\n",
              "      <td>0</td>\n",
              "      <td>0</td>\n",
              "      <td>0</td>\n",
              "      <td>0</td>\n",
              "      <td>0</td>\n",
              "      <td>0</td>\n",
              "      <td>0</td>\n",
              "      <td>0</td>\n",
              "      <td>0</td>\n",
              "      <td>0</td>\n",
              "      <td>0</td>\n",
              "      <td>0</td>\n",
              "      <td>0</td>\n",
              "      <td>0</td>\n",
              "      <td>0</td>\n",
              "      <td>0</td>\n",
              "      <td>0</td>\n",
              "      <td>0</td>\n",
              "      <td>...</td>\n",
              "      <td>0</td>\n",
              "      <td>0</td>\n",
              "      <td>0</td>\n",
              "      <td>0</td>\n",
              "      <td>0</td>\n",
              "      <td>0</td>\n",
              "      <td>0</td>\n",
              "      <td>0</td>\n",
              "      <td>0</td>\n",
              "      <td>0</td>\n",
              "      <td>0</td>\n",
              "      <td>0</td>\n",
              "      <td>0</td>\n",
              "      <td>0</td>\n",
              "      <td>0</td>\n",
              "      <td>0</td>\n",
              "      <td>0</td>\n",
              "      <td>0</td>\n",
              "      <td>0</td>\n",
              "      <td>0</td>\n",
              "      <td>0</td>\n",
              "      <td>0</td>\n",
              "      <td>0</td>\n",
              "      <td>0</td>\n",
              "      <td>0</td>\n",
              "      <td>0</td>\n",
              "      <td>0</td>\n",
              "      <td>0</td>\n",
              "      <td>0</td>\n",
              "      <td>0</td>\n",
              "      <td>0</td>\n",
              "      <td>0</td>\n",
              "      <td>0</td>\n",
              "      <td>0</td>\n",
              "      <td>0</td>\n",
              "      <td>0</td>\n",
              "      <td>0</td>\n",
              "      <td>0</td>\n",
              "      <td>0</td>\n",
              "      <td>0</td>\n",
              "    </tr>\n",
              "  </tbody>\n",
              "</table>\n",
              "<p>21043 rows × 5214 columns</p>\n",
              "</div>"
            ],
            "text/plain": [
              "       movieId  tag_  ...  tag_â¡olivier martinez!  tag_ã‰rase una vez en amã©rica\n",
              "0         3033     0  ...                        0                               0\n",
              "1         3033     0  ...                        0                               0\n",
              "2         3033     0  ...                        0                               0\n",
              "3         3033     0  ...                        0                               0\n",
              "4         3033     0  ...                        0                               0\n",
              "...        ...   ...  ...                      ...                             ...\n",
              "21038     3920     1  ...                        0                               0\n",
              "21039     3934     1  ...                        0                               0\n",
              "21040     3940     1  ...                        0                               0\n",
              "21041     3943     1  ...                        0                               0\n",
              "21042     3944     1  ...                        0                               0\n",
              "\n",
              "[21043 rows x 5214 columns]"
            ]
          },
          "metadata": {
            "tags": []
          },
          "execution_count": 16
        }
      ]
    },
    {
      "cell_type": "code",
      "metadata": {
        "id": "F1zryMtzFAVe"
      },
      "source": [
        "trans_tags = trans_tags.set_index(trans_tags['movieId']).drop(columns='movieId')\n",
        "trans_tags = trans_tags.groupby('movieId', axis=0).sum()\n",
        "trans_tags.drop(columns='tag_', inplace=True)\n"
      ],
      "execution_count": null,
      "outputs": []
    },
    {
      "cell_type": "code",
      "metadata": {
        "id": "mueruVwmDo-v",
        "outputId": "48f6fd28-6f50-400b-b748-a31cada5835b",
        "colab": {
          "base_uri": "https://localhost:8080/",
          "height": 35
        }
      },
      "source": [
        "#tags_df = tags_df.set_index(tags_df['tag'])\n",
        "#tags_df.drop(columns='movieId', inplace=True)\n",
        "matrix = csr_matrix(trans_tags)\n",
        "dense_matrix = matrix.todense()\n",
        "sparsity = float(len(dense_matrix.nonzero()[0]))\n",
        "sparsity /= (dense_matrix.shape[0] * dense_matrix.shape[1])\n",
        "sparsity *= 100\n",
        "print('Sparsity: {:4.2f}%'.format(sparsity))"
      ],
      "execution_count": null,
      "outputs": [
        {
          "output_type": "stream",
          "text": [
            "Sparsity: 0.04%\n"
          ],
          "name": "stdout"
        }
      ]
    },
    {
      "cell_type": "code",
      "metadata": {
        "id": "SkxKUuLfqw39"
      },
      "source": [
        "trans_tags = trans_tags.reset_index()\n",
        "movie_tags_csr = csr_matrix(trans_tags.drop(columns=['movieId']).values)\n",
        "final_dataset['tags'] = movie_tags_csr\n",
        "pickle.dump(final_dataset, (open('/content/drive/My Drive/Master/Data/1Mdatasets.p', 'wb')))"
      ],
      "execution_count": null,
      "outputs": []
    },
    {
      "cell_type": "code",
      "metadata": {
        "id": "nDsRY8oL9VYQ"
      },
      "source": [
        "'''\n",
        "\n",
        "Create interaction matrix that includes negative values\n",
        "for negative ratings\n",
        "\n",
        "'''"
      ],
      "execution_count": null,
      "outputs": []
    },
    {
      "cell_type": "code",
      "metadata": {
        "id": "2wyjgZYNos_N"
      },
      "source": [
        "infile = open('/content/drive/My Drive/Master/Data/10Mdatasets.p', 'rb')\n",
        "final_dataset = pickle.load(infile)\n",
        "infile.close()\n",
        "interactions_df = final_dataset['interactions_df_nonbinary']"
      ],
      "execution_count": null,
      "outputs": []
    },
    {
      "cell_type": "code",
      "metadata": {
        "id": "_t98j364KLGN"
      },
      "source": [
        "def create_interaction_matrix_neg(df,user_col, item_col, rating_col, norm= False, threshold = None):\n",
        "  '''\n",
        "  @author: Aayush Agrawal\n",
        "  @source: https://github.com/aayushmnit/cookbook/blob/master/recsys.py\n",
        "\n",
        "  Function to create an interaction matrix dataframe from transactional type interactions\n",
        "  Required Input -\n",
        "      - df = Pandas DataFrame containing user-item interactions\n",
        "      - user_col = column name containing user's identifier\n",
        "      - item_col = column name containing item's identifier\n",
        "      - rating col = column name containing user feedback on interaction with a given item\n",
        "      - norm (optional) = True if a normalization of ratings is needed\n",
        "      - threshold (required if norm = True) = value above which the rating is favorable\n",
        "  Expected output - \n",
        "      - Pandas dataframe with user-item interactions ready to be fed in a recommendation algorithm\n",
        "  '''\n",
        "  interactions = df.groupby([user_col, item_col])[rating_col] \\\n",
        "          .sum().unstack().reset_index(). \\\n",
        "          fillna(0).set_index(user_col)\n",
        "  if norm:\n",
        "    interactions = interactions.applymap(lambda x: 1 if x > threshold else (-1 if x > 0 and x < threshold else 0))\n",
        "  return interactions"
      ],
      "execution_count": null,
      "outputs": []
    },
    {
      "cell_type": "code",
      "metadata": {
        "id": "kFY7HMGrMbdl",
        "outputId": "63f31668-42a3-40b7-e9c6-68bc2c310898",
        "colab": {
          "base_uri": "https://localhost:8080/",
          "height": 323
        }
      },
      "source": [
        "interactions_neg_matrix = create_interaction_matrix_neg(interactions_df, 'userId', 'movieId', 'rating', norm=True, threshold=3.9)"
      ],
      "execution_count": null,
      "outputs": [
        {
          "output_type": "error",
          "ename": "KeyboardInterrupt",
          "evalue": "ignored",
          "traceback": [
            "\u001b[0;31m---------------------------------------------------------------------------\u001b[0m",
            "\u001b[0;31mKeyboardInterrupt\u001b[0m                         Traceback (most recent call last)",
            "\u001b[0;32m<ipython-input-10-5913adc01ec0>\u001b[0m in \u001b[0;36m<module>\u001b[0;34m()\u001b[0m\n\u001b[0;32m----> 1\u001b[0;31m \u001b[0minteractions_neg_matrix\u001b[0m \u001b[0;34m=\u001b[0m \u001b[0mcreate_interaction_matrix_neg\u001b[0m\u001b[0;34m(\u001b[0m\u001b[0minteractions_df\u001b[0m\u001b[0;34m,\u001b[0m \u001b[0;34m'userId'\u001b[0m\u001b[0;34m,\u001b[0m \u001b[0;34m'movieId'\u001b[0m\u001b[0;34m,\u001b[0m \u001b[0;34m'rating'\u001b[0m\u001b[0;34m,\u001b[0m \u001b[0mnorm\u001b[0m\u001b[0;34m=\u001b[0m\u001b[0;32mTrue\u001b[0m\u001b[0;34m,\u001b[0m \u001b[0mthreshold\u001b[0m\u001b[0;34m=\u001b[0m\u001b[0;36m3.9\u001b[0m\u001b[0;34m)\u001b[0m\u001b[0;34m\u001b[0m\u001b[0;34m\u001b[0m\u001b[0m\n\u001b[0m",
            "\u001b[0;32m<ipython-input-6-03fa24a5b130>\u001b[0m in \u001b[0;36mcreate_interaction_matrix_neg\u001b[0;34m(df, user_col, item_col, rating_col, norm, threshold)\u001b[0m\n\u001b[1;32m     17\u001b[0m   \u001b[0minteractions\u001b[0m \u001b[0;34m=\u001b[0m \u001b[0mdf\u001b[0m\u001b[0;34m.\u001b[0m\u001b[0mgroupby\u001b[0m\u001b[0;34m(\u001b[0m\u001b[0;34m[\u001b[0m\u001b[0muser_col\u001b[0m\u001b[0;34m,\u001b[0m \u001b[0mitem_col\u001b[0m\u001b[0;34m]\u001b[0m\u001b[0;34m)\u001b[0m\u001b[0;34m[\u001b[0m\u001b[0mrating_col\u001b[0m\u001b[0;34m]\u001b[0m           \u001b[0;34m.\u001b[0m\u001b[0msum\u001b[0m\u001b[0;34m(\u001b[0m\u001b[0;34m)\u001b[0m\u001b[0;34m.\u001b[0m\u001b[0munstack\u001b[0m\u001b[0;34m(\u001b[0m\u001b[0;34m)\u001b[0m\u001b[0;34m.\u001b[0m\u001b[0mreset_index\u001b[0m\u001b[0;34m(\u001b[0m\u001b[0;34m)\u001b[0m\u001b[0;34m.\u001b[0m           \u001b[0mfillna\u001b[0m\u001b[0;34m(\u001b[0m\u001b[0;36m0\u001b[0m\u001b[0;34m)\u001b[0m\u001b[0;34m.\u001b[0m\u001b[0mset_index\u001b[0m\u001b[0;34m(\u001b[0m\u001b[0muser_col\u001b[0m\u001b[0;34m)\u001b[0m\u001b[0;34m\u001b[0m\u001b[0;34m\u001b[0m\u001b[0m\n\u001b[1;32m     18\u001b[0m   \u001b[0;32mif\u001b[0m \u001b[0mnorm\u001b[0m\u001b[0;34m:\u001b[0m\u001b[0;34m\u001b[0m\u001b[0;34m\u001b[0m\u001b[0m\n\u001b[0;32m---> 19\u001b[0;31m     \u001b[0minteractions\u001b[0m \u001b[0;34m=\u001b[0m \u001b[0minteractions\u001b[0m\u001b[0;34m.\u001b[0m\u001b[0mapplymap\u001b[0m\u001b[0;34m(\u001b[0m\u001b[0;32mlambda\u001b[0m \u001b[0mx\u001b[0m\u001b[0;34m:\u001b[0m \u001b[0;36m1\u001b[0m \u001b[0;32mif\u001b[0m \u001b[0mx\u001b[0m \u001b[0;34m>\u001b[0m \u001b[0mthreshold\u001b[0m \u001b[0;32melse\u001b[0m \u001b[0;34m(\u001b[0m\u001b[0;34m-\u001b[0m\u001b[0;36m1\u001b[0m \u001b[0;32mif\u001b[0m \u001b[0mx\u001b[0m \u001b[0;34m>\u001b[0m \u001b[0;36m0\u001b[0m \u001b[0;32mand\u001b[0m \u001b[0mx\u001b[0m \u001b[0;34m<\u001b[0m \u001b[0mthreshold\u001b[0m \u001b[0;32melse\u001b[0m \u001b[0;36m0\u001b[0m\u001b[0;34m)\u001b[0m\u001b[0;34m)\u001b[0m\u001b[0;34m\u001b[0m\u001b[0;34m\u001b[0m\u001b[0m\n\u001b[0m\u001b[1;32m     20\u001b[0m   \u001b[0;32mreturn\u001b[0m \u001b[0minteractions\u001b[0m\u001b[0;34m\u001b[0m\u001b[0;34m\u001b[0m\u001b[0m\n",
            "\u001b[0;32m/usr/local/lib/python3.6/dist-packages/pandas/core/frame.py\u001b[0m in \u001b[0;36mapplymap\u001b[0;34m(self, func)\u001b[0m\n\u001b[1;32m   7596\u001b[0m             \u001b[0;32mreturn\u001b[0m \u001b[0mlib\u001b[0m\u001b[0;34m.\u001b[0m\u001b[0mmap_infer\u001b[0m\u001b[0;34m(\u001b[0m\u001b[0mx\u001b[0m\u001b[0;34m.\u001b[0m\u001b[0mastype\u001b[0m\u001b[0;34m(\u001b[0m\u001b[0mobject\u001b[0m\u001b[0;34m)\u001b[0m\u001b[0;34m.\u001b[0m\u001b[0m_values\u001b[0m\u001b[0;34m,\u001b[0m \u001b[0mfunc\u001b[0m\u001b[0;34m)\u001b[0m\u001b[0;34m\u001b[0m\u001b[0;34m\u001b[0m\u001b[0m\n\u001b[1;32m   7597\u001b[0m \u001b[0;34m\u001b[0m\u001b[0m\n\u001b[0;32m-> 7598\u001b[0;31m         \u001b[0;32mreturn\u001b[0m \u001b[0mself\u001b[0m\u001b[0;34m.\u001b[0m\u001b[0mapply\u001b[0m\u001b[0;34m(\u001b[0m\u001b[0minfer\u001b[0m\u001b[0;34m)\u001b[0m\u001b[0;34m\u001b[0m\u001b[0;34m\u001b[0m\u001b[0m\n\u001b[0m\u001b[1;32m   7599\u001b[0m \u001b[0;34m\u001b[0m\u001b[0m\n\u001b[1;32m   7600\u001b[0m     \u001b[0;31m# ----------------------------------------------------------------------\u001b[0m\u001b[0;34m\u001b[0m\u001b[0;34m\u001b[0m\u001b[0;34m\u001b[0m\u001b[0m\n",
            "\u001b[0;32m/usr/local/lib/python3.6/dist-packages/pandas/core/frame.py\u001b[0m in \u001b[0;36mapply\u001b[0;34m(self, func, axis, raw, result_type, args, **kwds)\u001b[0m\n\u001b[1;32m   7539\u001b[0m             \u001b[0mkwds\u001b[0m\u001b[0;34m=\u001b[0m\u001b[0mkwds\u001b[0m\u001b[0;34m,\u001b[0m\u001b[0;34m\u001b[0m\u001b[0;34m\u001b[0m\u001b[0m\n\u001b[1;32m   7540\u001b[0m         )\n\u001b[0;32m-> 7541\u001b[0;31m         \u001b[0;32mreturn\u001b[0m \u001b[0mop\u001b[0m\u001b[0;34m.\u001b[0m\u001b[0mget_result\u001b[0m\u001b[0;34m(\u001b[0m\u001b[0;34m)\u001b[0m\u001b[0;34m\u001b[0m\u001b[0;34m\u001b[0m\u001b[0m\n\u001b[0m\u001b[1;32m   7542\u001b[0m \u001b[0;34m\u001b[0m\u001b[0m\n\u001b[1;32m   7543\u001b[0m     \u001b[0;32mdef\u001b[0m \u001b[0mapplymap\u001b[0m\u001b[0;34m(\u001b[0m\u001b[0mself\u001b[0m\u001b[0;34m,\u001b[0m \u001b[0mfunc\u001b[0m\u001b[0;34m)\u001b[0m \u001b[0;34m->\u001b[0m \u001b[0;34m\"DataFrame\"\u001b[0m\u001b[0;34m:\u001b[0m\u001b[0;34m\u001b[0m\u001b[0;34m\u001b[0m\u001b[0m\n",
            "\u001b[0;32m/usr/local/lib/python3.6/dist-packages/pandas/core/apply.py\u001b[0m in \u001b[0;36mget_result\u001b[0;34m(self)\u001b[0m\n\u001b[1;32m    178\u001b[0m             \u001b[0;32mreturn\u001b[0m \u001b[0mself\u001b[0m\u001b[0;34m.\u001b[0m\u001b[0mapply_raw\u001b[0m\u001b[0;34m(\u001b[0m\u001b[0;34m)\u001b[0m\u001b[0;34m\u001b[0m\u001b[0;34m\u001b[0m\u001b[0m\n\u001b[1;32m    179\u001b[0m \u001b[0;34m\u001b[0m\u001b[0m\n\u001b[0;32m--> 180\u001b[0;31m         \u001b[0;32mreturn\u001b[0m \u001b[0mself\u001b[0m\u001b[0;34m.\u001b[0m\u001b[0mapply_standard\u001b[0m\u001b[0;34m(\u001b[0m\u001b[0;34m)\u001b[0m\u001b[0;34m\u001b[0m\u001b[0;34m\u001b[0m\u001b[0m\n\u001b[0m\u001b[1;32m    181\u001b[0m \u001b[0;34m\u001b[0m\u001b[0m\n\u001b[1;32m    182\u001b[0m     \u001b[0;32mdef\u001b[0m \u001b[0mapply_empty_result\u001b[0m\u001b[0;34m(\u001b[0m\u001b[0mself\u001b[0m\u001b[0;34m)\u001b[0m\u001b[0;34m:\u001b[0m\u001b[0;34m\u001b[0m\u001b[0;34m\u001b[0m\u001b[0m\n",
            "\u001b[0;32m/usr/local/lib/python3.6/dist-packages/pandas/core/apply.py\u001b[0m in \u001b[0;36mapply_standard\u001b[0;34m(self)\u001b[0m\n\u001b[1;32m    253\u001b[0m \u001b[0;34m\u001b[0m\u001b[0m\n\u001b[1;32m    254\u001b[0m     \u001b[0;32mdef\u001b[0m \u001b[0mapply_standard\u001b[0m\u001b[0;34m(\u001b[0m\u001b[0mself\u001b[0m\u001b[0;34m)\u001b[0m\u001b[0;34m:\u001b[0m\u001b[0;34m\u001b[0m\u001b[0;34m\u001b[0m\u001b[0m\n\u001b[0;32m--> 255\u001b[0;31m         \u001b[0mresults\u001b[0m\u001b[0;34m,\u001b[0m \u001b[0mres_index\u001b[0m \u001b[0;34m=\u001b[0m \u001b[0mself\u001b[0m\u001b[0;34m.\u001b[0m\u001b[0mapply_series_generator\u001b[0m\u001b[0;34m(\u001b[0m\u001b[0;34m)\u001b[0m\u001b[0;34m\u001b[0m\u001b[0;34m\u001b[0m\u001b[0m\n\u001b[0m\u001b[1;32m    256\u001b[0m \u001b[0;34m\u001b[0m\u001b[0m\n\u001b[1;32m    257\u001b[0m         \u001b[0;31m# wrap results\u001b[0m\u001b[0;34m\u001b[0m\u001b[0;34m\u001b[0m\u001b[0;34m\u001b[0m\u001b[0m\n",
            "\u001b[0;32m/usr/local/lib/python3.6/dist-packages/pandas/core/apply.py\u001b[0m in \u001b[0;36mapply_series_generator\u001b[0;34m(self)\u001b[0m\n\u001b[1;32m    282\u001b[0m                 \u001b[0;32mfor\u001b[0m \u001b[0mi\u001b[0m\u001b[0;34m,\u001b[0m \u001b[0mv\u001b[0m \u001b[0;32min\u001b[0m \u001b[0menumerate\u001b[0m\u001b[0;34m(\u001b[0m\u001b[0mseries_gen\u001b[0m\u001b[0;34m)\u001b[0m\u001b[0;34m:\u001b[0m\u001b[0;34m\u001b[0m\u001b[0;34m\u001b[0m\u001b[0m\n\u001b[1;32m    283\u001b[0m                     \u001b[0;31m# ignore SettingWithCopy here in case the user mutates\u001b[0m\u001b[0;34m\u001b[0m\u001b[0;34m\u001b[0m\u001b[0;34m\u001b[0m\u001b[0m\n\u001b[0;32m--> 284\u001b[0;31m                     \u001b[0mresults\u001b[0m\u001b[0;34m[\u001b[0m\u001b[0mi\u001b[0m\u001b[0;34m]\u001b[0m \u001b[0;34m=\u001b[0m \u001b[0mself\u001b[0m\u001b[0;34m.\u001b[0m\u001b[0mf\u001b[0m\u001b[0;34m(\u001b[0m\u001b[0mv\u001b[0m\u001b[0;34m)\u001b[0m\u001b[0;34m\u001b[0m\u001b[0;34m\u001b[0m\u001b[0m\n\u001b[0m\u001b[1;32m    285\u001b[0m                     \u001b[0;32mif\u001b[0m \u001b[0misinstance\u001b[0m\u001b[0;34m(\u001b[0m\u001b[0mresults\u001b[0m\u001b[0;34m[\u001b[0m\u001b[0mi\u001b[0m\u001b[0;34m]\u001b[0m\u001b[0;34m,\u001b[0m \u001b[0mABCSeries\u001b[0m\u001b[0;34m)\u001b[0m\u001b[0;34m:\u001b[0m\u001b[0;34m\u001b[0m\u001b[0;34m\u001b[0m\u001b[0m\n\u001b[1;32m    286\u001b[0m                         \u001b[0;31m# If we have a view on v, we need to make a copy because\u001b[0m\u001b[0;34m\u001b[0m\u001b[0;34m\u001b[0m\u001b[0;34m\u001b[0m\u001b[0m\n",
            "\u001b[0;32m/usr/local/lib/python3.6/dist-packages/pandas/core/frame.py\u001b[0m in \u001b[0;36minfer\u001b[0;34m(x)\u001b[0m\n\u001b[1;32m   7594\u001b[0m             \u001b[0;32mif\u001b[0m \u001b[0mx\u001b[0m\u001b[0;34m.\u001b[0m\u001b[0mempty\u001b[0m\u001b[0;34m:\u001b[0m\u001b[0;34m\u001b[0m\u001b[0;34m\u001b[0m\u001b[0m\n\u001b[1;32m   7595\u001b[0m                 \u001b[0;32mreturn\u001b[0m \u001b[0mlib\u001b[0m\u001b[0;34m.\u001b[0m\u001b[0mmap_infer\u001b[0m\u001b[0;34m(\u001b[0m\u001b[0mx\u001b[0m\u001b[0;34m,\u001b[0m \u001b[0mfunc\u001b[0m\u001b[0;34m)\u001b[0m\u001b[0;34m\u001b[0m\u001b[0;34m\u001b[0m\u001b[0m\n\u001b[0;32m-> 7596\u001b[0;31m             \u001b[0;32mreturn\u001b[0m \u001b[0mlib\u001b[0m\u001b[0;34m.\u001b[0m\u001b[0mmap_infer\u001b[0m\u001b[0;34m(\u001b[0m\u001b[0mx\u001b[0m\u001b[0;34m.\u001b[0m\u001b[0mastype\u001b[0m\u001b[0;34m(\u001b[0m\u001b[0mobject\u001b[0m\u001b[0;34m)\u001b[0m\u001b[0;34m.\u001b[0m\u001b[0m_values\u001b[0m\u001b[0;34m,\u001b[0m \u001b[0mfunc\u001b[0m\u001b[0;34m)\u001b[0m\u001b[0;34m\u001b[0m\u001b[0;34m\u001b[0m\u001b[0m\n\u001b[0m\u001b[1;32m   7597\u001b[0m \u001b[0;34m\u001b[0m\u001b[0m\n\u001b[1;32m   7598\u001b[0m         \u001b[0;32mreturn\u001b[0m \u001b[0mself\u001b[0m\u001b[0;34m.\u001b[0m\u001b[0mapply\u001b[0m\u001b[0;34m(\u001b[0m\u001b[0minfer\u001b[0m\u001b[0;34m)\u001b[0m\u001b[0;34m\u001b[0m\u001b[0;34m\u001b[0m\u001b[0m\n",
            "\u001b[0;31mKeyboardInterrupt\u001b[0m: "
          ]
        }
      ]
    },
    {
      "cell_type": "code",
      "metadata": {
        "id": "dKugY3uANFux"
      },
      "source": [
        "train_neg, test_neg = random_train_test_split(csr_matrix(interactions_neg_matrix), test_percentage=0.2)"
      ],
      "execution_count": null,
      "outputs": []
    },
    {
      "cell_type": "code",
      "metadata": {
        "id": "cMLFbv7oMotr"
      },
      "source": [
        "final_dataset['interactions_neg'] = interactions_neg_matrix\n",
        "final_dataset['train_neg'] = train_neg\n",
        "final_dataset['test_neg'] = test_neg"
      ],
      "execution_count": null,
      "outputs": []
    },
    {
      "cell_type": "code",
      "metadata": {
        "id": "y0ECN0U5qNPo"
      },
      "source": [
        ""
      ],
      "execution_count": null,
      "outputs": []
    },
    {
      "cell_type": "code",
      "metadata": {
        "id": "ghiqjjjeNKvV"
      },
      "source": [
        "pickle.dump(final_dataset, (open('/content/drive/My Drive/Master/Data/10Mdatasets.p', 'wb')))"
      ],
      "execution_count": null,
      "outputs": []
    },
    {
      "cell_type": "code",
      "execution_count": 1,
      "metadata": {},
      "outputs": [],
      "source": [
        "'''\n",
        "Tilrettelegge datasett for web-applikasjonen\n",
        "Krav:\n",
        "- JSON-format\n",
        "- Datasettet skal inkludere attributtene movieId, imdbId, genre\n",
        "'''\n",
        "\n",
        "import pickle\n",
        "import pandas as pd\n",
        "import json\n",
        "\n",
        "imdb_df = pickle.load(open('../Feature extraction/data/subtitle_movies.p', 'rb'))\n",
        "movies = pickle.load(open('../Feature extraction/data/1Mdatasets.p', 'rb'))\n",
        "movies = movies['item_dict']"
      ]
    },
    {
      "cell_type": "code",
      "execution_count": 2,
      "metadata": {},
      "outputs": [],
      "source": [
        "movies_df = imdb_df.merge(pd.DataFrame(data=movies.keys()).\n",
        "                            rename(columns={0:'movieId'}).astype(int), on='movieId')\n",
        "movies_df.drop(columns='title', inplace=True)\n",
        "movies_df.genres = movies_df.genres.apply(lambda x: list(x.split('|')))"
      ]
    },
    {
      "cell_type": "code",
      "execution_count": 5,
      "metadata": {},
      "outputs": [],
      "source": [
        "movies_json = movies_df.to_json(orient='table', index=False)\n",
        "parsed = json.loads(movies_json)\n",
        "json.dump(parsed, open('movies.json', 'w'))"
      ]
    },
    {
      "cell_type": "code",
      "execution_count": 27,
      "metadata": {},
      "outputs": [
        {
          "output_type": "execute_result",
          "data": {
            "text/plain": [
              "Horror\",\"Sci-Fi\",\"Thriller\"],\"imdbId\":\"134847\"},\"1233\":{\"movieId\":3302,\"genres\":[\"Comedy\"],\"imdbId\":\"159272\"},\"1234\":{\"movieId\":3304,\"genres\":[\"Crime\",\"Drama\"],\"imdbId\":\"77248\"},\"1235\":{\"movieId\":3306,\"genres\":[\"Comedy\"],\"imdbId\":\"18773\"},\"1236\":{\"movieId\":3307,\"genres\":[\"Comedy\",\"Drama\",\"Romance\"],\"imdbId\":\"21749\"},\"1237\":{\"movieId\":3309,\"genres\":[\"Comedy\"],\"imdbId\":\"9018\"},\"1238\":{\"movieId\":3311,\"genres\":[\"Western\"],\"imdbId\":\"48342\"},\"1239\":{\"movieId\":3317,\"genres\":[\"Comedy\",\"Drama\"],\"imdbId\":\"185014\"},\"1240\":{\"movieId\":3320,\"genres\":[\"Comedy\",\"Drama\",\"Romance\"],\"imdbId\":\"164756\"},\"1241\":{\"movieId\":3323,\"genres\":[\"Comedy\",\"Crime\"],\"imdbId\":\"194368\"},\"1242\":{\"movieId\":3324,\"genres\":[\"Comedy\"],\"imdbId\":\"186045\"},\"1243\":{\"movieId\":3328,\"genres\":[\"Crime\",\"Drama\"],\"imdbId\":\"165798\"},\"1244\":{\"movieId\":3330,\"genres\":[\"Drama\",\"Romance\"],\"imdbId\":\"55471\"},\"1245\":{\"movieId\":3331,\"genres\":[\"Drama\"],\"imdbId\":\"85980\"},\"1246\":{\"movieId\":3333,\"genres\":[\"Drama\"],\"imdbId\":\"63185\"},\"1247\":{\"movieId\":3334,\"genres\":[\"Crime\",\"Drama\",\"Film-Noir\",\"Thriller\"],\"imdbId\":\"40506\"},\"1248\":{\"movieId\":3338,\"genres\":[\"Documentary\"],\"imdbId\":\"97372\"},\"1249\":{\"movieId\":3339,\"genres\":[\"War\"],\"imdbId\":\"74695\"},\"1250\":{\"movieId\":3340,\"genres\":[\"Horror\",\"Sci-Fi\"],\"imdbId\":\"47898\"},\"1251\":{\"movieId\":3351,\"genres\":[\"Horror\"],\"imdbId\":\"58694\"},\"1252\":{\"movieId\":3353,\"genres\":[\"Comedy\",\"Romance\"],\"imdbId\":\"218112\"},\"1253\":{\"movieId\":3354,\"genres\":[\"Sci-Fi\"],\"imdbId\":\"183523\"},\"1254\":{\"movieId\":3357,\"genres\":[\"Drama\",\"Romance\"],\"imdbId\":\"181530\"},\"1255\":{\"movieId\":3367,\"genres\":[\"War\"],\"imdbId\":\"62886\"},\"1256\":{\"movieId\":3372,\"genres\":[\"Action\",\"War\"],\"imdbId\":\"64110\"},\"1257\":{\"movieId\":3374,\"genres\":[\"Drama\"],\"imdbId\":\"104057\"},\"1258\":{\"movieId\":3375,\"genres\":[\"Sci-Fi\"],\"imdbId\":\"42393\"},\"1259\":{\"movieId\":3376,\"genres\":[\"Romance\"],\"imdbId\":\"41705\"},\"1260\":{\"movieId\":3377,\"genres\":[\"Drama\",\"War\"],\"imdbId\":\"35966\"},\"1261\":{\"movieId\":3379,\"genres\":[\"Drama\"],\"imdbId\":\"53137\"},\"1262\":{\"movieId\":3380,\"genres\":[\"Film-Noir\"],\"imdbId\":\"39748\"},\"1263\":{\"movieId\":3384,\"genres\":[\"Action\",\"Crime\"],\"imdbId\":\"72251\"},\"1264\":{\"movieId\":3386,\"genres\":[\"Drama\",\"Mystery\",\"Thriller\"],\"imdbId\":\"102138\"},\"1265\":{\"movieId\":3387,\"genres\":[\"Comedy\",\"Mystery\"],\"imdbId\":\"98645\"},\"1266\":{\"movieId\":3389,\"genres\":[\"Action\",\"Adventure\"],\"imdbId\":\"91400\"},\"1267\":{\"movieId\":3393,\"genres\":[\"Comedy\",\"Fantasy\",\"Romance\"],\"imdbId\":\"92834\"},\"1268\":{\"movieId\":3395,\"genres\":[\"Comedy\"],\"imdbId\":\"93596\"},\"1269\":{\"movieId\":3397,\"genres\":[\"Children\",\"Comedy\"],\"imdbId\":\"82474\"},\"1270\":{\"movieId\":3398,\"genres\":[\"Children\",\"Comedy\",\"Musical\"],\"imdbId\":\"87755\"},\"1271\":{\"movieId\":3400,\"genres\":[\"Adventure\",\"Animation\",\"Children\",\"Fantasy\"],\"imdbId\":\"108526\"},\"1272\":{\"movieId\":3401,\"genres\":[\"Adventure\",\"Sci-Fi\"],\"imdbId\":\"88760\"},\"1273\":{\"movieId\":3403,\"genres\":[\"Drama\",\"Thriller\"],\"imdbId\":\"81400\"},\"1274\":{\"movieId\":3404,\"genres\":[\"Action\",\"Drama\"],\"imdbId\":\"46435\"},\"1275\":{\"movieId\":3405,\"genres\":[\"Action\",\"Drama\"],\"imdbId\":\"51994\"},\"1276\":{\"movieId\":3406,\"genres\":[\"Action\",\"Adventure\",\"Drama\",\"War\"],\"imdbId\":\"43379\"},\"1277\":{\"movieId\":3408,\"genres\":[\"Drama\"],\"imdbId\":\"195685\"},\"1278\":{\"movieId\":3415,\"genres\":[\"Drama\"],\"imdbId\":\"72443\"},\"1279\":{\"movieId\":3418,\"genres\":[\"Adventure\",\"Crime\",\"Drama\"],\"imdbId\":\"103074\"},\"1280\":{\"movieId\":3419,\"genres\":[\"Comedy\",\"Crime\"],\"imdbId\":\"66392\"},\"1281\":{\"movieId\":3422,\"genres\":[\"Comedy\",\"Romance\"],\"imdbId\":\"91939\"},\"1282\":{\"movieId\":3423,\"genres\":[\"Drama\"],\"imdbId\":\"96054\"},\"1283\":{\"movieId\":3424,\"genres\":[\"Drama\"],\"imdbId\":\"97216\"},\"1284\":{\"movieId\":3426,\"genres\":[\"Drama\",\"Romance\"],\"imdbId\":\"102175\"},\"1285\":{\"movieId\":3431,\"genres\":[\"Action\",\"Drama\"],\"imdbId\":\"82250\"},\"1286\":{\"movieId\":3432,\"genres\":[\"Action\",\"Drama\"],\"imdbId\":\"89003\"},\"1287\":{\"movieId\":3434,\"genres\":[\"Action\",\"Drama\"],\"imdbId\":\"109578\"},\"1288\":{\"movieId\":3435,\"genres\":[\"Crime\",\"Drama\",\"Film-Noir\"],\"imdbId\":\"36775\"},\"1289\":{\"movieId\":3439,\"genres\":[\"Action\",\"Children\",\"Fantasy\"],\"imdbId\":\"103060\"},\"1290\":{\"movieId\":3440,\"genres\":[\"Action\",\"Adventure\",\"Children\",\"Comedy\",\"Fantasy\"],\"imdbId\":\"108308\"},\"1291\":{\"movieId\":3444,\"genres\":[\"Action\"],\"imdbId\":\"92675\"},\"1292\":{\"movieId\":3446,\"genres\":[\"Comedy\",\"Drama\"],\"imdbId\":\"113133\"},\"1293\":{\"movieId\":3448,\"genres\":[\"Comedy\",\"Drama\",\"War\"],\"imdbId\":\"93105\"},\"1294\":{\"movieId\":3449,\"genres\":[\"Drama\"],\"imdbId\":\"95238\"},\"1295\":{\"movieId\":3450,\"genres\":[\"Comedy\"],\"imdbId\":\"107050\"},\"1296\":{\"movieId\":3451,\"genres\":[\"Drama\"],\"imdbId\":\"61735\"},\"1297\":{\"movieId\":3453,\"genres\":[\"Drama\",\"Romance\"],\"imdbId\":\"195778\"},\"1298\":{\"movieId\":3457,\"genres\":[\"Drama\",\"Thriller\"],\"imdbId\":\"259733\"},\"1299\":{\"movieId\":3459,\"genres\":[\"Drama\",\"Horror\"],\"imdbId\":\"91142\"},\"1300\":{\"movieId\":3460,\"genres\":[\"Comedy\"],\"imdbId\":\"61765\"},\"1301\":{\"movieId\":3462,\"genres\":[\"Comedy\",\"Drama\",\"Romance\"],\"imdbId\":\"27977\"},\"1302\":{\"movieId\":3466,\"genres\":[\"Comedy\",\"Fantasy\"],\"imdbId\":\"107091\"},\"1303\":{\"movieId\":3467,\"genres\":[\"Drama\",\"Western\"],\"imdbId\":\"57163\"},\"1304\":{\"movieId\":3468,\"genres\":[\"Drama\"],\"imdbId\":\"54997\"},\"1305\":{\"movieId\":3469,\"genres\":[\"Drama\"],\"imdbId\":\"53946\"},\"1306\":{\"movieId\":3470,\"genres\":[\"Adventure\",\"Drama\"],\"imdbId\":\"71411\"},\"1307\":{\"movieId\":3471,\"genres\":[\"Adventure\",\"Drama\",\"Sci-Fi\"],\"imdbId\":\"75860\"},\"1308\":{\"movieId\":3475,\"genres\":[\"Drama\",\"Romance\"],\"imdbId\":\"43924\"},\"1309\":{\"movieId\":3478,\"genres\":[\"Drama\"],\"imdbId\":\"93378\"},\"1310\":{\"movieId\":3479,\"genres\":[\"Adventure\",\"Fantasy\",\"Romance\"],\"imdbId\":\"89457\"},\"1311\":{\"movieId\":3480,\"genres\":[\"Drama\",\"Romance\"],\"imdbId\":\"91445\"},\"1312\":{\"movieId\":3483,\"genres\":[\"Animation\",\"Children\"],\"imdbId\":\"138749\"},\"1313\":{\"movieId\":3484,\"genres\":[\"Thriller\"],\"imdbId\":\"192614\"},\"1314\":{\"movieId\":3485,\"genres\":[\"Horror\"],\"imdbId\":\"73327\"},\"1315\":{\"movieId\":3486,\"genres\":[\"Sci-Fi\"],\"imdbId\":\"46907\"},\"1316\":{\"movieId\":3490,\"genres\":[\"Horror\"],\"imdbId\":\"68713\"},\"1317\":{\"movieId\":3493,\"genres\":[\"Horror\",\"Mystery\",\"Thriller\"],\"imdbId\":\"69920\"},\"1318\":{\"movieId\":3494,\"genres\":[\"Adventure\",\"Drama\",\"Western\"],\"imdbId\":\"65126\"},\"1319\":{\"movieId\":3496,\"genres\":[\"Drama\"],\"imdbId\":\"95564\"},\"1320\":{\"movieId\":3498,\"genres\":[\"Drama\"],\"imdbId\":\"77928\"},\"1321\":{\"movieId\":3499,\"genres\":[\"Drama\",\"Horror\",\"Thriller\"],\"imdbId\":\"100157\"},\"1322\":{\"movieId\":3501,\"genres\":[\"Comedy\",\"Romance\"],\"imdbId\":\"89643\"},\"1323\":{\"movieId\":3502,\"genres\":[\"Drama\"],\"imdbId\":\"107630\"},\"1324\":{\"movieId\":3503,\"genres\":[\"Drama\",\"Mystery\",\"Sci-Fi\"],\"imdbId\":\"69293\"},\"1325\":{\"movieId\":3504,\"genres\":[\"Comedy\",\"Drama\"],\"imdbId\":\"74958\"},\"1326\":{\"movieId\":3509,\"genres\":[\"Drama\"],\"imdbId\":\"149898\"},\"1327\":{\"movieId\":3511,\"genres\":[\"Comedy\"],\"imdbId\":\"217756\"},\"1328\":{\"movieId\":3515,\"genres\":[\"Comedy\",\"Romance\"],\"imdbId\":\"183505\"},\"1329\":{\"movieId\":3521,\"genres\":[\"Comedy\",\"Drama\"],\"imdbId\":\"97940\"},\"1330\":{\"movieId\":3522,\"genres\":[\"Drama\"],\"imdbId\":\"67698\"},\"1331\":{\"movieId\":3523,\"genres\":[\"Action\",\"Thriller\"],\"imdbId\":\"96211\"},\"1332\":{\"movieId\":3524,\"genres\":[\"Comedy\",\"Romance\"],\"imdbId\":\"82031\"},\"1333\":{\"movieId\":3526,\"genres\":[\"Comedy\",\"Drama\"],\"imdbId\":\"98067\"},\"1334\":{\"movieId\":3527,\"genres\":[\"Action\",\"Sci-Fi\",\"Thriller\"],\"imdbId\":\"93773\"},\"1335\":{\"movieId\":3528,\"genres\":[\"Drama\",\"Romance\"],\"imdbId\":\"102713\"},\"1336\":{\"movieId\":3529,\"genres\":[\"Crime\",\"Thriller\"],\"imdbId\":\"82934\"},\"1337\":{\"movieId\":3534,\"genres\":[\"Drama\"],\"imdbId\":\"191754\"},\"1338\":{\"movieId\":3535,\"genres\":[\"Crime\",\"Horror\",\"Mystery\",\"Thriller\"],\"imdbId\":\"144084\"},\"1339\":{\"movieId\":3536,\"genres\":[\"Comedy\",\"Drama\",\"Romance\"],\"imdbId\":\"171433\"},\"1340\":{\"movieId\":3537,\"genres\":[\"Comedy\",\"Drama\"],\"imdbId\":\"149367\"},\"1341\":{\"movieId\":3538,\"genres\":[\"Comedy\"],\"imdbId\":\"166175\"},\"1342\":{\"movieId\":3543,\"genres\":[\"Comedy\",\"Drama\"],\"imdbId\":\"83833\"},\"1343\":{\"movieId\":3544,\"genres\":[\"Comedy\"],\"imdbId\":\"102898\"},\"1344\":{\"movieId\":3545,\"genres\":[\"Drama\",\"Musical\"],\"imdbId\":\"68327\"},\"1345\":{\"movieId\":3546,\"genres\":[\"Drama\",\"Horror\",\"Thriller\"],\"imdbId\":\"56687\"},\"1346\":{\"movieId\":3547,\"genres\":[\"Comedy\",\"Drama\"],\"imdbId\":\"93776\"},\"1347\":{\"movieId\":3549,\"genres\":[\"Comedy\",\"Musical\",\"Romance\"],\"imdbId\":\"48140\"},\"1348\":{\"movieId\":3550,\"genres\":[\"Horror\"],\"imdbId\":\"85701\"},\"1349\":{\"movieId\":3551,\"genres\":[\"Crime\",\"Drama\",\"Thriller\"],\"imdbId\":\"74860\"},\"1350\":{\"movieId\":3556,\"genres\":[\"Drama\",\"Romance\"],\"imdbId\":\"159097\"},\"1351\":{\"movieId\":3562,\"genres\":[\"Comedy\",\"Drama\"],\"imdbId\":\"144142\"},\"1352\":{\"movieId\":3563,\"genres\":[\"Action\",\"Horror\"],\"imdbId\":\"132910\"},\"1353\":{\"movieId\":3564,\"genres\":[\"Children\",\"Comedy\"],\"imdbId\":\"158622\"},\"1354\":{\"movieId\":3565,\"genres\":[\"Comedy\",\"Drama\"],\"imdbId\":\"198021\"},\"1355\":{\"movieId\":3569,\"genres\":[\"Comedy\",\"Drama\"],\"imdbId\":\"154421\"},\"1356\":{\"movieId\":3571,\"genres\":[\"Comedy\",\"Drama\"],\"imdbId\":\"220100\"},\"1357\":{\"movieId\":3572,\"genres\":[\"Horror\",\"Sci-Fi\"],\"imdbId\":\"106521\"},\"1358\":{\"movieId\":3577,\"genres\":[\"Drama\",\"Romance\"],\"imdbId\":\"96324\"},\"1359\":{\"movieId\":3579,\"genres\":[\"Drama\"],\"imdbId\":\"167203\"},\"1360\":{\"movieId\":3584,\"genres\":[\"Action\",\"Drama\",\"Romance\",\"Thriller\"],\"imdbId\":\"85276\"},\"1361\":{\"movieId\":3585,\"genres\":[\"Adventure\",\"War\"],\"imdbId\":\"49279\"},\"1362\":{\"movieId\":3587,\"genres\":[\"Horror\"],\"imdbId\":\"80923\"},\"1363\":{\"movieId\":3590,\"genres\":[\"Comedy\",\"Drama\"],\"imdbId\":\"71772\"},\"1364\":{\"movieId\":3591,\"genres\":[\"Comedy\",\"Drama\"],\"imdbId\":\"85970\"},\"1365\":{\"movieId\":3594,\"genres\":[\"Drama\",\"Musical\"],\"imdbId\":\"210616\"},\"1366\":{\"movieId\":3595,\"genres\":[\"Comedy\"],\"imdbId\":\"165831\"},\"1367\":{\"movieId\":3596,\"genres\":[\"Comedy\"],\"imdbId\":\"156323\"},\"1368\":{\"movieId\":3599,\"genres\":[\"Comedy\",\"Musical\"],\"imdbId\":\"37514\"},\"1369\":{\"movieId\":3603,\"genres\":[\"Comedy\"],\"imdbId\":\"64363\"},\"1370\":{\"movieId\":3604,\"genres\":[\"Musical\"],\"imdbId\":\"56048\"},\"1371\":{\"movieId\":3605,\"genres\":[\"Crime\",\"Drama\",\"Musical\"],\"imdbId\":\"51818\"},\"1372\":{\"movieId\":3606,\"genres\":[\"Comedy\",\"Musical\",\"Romance\"],\"imdbId\":\"41716\"},\"1373\":{\"movieId\":3607,\"genres\":[\"Comedy\",\"Western\"],\"imdbId\":\"70481\"},\"1374\":{\"movieId\":3610,\"genres\":[\"Drama\",\"Musical\",\"Romance\"],\"imdbId\":\"58534\"},\"1375\":{\"movieId\":3622,\"genres\":[\"Comedy\"],\"imdbId\":\"66495\"},\"1376\":{\"movieId\":3623,\"genres\":[\"Action\",\"Adventure\",\"Thriller\"],\"imdbId\":\"120755\"},\"1377\":{\"movieId\":3624,\"genres\":[\"Action\",\"Adventure\",\"Comedy\",\"Western\"],\"imdbId\":\"184894\"},\"1378\":{\"movieId\":3628,\"genres\":[\"Action\",\"Drama\",\"Romance\",\"War\"],\"imdbId\":\"34742\"},\"1379\":{\"movieId\":3629,\"genres\":[\"Adventure\",\"Comedy\",\"Romance\"],\"imdbId\":\"15864\"},\"1380\":{\"movieId\":3633,\"genres\":[\"Action\",\"Adventure\",\"Romance\",\"Thriller\"],\"imdbId\":\"64757\"},\"1381\":{\"movieId\":3638,\"genres\":[\"Action\",\"Adventure\",\"Sci-Fi\",\"Thriller\"],\"imdbId\":\"79574\"},\"1382\":{\"movieId\":3639,\"genres\":[\"Action\",\"Adventure\",\"Thriller\"],\"imdbId\":\"71807\"},\"1383\":{\"movieId\":3651,\"genres\":[\"Horror\"],\"imdbId\":\"69029\"},\"1384\":{\"movieId\":3655,\"genres\":[\"Drama\"],\"imdbId\":\"70130\"},\"1385\":{\"movieId\":3658,\"genres\":[\"Horror\",\"Sci-Fi\"],\"imdbId\":\"62168\"},\"1386\":{\"movieId\":3659,\"genres\":[\"Sci-Fi\",\"Thriller\"],\"imdbId\":\"50873\"},\"1387\":{\"movieId\":3660,\"genres\":[\"Horror\",\"Sci-Fi\",\"Thriller\"],\"imdbId\":\"98143\"},\"1388\":{\"movieId\":3661,\"genres\":[\"Horror\",\"Sci-Fi\",\"Thriller\"],\"imdbId\":\"100438\"},\"1389\":{\"movieId\":3669,\"genres\":[\"Comedy\"],\"imdbId\":\"105466\"},\"1390\":{\"movieId\":3673,\"genres\":[\"Adventure\",\"Children\"],\"imdbId\":\"92638\"},\"1391\":{\"movieId\":3675,\"genres\":[\"Comedy\",\"Musical\",\"Romance\"],\"imdbId\":\"47673\"},\"1392\":{\"movieId\":3676,\"genres\":[\"Drama\",\"Horror\"],\"imdbId\":\"74486\"},\"1393\":{\"movieId\":3677,\"genres\":[\"Documentary\"],\"imdbId\":\"103767\"},\"1394\":{\"movieId\":3681,\"genres\":[\"Action\",\"Drama\",\"Thriller\",\"Western\"],\"imdbId\":\"59578\"},\"1395\":{\"movieId\":3682,\"genres\":[\"Action\",\"Crime\",\"Drama\",\"Thriller\"],\"imdbId\":\"70355\"},\"1396\":{\"movieId\":3683,\"genres\":[\"Crime\",\"Drama\",\"Film-Noir\"],\"imdbId\":\"86979\"},\"1397\":{\"movieId\":3685,\"genres\":[\"Comedy\",\"Drama\",\"Romance\"],\"imdbId\":\"89841\"},\"1398\":{\"movieId\":3686,\"genres\":[\"Horror\",\"Sci-Fi\",\"Thriller\"],\"imdbId\":\"99582\"},\"1399\":{\"movieId\":3689,\"genres\":[\"Comedy\"],\"imdbId\":\"86129\"},\"1400\":{\"movieId\":3694,\"genres\":[\"Comedy\",\"Horror\"],\"imdbId\":\"98503\"},\"1401\":{\"movieId\":3696,\"genres\":[\"Comedy\",\"Horror\",\"Sci-Fi\",\"Thriller\"],\"imdbId\":\"91630\"},\"1402\":{\"movieId\":3697,\"genres\":[\"Action\",\"Sci-Fi\",\"Thriller\"],\"imdbId\":\"100403\"},\"1403\":{\"movieId\":3699,\"genres\":[\"Adventure\",\"Drama\",\"Romance\",\"Sci-Fi\"],\"imdbId\":\"88172\"},\"1404\":{\"movieId\":3700,\"genres\":[\"Drama\",\"Sci-Fi\"],\"imdbId\":\"87004\"},\"1405\":{\"movieId\":3701,\"genres\":[\"Crime\",\"Drama\",\"Sci-Fi\",\"Thriller\"],\"imdbId\":\"94631\"},\"1406\":{\"movieId\":3702,\"genres\":[\"Action\",\"Adventure\",\"Sci-Fi\"],\"imdbId\":\"79501\"},\"1407\":{\"movieId\":3704,\"genres\":[\"Action\",\"Adventure\",\"Sci-Fi\"],\"imdbId\":\"89530\"},\"1408\":{\"movieId\":3705,\"genres\":[\"Action\",\"Comedy\",\"Romance\"],\"imdbId\":\"99141\"},\"1409\":{\"movieId\":3707,\"genres\":[\"Drama\",\"Romance\"],\"imdbId\":\"91635\"},\"1410\":{\"movieId\":3708,\"genres\":[\"Horror\",\"Thriller\"],\"imdbId\":\"87262\"},\"1411\":{\"movieId\":3714,\"genres\":[\"Drama\"],\"imdbId\":\"94882\"},\"1412\":{\"movieId\":3715,\"genres\":[\"Comedy\",\"Crime\"],\"imdbId\":\"92710\"},\"1413\":{\"movieId\":3717,\"genres\":[\"Action\",\"Crime\"],\"imdbId\":\"187078\"},\"1414\":{\"movieId\":3719,\"genres\":[\"Comedy\",\"Romance\"],\"imdbId\":\"182295\"},\"1415\":{\"movieId\":3723,\"genres\":[\"Drama\"],\"imdbId\":\"99726\"},\"1416\":{\"movieId\":3741,\"genres\":[\"Crime\",\"Drama\",\"Thriller\"],\"imdbId\":\"69762\"},\"1417\":{\"movieId\":3742,\"genres\":[\"Drama\",\"War\"],\"imdbId\":\"15648\"},\"1418\":{\"movieId\":3743,\"genres\":[\"Comedy\",\"Romance\"],\"imdbId\":\"204175\"},\"1419\":{\"movieId\":3744,\"genres\":[\"Action\",\"Crime\",\"Thriller\"],\"imdbId\":\"162650\"},\"1420\":{\"movieId\":3746,\"genres\":[\"Drama\"],\"imdbId\":\"188030\"},\"1421\":{\"movieId\":3747,\"genres\":[\"Drama\"],\"imdbId\":\"186253\"},\"1422\":{\"movieId\":3751,\"genres\":[\"Animation\",\"Children\",\"Comedy\"],\"imdbId\":\"120630\"},\"1423\":{\"movieId\":3752,\"genres\":[\"Adventure\",\"Comedy\"],\"imdbId\":\"183505\"},\"1424\":{\"movieId\":3753,\"genres\":[\"Action\",\"Drama\",\"War\"],\"imdbId\":\"187393\"},\"1425\":{\"movieId\":3756,\"genres\":[\"Drama\"],\"imdbId\":\"200669\"},\"1426\":{\"movieId\":3757,\"genres\":[\"Horror\"],\"imdbId\":\"68230\"},\"1427\":{\"movieId\":3759,\"genres\":[\"Animation\",\"Children\",\"Musical\"],\"imdbId\":\"39404\"},\"1428\":{\"movieId\":3760,\"genres\":[\"Comedy\"],\"imdbId\":\"76257\"},\"1429\":{\"movieId\":3763,\"genres\":[\"Action\",\"Crime\",\"Thriller\"],\"imdbId\":\"89118\"},\"1430\":{\"movieId\":3766,\"genres\":[\"Action\",\"War\"],\"imdbId\":\"87727\"},\"1431\":{\"movieId\":3768,\"genres\":[\"Action\",\"War\"],\"imdbId\":\"94792\"},\"1432\":{\"movieId\":3771,\"genres\":[\"Action\",\"Adventure\",\"Fantasy\"],\"imdbId\":\"71569\"},\"1433\":{\"movieId\":3774,\"genres\":[\"Comedy\",\"Drama\",\"Romance\"],\"imdbId\":\"102065\"},\"1434\":{\"movieId\":3775,\"genres\":[\"Animation\",\"Children\",\"Musical\"],\"imdbId\":\"38718\"},\"1435\":{\"movieId\":3776,\"genres\":[\"Animation\",\"Children\",\"Musical\"],\"imdbId\":\"40580\"},\"1436\":{\"movieId\":3777,\"genres\":[\"Comedy\",\"Horror\"],\"imdbId\":\"93608\"},\"1437\":{\"movieId\":3781,\"genres\":[\"Action\",\"Crime\"],\"imdbId\":\"70679\"},\"1438\":{\"movieId\":3782,\"genres\":[\"Action\",\"Crime\"],\"imdbId\":\"69257\"},\"1439\":{\"movieId\":3785,\"genres\":[\"Comedy\",\"Horror\"],\"imdbId\":\"175142\"},\"1440\":{\"movieId\":3788,\"genres\":[\"Drama\",\"Mystery\"],\"imdbId\":\"60176\"},\"1441\":{\"movieId\":3789,\"genres\":[\"Drama\"],\"imdbId\":\"59575\"},\"1442\":{\"movieId\":3792,\"genres\":[\"Western\"],\"imdbId\":\"38499\"},\"1443\":{\"movieId\":3793,\"genres\":[\"Action\",\"Adventure\",\"Sci-Fi\"],\"imdbId\":\"120903\"},\"1444\":{\"movieId\":3794,\"genres\":[\"Comedy\",\"Drama\"],\"imdbId\":\"200530\"},\"1445\":{\"movieId\":3797,\"genres\":[\"Thriller\"],\"imdbId\":\"163676\"},\"1446\":{\"movieId\":3798,\"genres\":[\"Drama\",\"Horror\",\"Mystery\"],\"imdbId\":\"161081\"},\"1447\":{\"movieId\":3801,\"genres\":[\"Drama\",\"Mystery\"],\"imdbId\":\"52561\"},\"1448\":{\"movieId\":3802,\"genres\":[\"Action\",\"Sci-Fi\"],\"imdbId\":\"104299\"},\"1449\":{\"movieId\":3806,\"genres\":[\"Western\"],\"imdbId\":\"64615\"},\"1450\":{\"movieId\":3807,\"genres\":[\"Adventure\",\"Fantasy\"],\"imdbId\":\"76716\"},\"1451\":{\"movieId\":3808,\"genres\":[\"Drama\",\"War\"],\"imdbId\":\"54749\"},\"1452\":{\"movieId\":3810,\"genres\":[\"Drama\",\"Thriller\"],\"imdbId\":\"105813\"},\"1453\":{\"movieId\":3811,\"genres\":[\"Drama\",\"War\"],\"imdbId\":\"80310\"},\"1454\":{\"movieId\":3813,\"genres\":[\"Drama\"],\"imdbId\":\"77742\"},\"1455\":{\"movieId\":3814,\"genres\":[\"Comedy\"],\"imdbId\":\"73312\"},\"1456\":{\"movieId\":3816,\"genres\":[\"Drama\"],\"imdbId\":\"89276\"},\"1457\":{\"movieId\":3819,\"genres\":[\"Comedy\"],\"imdbId\":\"92048\"},\"1458\":{\"movieId\":3822,\"genres\":[\"Drama\",\"Romance\"],\"imdbId\":\"144201\"},\"1459\":{\"movieId\":3823,\"genres\":[\"Drama\"],\"imdbId\":\"171865\"},\"1460\":{\"movieId\":3827,\"genres\":[\"Action\",\"Adventure\",\"Comedy\",\"Sci-Fi\"],\"imdbId\":\"186566\"},\"1461\":{\"movieId\":3830,\"genres\":[\"Comedy\",\"Horror\",\"Thriller\"],\"imdbId\":\"206226\"},\"1462\":{\"movieId\":3832,\"genres\":[\"Horror\"],\"imdbId\":\"57603\"},\"1463\":{\"movieId\":3833,\"genres\":[\"Horror\",\"Sci-Fi\"],\"imdbId\":\"52646\"},\"1464\":{\"movieId\":3837,\"genres\":[\"Action\",\"Fantasy\",\"Horror\",\"Sci-Fi\",\"Thriller\"],\"imdbId\":\"95863\"},\"1465\":{\"movieId\":3838,\"genres\":[\"Horror\"],\"imdbId\":\"110823\"},\"1466\":{\"movieId\":3839,\"genres\":[\"Horror\"],\"imdbId\":\"138703\"},\"1467\":{\"movieId\":3840,\"genres\":[\"Horror\"],\"imdbId\":\"95925\"},\"1468\":{\"movieId\":3846,\"genres\":[\"Comedy\"],\"imdbId\":\"85470\"},\"1469\":{\"movieId\":3847,\"genres\":[\"Horror\"],\"imdbId\":\"71650\"},\"1470\":{\"movieId\":3860,\"genres\":[\"Comedy\",\"Crime\",\"Drama\"],\"imdbId\":\"138681\"},\"1471\":{\"movieId\":3864,\"genres\":[\"Action\",\"Adventure\",\"Sci-Fi\"],\"imdbId\":\"188640\"},\"1472\":{\"movieId\":3865,\"genres\":[\"Comedy\",\"Documentary\"],\"imdbId\":\"236388\"},\"1473\":{\"movieId\":3866,\"genres\":[\"Comedy\"],\"imdbId\":\"178050\"},\"1474\":{\"movieId\":3867,\"genres\":[\"Drama\"],\"imdbId\":\"176426\"},\"1475\":{\"movieId\":3868,\"genres\":[\"Action\",\"Comedy\",\"Crime\",\"Romance\"],\"imdbId\":\"95705\"},\"1476\":{\"movieId\":3870,\"genres\":[\"Drama\"],\"imdbId\":\"32881\"},\"1477\":{\"movieId\":3872,\"genres\":[\"Drama\"],\"imdbId\":\"53318\"},\"1478\":{\"movieId\":3875,\"genres\":[\"Horror\"],\"imdbId\":\"62885\"},\"1479\":{\"movieId\":3878,\"genres\":[\"Horror\",\"Sci-Fi\"],\"imdbId\":\"49967\"},\"1480\":{\"movieId\":3879,\"genres\":[\"Action\",\"Thriller\"],\"imdbId\":\"160009\"},\"1481\":{\"movieId\":3882,\"genres\":[\"Comedy\"],\"imdbId\":\"204946\"},\"1482\":{\"movieId\":3885,\"genres\":[\"Comedy\",\"Drama\",\"Romance\"],\"imdbId\":\"234137\"},\"1483\":{\"movieId\":3888,\"genres\":[\"Drama\",\"Romance\"],\"imdbId\":\"209322\"},\"1484\":{\"movieId\":3889,\"genres\":[\"Action\",\"Adventure\",\"Fantasy\"],\"imdbId\":\"144964\"},\"1485\":{\"movieId\":3895,\"genres\":[\"Crime\",\"Thriller\"],\"imdbId\":\"204626\"},\"1486\":{\"movieId\":3897,\"genres\":[\"Drama\"],\"imdbId\":\"181875\"},\"1487\":{\"movieId\":3901,\"genres\":[\"Comedy\",\"Drama\"],\"imdbId\":\"134630\"},\"1488\":{\"movieId\":3903,\"genres\":[\"Drama\"],\"imdbId\":\"182508\"},\"1489\":{\"movieId\":3910,\"genres\":[\"Drama\",\"Musical\"],\"imdbId\":\"168629\"},\"1490\":{\"movieId\":3911,\"genres\":[\"Comedy\"],\"imdbId\":\"218839\"},\"1491\":{\"movieId\":3912,\"genres\":[\"Comedy\",\"Drama\"],\"imdbId\":\"210567\"},\"1492\":{\"movieId\":3915,\"genres\":[\"Drama\"],\"imdbId\":\"210075\"},\"1493\":{\"movieId\":3918,\"genres\":[\"Horror\"],\"imdbId\":\"95294\"},\"1494\":{\"movieId\":3919,\"genres\":[\"Horror\"],\"imdbId\":\"104409\"},\"1495\":{\"movieId\":3920,\"genres\":[\"Drama\",\"Fantasy\",\"Mystery\",\"Romance\"],\"imdbId\":\"107209\"},\"1496\":{\"movieId\":3923,\"genres\":[\"Horror\",\"Sci-Fi\"],\"imdbId\":\"53219\"},\"1497\":{\"movieId\":3925,\"genres\":[\"Comedy\",\"Drama\"],\"imdbId\":\"88184\"},\"1498\":{\"movieId\":3926,\"genres\":[\"Adventure\",\"Sci-Fi\"],\"imdbId\":\"55608\"},\"1499\":{\"movieId\":3928,\"genres\":[\"Comedy\",\"Horror\"],\"imdbId\":\"40068\"},\"1500\":{\"movieId\":3929,\"genres\":[\"Comedy\"],\"imdbId\":\"32234\"},\"1501\":{\"movieId\":3930,\"genres\":[\"Adventure\",\"Horror\",\"Sci-Fi\"],\"imdbId\":\"46876\"},\"1502\":{\"movieId\":3934,\"genres\":[\"Sci-Fi\"],\"imdbId\":\"50610\"},\"1503\":{\"movieId\":3936,\"genres\":[\"Horror\",\"Musical\",\"Thriller\"],\"imdbId\":\"36261\"},\"1504\":{\"movieId\":3937,\"genres\":[\"Sci-Fi\",\"Thriller\"],\"imdbId\":\"88024\"},\"1505\":{\"movieId\":3940,\"genres\":[\"Horror\"],\"imdbId\":\"100639\"},\"1506\":{\"movieId\":3943,\"genres\":[\"Comedy\"],\"imdbId\":\"215545\"},\"1507\":{\"movieId\":3944,\"genres\":[\"Comedy\",\"Drama\"],\"imdbId\":\"210584\"},\"1508\":{\"movieId\":3945,\"genres\":[\"Adventure\",\"Animation\",\"Children\"],\"imdbId\":\"259974\"},\"1509\":{\"movieId\":3946,\"genres\":[\"Action\",\"Drama\",\"Thriller\"],\"imdbId\":\"208988\"},\"1510\":{\"movieId\":3947,\"genres\":[\"Action\",\"Crime\",\"Drama\",\"Thriller\"],\"imdbId\":\"67128\"},\"1511\":{\"movieId\":3948,\"genres\":[\"Comedy\"],\"imdbId\":\"212338\"},\"1512\":{\"movieId\":3950,\"genres\":[\"Drama\"],\"imdbId\":\"170691\"},\"1513\":{\"movieId\":3952,\"genres\":[\"Drama\",\"Thriller\"],\"imdbId\":\"208874\"}}'"
            ]
          },
          "metadata": {},
          "execution_count": 27
        }
      ],
      "source": [
        "movies_json"
      ]
    }
  ]
}