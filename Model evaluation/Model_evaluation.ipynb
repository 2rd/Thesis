{
  "nbformat": 4,
  "nbformat_minor": 0,
  "metadata": {
    "colab": {
      "name": "Model_evaluation.ipynb",
      "provenance": [],
      "collapsed_sections": []
    },
    "kernelspec": {
      "name": "python3",
      "display_name": "Python 3"
    }
  },
  "cells": [
    {
      "cell_type": "code",
      "metadata": {
        "id": "QAnmdxUVvHi6",
        "outputId": "c16f821b-78c9-4cd2-e064-bf47dc1469ae",
        "colab": {
          "base_uri": "https://localhost:8080/",
          "height": 348
        }
      },
      "source": [
        "!pip install lightfm\n",
        "#!pip install pandas==1.1.0 as pd"
      ],
      "execution_count": null,
      "outputs": [
        {
          "output_type": "stream",
          "text": [
            "Collecting lightfm\n",
            "\u001b[?25l  Downloading https://files.pythonhosted.org/packages/e9/8e/5485ac5a8616abe1c673d1e033e2f232b4319ab95424b42499fabff2257f/lightfm-1.15.tar.gz (302kB)\n",
            "\r\u001b[K     |█                               | 10kB 17.7MB/s eta 0:00:01\r\u001b[K     |██▏                             | 20kB 2.2MB/s eta 0:00:01\r\u001b[K     |███▎                            | 30kB 2.8MB/s eta 0:00:01\r\u001b[K     |████▍                           | 40kB 3.1MB/s eta 0:00:01\r\u001b[K     |█████▍                          | 51kB 2.5MB/s eta 0:00:01\r\u001b[K     |██████▌                         | 61kB 2.8MB/s eta 0:00:01\r\u001b[K     |███████▋                        | 71kB 3.1MB/s eta 0:00:01\r\u001b[K     |████████▊                       | 81kB 3.4MB/s eta 0:00:01\r\u001b[K     |█████████▊                      | 92kB 3.4MB/s eta 0:00:01\r\u001b[K     |██████████▉                     | 102kB 3.5MB/s eta 0:00:01\r\u001b[K     |████████████                    | 112kB 3.5MB/s eta 0:00:01\r\u001b[K     |█████████████                   | 122kB 3.5MB/s eta 0:00:01\r\u001b[K     |██████████████                  | 133kB 3.5MB/s eta 0:00:01\r\u001b[K     |███████████████▏                | 143kB 3.5MB/s eta 0:00:01\r\u001b[K     |████████████████▎               | 153kB 3.5MB/s eta 0:00:01\r\u001b[K     |█████████████████▍              | 163kB 3.5MB/s eta 0:00:01\r\u001b[K     |██████████████████▍             | 174kB 3.5MB/s eta 0:00:01\r\u001b[K     |███████████████████▌            | 184kB 3.5MB/s eta 0:00:01\r\u001b[K     |████████████████████▋           | 194kB 3.5MB/s eta 0:00:01\r\u001b[K     |█████████████████████▊          | 204kB 3.5MB/s eta 0:00:01\r\u001b[K     |██████████████████████▊         | 215kB 3.5MB/s eta 0:00:01\r\u001b[K     |███████████████████████▉        | 225kB 3.5MB/s eta 0:00:01\r\u001b[K     |█████████████████████████       | 235kB 3.5MB/s eta 0:00:01\r\u001b[K     |██████████████████████████      | 245kB 3.5MB/s eta 0:00:01\r\u001b[K     |███████████████████████████     | 256kB 3.5MB/s eta 0:00:01\r\u001b[K     |████████████████████████████▏   | 266kB 3.5MB/s eta 0:00:01\r\u001b[K     |█████████████████████████████▎  | 276kB 3.5MB/s eta 0:00:01\r\u001b[K     |██████████████████████████████▍ | 286kB 3.5MB/s eta 0:00:01\r\u001b[K     |███████████████████████████████▍| 296kB 3.5MB/s eta 0:00:01\r\u001b[K     |████████████████████████████████| 307kB 3.5MB/s \n",
            "\u001b[?25hRequirement already satisfied: numpy in /usr/local/lib/python3.6/dist-packages (from lightfm) (1.18.5)\n",
            "Requirement already satisfied: scipy>=0.17.0 in /usr/local/lib/python3.6/dist-packages (from lightfm) (1.4.1)\n",
            "Requirement already satisfied: requests in /usr/local/lib/python3.6/dist-packages (from lightfm) (2.23.0)\n",
            "Requirement already satisfied: urllib3!=1.25.0,!=1.25.1,<1.26,>=1.21.1 in /usr/local/lib/python3.6/dist-packages (from requests->lightfm) (1.24.3)\n",
            "Requirement already satisfied: idna<3,>=2.5 in /usr/local/lib/python3.6/dist-packages (from requests->lightfm) (2.10)\n",
            "Requirement already satisfied: certifi>=2017.4.17 in /usr/local/lib/python3.6/dist-packages (from requests->lightfm) (2020.6.20)\n",
            "Requirement already satisfied: chardet<4,>=3.0.2 in /usr/local/lib/python3.6/dist-packages (from requests->lightfm) (3.0.4)\n",
            "Building wheels for collected packages: lightfm\n",
            "  Building wheel for lightfm (setup.py) ... \u001b[?25l\u001b[?25hdone\n",
            "  Created wheel for lightfm: filename=lightfm-1.15-cp36-cp36m-linux_x86_64.whl size=707620 sha256=340540c96c3e673474bf902cfa81c7f56b3ca545724aa49948ca8f2b36abc10a\n",
            "  Stored in directory: /root/.cache/pip/wheels/eb/bb/ac/188385a5da6627956be5d9663928483b36da576149ab5b8f79\n",
            "Successfully built lightfm\n",
            "Installing collected packages: lightfm\n",
            "Successfully installed lightfm-1.15\n"
          ],
          "name": "stdout"
        }
      ]
    },
    {
      "cell_type": "code",
      "metadata": {
        "id": "GptGPmM4vR9r",
        "outputId": "e6b89bdd-a869-4585-fdc6-c33851d12c49",
        "colab": {
          "base_uri": "https://localhost:8080/",
          "height": 35
        }
      },
      "source": [
        "from google.colab import drive\n",
        "drive.mount('/content/drive', force_remount=True)"
      ],
      "execution_count": null,
      "outputs": [
        {
          "output_type": "stream",
          "text": [
            "Mounted at /content/drive\n"
          ],
          "name": "stdout"
        }
      ]
    },
    {
      "cell_type": "code",
      "metadata": {
        "id": "upRhZeL8vXt9"
      },
      "source": [
        "# Necessary imports\n",
        "import pandas as pd\n",
        "import numpy as np\n",
        "import pickle\n",
        "from scipy.sparse import csr_matrix\n",
        "from lightfm import LightFM\n",
        "from lightfm.evaluation import auc_score\n",
        "from lightfm.evaluation import precision_at_k\n",
        "from lightfm.evaluation import recall_at_k\n",
        "from lightfm.evaluation import reciprocal_rank\n",
        "import itertools\n"
      ],
      "execution_count": null,
      "outputs": []
    },
    {
      "cell_type": "code",
      "metadata": {
        "id": "DKsNtSYuvgB3"
      },
      "source": [
        "# Load the data\n",
        "\n",
        "infile = open('/content/drive/My Drive/Master/Data/1Mdatasets.p', 'rb')\n",
        "data = pickle.load(infile)\n",
        "infile.close()"
      ],
      "execution_count": null,
      "outputs": []
    },
    {
      "cell_type": "code",
      "metadata": {
        "id": "V7k3FQwO5lVp",
        "outputId": "ee8248a6-fdc8-4a94-9199-13ae9290c96b",
        "colab": {
          "base_uri": "https://localhost:8080/",
          "height": 54
        }
      },
      "source": [
        "data['train']"
      ],
      "execution_count": null,
      "outputs": [
        {
          "output_type": "execute_result",
          "data": {
            "text/plain": [
              "<69877x3527 sparse matrix of type '<class 'numpy.int64'>'\n",
              "\twith 1689459 stored elements in COOrdinate format>"
            ]
          },
          "metadata": {
            "tags": []
          },
          "execution_count": 41
        }
      ]
    },
    {
      "cell_type": "code",
      "metadata": {
        "id": "_rEZcp-L5pHf"
      },
      "source": [
        "positives = np.where(np.array(data['train'].todense()) == 1)\n",
        "positives = np.array(list(zip(positives[0], positives[1])))"
      ],
      "execution_count": null,
      "outputs": []
    },
    {
      "cell_type": "code",
      "metadata": {
        "id": "EPUBC5SpNggn"
      },
      "source": [
        "rand = np.random.default_rng()\n",
        "todrop = rand.integers(0,len(positives), \n",
        "                        size=int(len(positives)/2))"
      ],
      "execution_count": null,
      "outputs": []
    },
    {
      "cell_type": "code",
      "metadata": {
        "id": "7pGOpvH_Nxz5"
      },
      "source": [
        "positives = np.delete(positives, todrop, axis=0)"
      ],
      "execution_count": null,
      "outputs": []
    },
    {
      "cell_type": "code",
      "metadata": {
        "id": "-Q7IYvOuL9Mr"
      },
      "source": [
        "new_train = np.zeros((69877, 3527), dtype=int)\n",
        "for x, y in positives:\n",
        "  new_train[x,y] = 1"
      ],
      "execution_count": null,
      "outputs": []
    },
    {
      "cell_type": "code",
      "metadata": {
        "id": "VgJXBYF2VnX-"
      },
      "source": [
        "new_train = csr_matrix(new_train)"
      ],
      "execution_count": null,
      "outputs": []
    },
    {
      "cell_type": "code",
      "metadata": {
        "id": "SEF9t3ijV4hD",
        "outputId": "25a479ee-8931-4ad0-ccd7-e01f206a14a0",
        "colab": {
          "base_uri": "https://localhost:8080/",
          "height": 54
        }
      },
      "source": [
        "new_train"
      ],
      "execution_count": null,
      "outputs": [
        {
          "output_type": "execute_result",
          "data": {
            "text/plain": [
              "<69877x3527 sparse matrix of type '<class 'numpy.longlong'>'\n",
              "\twith 1024442 stored elements in Compressed Sparse Row format>"
            ]
          },
          "metadata": {
            "tags": []
          },
          "execution_count": 100
        }
      ]
    },
    {
      "cell_type": "code",
      "metadata": {
        "id": "G9Q56aL1l5YU",
        "outputId": "65ebf4af-1f60-4402-875a-729dbc33ccf7",
        "colab": {
          "base_uri": "https://localhost:8080/",
          "height": 72
        }
      },
      "source": [
        "# Data info\n",
        "num_users = len(data['user_dict'].keys())\n",
        "num_items = len(data['item_dict'].keys())\n",
        "num_labels = data['item_features'].shape[1]\n",
        "#num_tags = data['tags'].shape[1]\n",
        "print(f'Users: {num_users}')\n",
        "print(f'Items: {num_items}')\n",
        "print(f'Labels: {num_labels}')\n",
        "#print(f'Tags: {num_tags}')"
      ],
      "execution_count": null,
      "outputs": [
        {
          "output_type": "stream",
          "text": [
            "Users: 6040\n",
            "Items: 1514\n",
            "Labels: 939\n"
          ],
          "name": "stdout"
        }
      ]
    },
    {
      "cell_type": "code",
      "metadata": {
        "id": "YAb3b88M44oZ"
      },
      "source": [
        "# Methods for finding the optimal hyperparameters\n",
        "# @source: https://stackoverflow.com/questions/49896816/how-do-i-optimize-the-hyperparameters-of-lightfm\n",
        "\n",
        "def sample_hyperparameters():\n",
        "    \"\"\"\n",
        "    Yield possible hyperparameter choices.\n",
        "    \"\"\"\n",
        "\n",
        "    while True:\n",
        "        yield {\n",
        "            \"no_components\": np.random.randint(16, 64),\n",
        "            \"learning_schedule\": np.random.choice([\"adagrad\", \"adadelta\"]),\n",
        "            \"loss\": np.random.choice([\"bpr\", \"warp\", \"warp-kos\"]),\n",
        "            \"learning_rate\": np.random.exponential(0.05),\n",
        "            \"item_alpha\": np.random.exponential(1e-8),\n",
        "            \"user_alpha\": np.random.exponential(1e-8),\n",
        "            \"max_sampled\": np.random.randint(5, 15),\n",
        "            \"num_epochs\": np.random.randint(5, 50),\n",
        "        }\n",
        "\n",
        "\n",
        "def random_search(train, test, item_features, num_samples=10, num_threads=1):\n",
        "    \"\"\"\n",
        "    Sample random hyperparameters, fit a LightFM model, and evaluate it\n",
        "    on the test set.\n",
        "\n",
        "    Parameters\n",
        "    ----------\n",
        "\n",
        "    train: np.float32 coo_matrix of shape [n_users, n_items]\n",
        "        Training data.\n",
        "    test: np.float32 coo_matrix of shape [n_users, n_items]\n",
        "        Test data.\n",
        "    num_samples: int, optional\n",
        "        Number of hyperparameter choices to evaluate.\n",
        "\n",
        "\n",
        "    Returns\n",
        "    -------\n",
        "\n",
        "    generator of (auc_score, hyperparameter dict, fitted model)\n",
        "\n",
        "    \"\"\"\n",
        "\n",
        "    for hyperparams in itertools.islice(sample_hyperparameters(), num_samples):\n",
        "        num_epochs = hyperparams.pop(\"num_epochs\")\n",
        "\n",
        "        model = LightFM(**hyperparams)\n",
        "        model.fit(train, \n",
        "                  item_features=item_features, \n",
        "                  epochs=num_epochs, \n",
        "                  num_threads=num_threads)\n",
        "\n",
        "        score = reciprocal_rank(model,\n",
        "                          test, \n",
        "                          train_interactions=train, \n",
        "                          item_features=item_features, \n",
        "                          num_threads=num_threads).mean()\n",
        "\n",
        "        hyperparams[\"num_epochs\"] = num_epochs\n",
        "\n",
        "        yield (score, hyperparams, model)"
      ],
      "execution_count": null,
      "outputs": []
    },
    {
      "cell_type": "code",
      "metadata": {
        "id": "QQn4YtQB4udJ"
      },
      "source": [
        "train = data['train']\n",
        "test = data['test']\n",
        "train_neg = data['train_neg']\n",
        "test_neg = data['test_neg']\n",
        "item_features = data['item_features']\n",
        "\n",
        "evaluation_results = dict()"
      ],
      "execution_count": null,
      "outputs": []
    },
    {
      "cell_type": "code",
      "metadata": {
        "id": "zy5Z5Kdq5eEE",
        "outputId": "377b7b70-e5e7-4e25-eee8-417eae3c114a",
        "colab": {
          "base_uri": "https://localhost:8080/",
          "height": 55
        }
      },
      "source": [
        "# Find the optimal hyperparameters\n",
        "(score, hyperparams, model) = max(random_search(train, \n",
        "                                                test, \n",
        "                                                item_features, \n",
        "                                                num_threads=2), \n",
        "                                  key=lambda x: x[0])\n",
        "\n",
        "print(\"Best score {} at {}\".format(score, hyperparams))"
      ],
      "execution_count": null,
      "outputs": [
        {
          "output_type": "stream",
          "text": [
            "Best score 0.8614028096199036 at {'no_components': 32, 'learning_schedule': 'adadelta', 'loss': 'warp', 'learning_rate': 0.027724575479789855, 'item_alpha': 3.0564472985493036e-09, 'user_alpha': 2.8090807112176496e-09, 'max_sampled': 13, 'num_epochs': 11}\n"
          ],
          "name": "stdout"
        }
      ]
    },
    {
      "cell_type": "code",
      "metadata": {
        "id": "PDD55z0D2Y1L",
        "outputId": "71f287d4-00e5-4a6f-c63a-ae27413f0200",
        "colab": {
          "base_uri": "https://localhost:8080/",
          "height": 55
        }
      },
      "source": [
        "# Find the optimal hyperparameters\n",
        "(score, hyperparams, model) = max(random_search(train, \n",
        "                                                test, \n",
        "                                                item_features, \n",
        "                                                num_threads=2), \n",
        "                                  key=lambda x: x[0])\n",
        "\n",
        "print(\"Best score {} at {}\".format(score, hyperparams))"
      ],
      "execution_count": null,
      "outputs": [
        {
          "output_type": "stream",
          "text": [
            "Best score 0.33556807041168213 at {'no_components': 34, 'learning_schedule': 'adadelta', 'loss': 'warp', 'learning_rate': 0.07488944297869128, 'item_alpha': 9.243578003830079e-09, 'user_alpha': 7.313654576476887e-09, 'max_sampled': 9, 'num_epochs': 44}\n"
          ],
          "name": "stdout"
        }
      ]
    },
    {
      "cell_type": "code",
      "metadata": {
        "id": "7nMxvMFTmdR6"
      },
      "source": [
        "def evaluate(loss, train, test, item_features=None):\n",
        "  # Define the hyperparameters\n",
        "  NUM_THREADS = 2\n",
        "  NUM_COMPONENTS = 21\n",
        "  LEARNING_RATE = 0.06\n",
        "  ITEM_ALPHA = 5.9e-08\n",
        "  USER_ALPHA = 10e-09\n",
        "  MAX_SAMPLED = 7\n",
        "  NUM_EPOCHS = 25\n",
        "\n",
        "  # Define the model\n",
        "  model = LightFM(loss=loss,\n",
        "                  learning_schedule='adagrad',\n",
        "                  learning_rate=LEARNING_RATE,\n",
        "                  user_alpha=USER_ALPHA,\n",
        "                  item_alpha=ITEM_ALPHA,\n",
        "                  max_sampled=MAX_SAMPLED,\n",
        "                  no_components=NUM_COMPONENTS)\n",
        "  # Fit the model.\n",
        "  %time model = model.fit(train, item_features=item_features, epochs=NUM_EPOCHS, num_threads=NUM_THREADS)\n",
        "\n",
        "  # Calculate AUC and P@K for the training set\n",
        "  train_auc = auc_score(model,\n",
        "                        train,\n",
        "                        item_features=item_features,\n",
        "                        num_threads=NUM_THREADS).mean()\n",
        "\n",
        "  train_precision = precision_at_k(model, \n",
        "                                  train,\n",
        "                                  item_features=item_features, \n",
        "                                  num_threads=NUM_THREADS).mean()\n",
        "\n",
        "  train_recall = recall_at_k(model,\n",
        "                        train,\n",
        "                        item_features=item_features,\n",
        "                        num_threads=NUM_THREADS).mean()\n",
        "\n",
        "  train_reciprocal = reciprocal_rank(model, \n",
        "                                  train,\n",
        "                                  item_features=item_features, \n",
        "                                  num_threads=NUM_THREADS).mean()\n",
        "  # Calculate AUC and P@K for the test set\n",
        "  test_auc = auc_score(model,\n",
        "                      test,\n",
        "                      train_interactions=train, \n",
        "                      item_features=item_features,\n",
        "                      num_threads=NUM_THREADS).mean()\n",
        "\n",
        "  test_precision = precision_at_k(model, \n",
        "                                  test,\n",
        "                                  train_interactions=train,\n",
        "                                  item_features=item_features, \n",
        "                                  k=5,\n",
        "                                  num_threads=NUM_THREADS).mean()\n",
        "\n",
        "  test_recall = recall_at_k(model,\n",
        "                      test,\n",
        "                      train_interactions=train, \n",
        "                      item_features=item_features,\n",
        "                      k=5,\n",
        "                      num_threads=NUM_THREADS).mean()\n",
        "\n",
        "  test_reciprocal = reciprocal_rank(model, \n",
        "                                  test,\n",
        "                                  train_interactions=train, \n",
        "                                  item_features=item_features, \n",
        "                                  num_threads=NUM_THREADS).mean()\n",
        "  results = dict()\n",
        "  results['model'] = model\n",
        "  results['train_auc'] = train_auc\n",
        "  results['train_precision'] = train_precision\n",
        "  results['train_recall'] = train_recall\n",
        "  results['train_reciprocal'] = train_reciprocal\n",
        "  results['test_auc'] = test_auc\n",
        "  results['test_precision'] = test_precision\n",
        "  results['test_recall'] = test_recall\n",
        "  results['test_reciprocal'] = test_reciprocal\n",
        "\n",
        "  return results\n"
      ],
      "execution_count": null,
      "outputs": []
    },
    {
      "cell_type": "code",
      "metadata": {
        "id": "w7S2i29sroSl",
        "outputId": "06d3742c-a97c-455e-a3f7-ee8c6e51328a",
        "colab": {
          "base_uri": "https://localhost:8080/",
          "height": 163
        }
      },
      "source": [
        "\n",
        "%time evaluation_results['label_freq_warp'] = evaluate('warp', train, test, item_features=data['item_features'])\n",
        "evaluation_results['label_freq_bpr'] = evaluate('bpr', train, test, item_features=data['item_features'])\n",
        "evaluation_results['label_freq_logistic'] = evaluate('logistic', train_neg, test_neg, item_features=data['item_features'])"
      ],
      "execution_count": null,
      "outputs": [
        {
          "output_type": "stream",
          "text": [
            "CPU times: user 2min 37s, sys: 47.2 ms, total: 2min 37s\n",
            "Wall time: 1min 20s\n",
            "CPU times: user 4min 29s, sys: 84.8 ms, total: 4min 29s\n",
            "Wall time: 2min 16s\n",
            "CPU times: user 3min 29s, sys: 62.4 ms, total: 3min 29s\n",
            "Wall time: 1min 50s\n",
            "CPU times: user 3min 8s, sys: 48.9 ms, total: 3min 8s\n",
            "Wall time: 1min 35s\n"
          ],
          "name": "stdout"
        }
      ]
    },
    {
      "cell_type": "code",
      "metadata": {
        "id": "ux5MuDU9rq6Q",
        "outputId": "314116b2-8454-45f1-897b-7fc5e89a1fb3",
        "colab": {
          "base_uri": "https://localhost:8080/",
          "height": 163
        }
      },
      "source": [
        "%time evaluation_results['label_conf_warp'] = evaluate('warp', train, test, item_features=data['conf_features'])\n",
        "evaluation_results['label_conf_bpr'] = evaluate('bpr', train, test, item_features=data['conf_features'])\n",
        "evaluation_results['label_conf_logistic'] = evaluate('logistic', train_neg, test_neg, item_features=data['conf_features'])"
      ],
      "execution_count": null,
      "outputs": [
        {
          "output_type": "stream",
          "text": [
            "CPU times: user 2min 42s, sys: 37.9 ms, total: 2min 42s\n",
            "Wall time: 1min 22s\n",
            "CPU times: user 4min 34s, sys: 60.9 ms, total: 4min 34s\n",
            "Wall time: 2min 18s\n",
            "CPU times: user 3min 30s, sys: 68.7 ms, total: 3min 30s\n",
            "Wall time: 1min 46s\n",
            "CPU times: user 3min 7s, sys: 39.9 ms, total: 3min 7s\n",
            "Wall time: 1min 39s\n"
          ],
          "name": "stdout"
        }
      ]
    },
    {
      "cell_type": "code",
      "metadata": {
        "id": "BWEAvlRKrtaw",
        "outputId": "ad006955-218d-49ed-bddf-41a34256e545",
        "colab": {
          "base_uri": "https://localhost:8080/",
          "height": 163
        }
      },
      "source": [
        "%time evaluation_results['genre_warp'] = evaluate('warp', train, test, item_features=data['genre_features'])\n",
        "evaluation_results['genre_bpr'] = evaluate('bpr', train, test, item_features=data['genre_features'])\n",
        "evaluation_results['genre_logistic'] = evaluate('logistic', train_neg, test_neg, item_features= data['genre_features'])"
      ],
      "execution_count": null,
      "outputs": [
        {
          "output_type": "stream",
          "text": [
            "CPU times: user 15.2 s, sys: 11 ms, total: 15.2 s\n",
            "Wall time: 7.78 s\n",
            "CPU times: user 29.1 s, sys: 18 ms, total: 29.1 s\n",
            "Wall time: 14.8 s\n",
            "CPU times: user 16.6 s, sys: 14 ms, total: 16.7 s\n",
            "Wall time: 8.47 s\n",
            "CPU times: user 18 s, sys: 11 ms, total: 18 s\n",
            "Wall time: 9.11 s\n"
          ],
          "name": "stdout"
        }
      ]
    },
    {
      "cell_type": "code",
      "metadata": {
        "id": "VgdMlfXMrwua",
        "outputId": "689e50c8-193d-4169-a68f-e280f9419401",
        "colab": {
          "base_uri": "https://localhost:8080/",
          "height": 127
        }
      },
      "source": [
        "evaluation_results['tags_warp'] = evaluate('warp', train, test, item_features=data['tags'])\n",
        "evaluation_results['tags_bpr'] = evaluate('bpr', train, test, item_features=data['tags'])\n",
        "evaluation_results['tags_logistic'] = evaluate('logistic', train_neg, test_neg, item_features=data['tags'])"
      ],
      "execution_count": null,
      "outputs": [
        {
          "output_type": "stream",
          "text": [
            "CPU times: user 15.1 s, sys: 0 ns, total: 15.1 s\n",
            "Wall time: 7.75 s\n",
            "CPU times: user 22.4 s, sys: 0 ns, total: 22.4 s\n",
            "Wall time: 11.4 s\n",
            "CPU times: user 22.5 s, sys: 0 ns, total: 22.5 s\n",
            "Wall time: 11.4 s\n"
          ],
          "name": "stdout"
        }
      ]
    },
    {
      "cell_type": "code",
      "metadata": {
        "id": "FTkVor2Ppvsk",
        "outputId": "19428636-8df5-4709-b373-8fc7ddb17767",
        "colab": {
          "base_uri": "https://localhost:8080/",
          "height": 163
        }
      },
      "source": [
        "%time evaluation_results['cf_warp'] = evaluate('warp', train, test)\n",
        "evaluation_results['cf_bpr'] = evaluate('bpr', train, test)\n",
        "evaluation_results['cf_logistic'] = evaluate('logistic', train, test)\n"
      ],
      "execution_count": null,
      "outputs": [
        {
          "output_type": "stream",
          "text": [
            "CPU times: user 10.7 s, sys: 7.98 ms, total: 10.7 s\n",
            "Wall time: 5.45 s\n",
            "CPU times: user 21.7 s, sys: 13 ms, total: 21.7 s\n",
            "Wall time: 11.1 s\n",
            "CPU times: user 12.6 s, sys: 14 ms, total: 12.6 s\n",
            "Wall time: 6.47 s\n",
            "CPU times: user 7.67 s, sys: 3.99 ms, total: 7.67 s\n",
            "Wall time: 3.89 s\n"
          ],
          "name": "stdout"
        }
      ]
    },
    {
      "cell_type": "code",
      "metadata": {
        "id": "2hs2p9-tk1_I"
      },
      "source": [
        "pickle.dump(evaluation_results, (open('/content/drive/My Drive/Master/Data/10MColdUsersEvaluation.p', 'wb')))"
      ],
      "execution_count": null,
      "outputs": []
    },
    {
      "cell_type": "code",
      "metadata": {
        "id": "zL5CJhoAxpSD",
        "outputId": "b4ffcc0e-ed8a-4937-f2d4-f6800e9a4621",
        "colab": {
          "base_uri": "https://localhost:8080/",
          "height": 236
        }
      },
      "source": [
        "%time evaluation_results['subs_warp'] = evaluate('warp', train, test, item_features=data['subs_features'])\n",
        "%time evaluation_results['subs_bpr'] = evaluate('bpr', train, test, item_features=data['subs_features'])\n",
        "%time evaluation_results['subs_logistic'] = evaluate('logistic', train_neg, test_neg, item_features=data['subs_features'])"
      ],
      "execution_count": null,
      "outputs": [
        {
          "output_type": "stream",
          "text": [
            "CPU times: user 1h 15min 43s, sys: 1.19 s, total: 1h 15min 44s\n",
            "Wall time: 38min 27s\n",
            "CPU times: user 1h 54min 15s, sys: 1.84 s, total: 1h 54min 17s\n",
            "Wall time: 58min 2s\n",
            "CPU times: user 1h 20min 37s, sys: 1.24 s, total: 1h 20min 39s\n",
            "Wall time: 40min 53s\n",
            "CPU times: user 1h 59min 9s, sys: 1.85 s, total: 1h 59min 10s\n",
            "Wall time: 1h 23s\n",
            "CPU times: user 1h 10min 16s, sys: 1.03 s, total: 1h 10min 17s\n",
            "Wall time: 35min 39s\n",
            "CPU times: user 1h 50min 42s, sys: 1.7 s, total: 1h 50min 43s\n",
            "Wall time: 56min 20s\n"
          ],
          "name": "stdout"
        }
      ]
    },
    {
      "cell_type": "code",
      "metadata": {
        "id": "uSHIUcB1lD6c"
      },
      "source": [
        "pickle.dump(evaluation_results, (open('/content/drive/My Drive/Master/Data/1Mevaluation.p', 'wb')))"
      ],
      "execution_count": null,
      "outputs": []
    },
    {
      "cell_type": "code",
      "metadata": {
        "id": "cwHXlCeguHBG"
      },
      "source": [
        "infile = open('/content/drive/My Drive/Master/Data/1Mevaluation.p', 'rb')\n",
        "evaluation_results = pickle.load(infile)\n",
        "infile.close()"
      ],
      "execution_count": null,
      "outputs": []
    },
    {
      "cell_type": "code",
      "metadata": {
        "id": "PZPmx4asuhYc",
        "outputId": "a351be0f-3eb1-4446-820f-aa1588db7229",
        "colab": {
          "base_uri": "https://localhost:8080/",
          "height": 1000
        }
      },
      "source": [
        "evaluation_results\n",
        "\n"
      ],
      "execution_count": null,
      "outputs": [
        {
          "output_type": "execute_result",
          "data": {
            "text/plain": [
              "{'cf_bpr': {'model': <lightfm.lightfm.LightFM at 0x7f938469a5f8>,\n",
              "  'test_auc': 0.8283109,\n",
              "  'test_precision': 0.15252402,\n",
              "  'test_recall': 0.10703395440290878,\n",
              "  'test_reciprocal': 0.3504381,\n",
              "  'train_auc': 0.92955387,\n",
              "  'train_precision': 0.5139497,\n",
              "  'train_recall': 0.27121806253925584,\n",
              "  'train_reciprocal': 0.88829994},\n",
              " 'cf_logistic': {'model': <lightfm.lightfm.LightFM at 0x7f937cb0c0b8>,\n",
              "  'test_auc': 0.8657818,\n",
              "  'test_precision': 0.12908296,\n",
              "  'test_recall': 0.08271237881203101,\n",
              "  'test_reciprocal': 0.30233666,\n",
              "  'train_auc': 0.86526835,\n",
              "  'train_precision': 0.2755964,\n",
              "  'train_recall': 0.11429135599780017,\n",
              "  'train_reciprocal': 0.5482946},\n",
              " 'cf_warp': {'model': <lightfm.lightfm.LightFM at 0x7f937ca6c780>,\n",
              "  'test_auc': 0.920886,\n",
              "  'test_precision': 0.20887338,\n",
              "  'test_recall': 0.14438073156552675,\n",
              "  'test_reciprocal': 0.42816287,\n",
              "  'train_auc': 0.9640199,\n",
              "  'train_precision': 0.49073893,\n",
              "  'train_recall': 0.26120070915685,\n",
              "  'train_reciprocal': 0.7548461},\n",
              " 'genre_bpr': {'model': <lightfm.lightfm.LightFM at 0x7f937ca6ce48>,\n",
              "  'test_auc': 0.6603102,\n",
              "  'test_precision': 0.025816595,\n",
              "  'test_recall': 0.01621246800771571,\n",
              "  'test_reciprocal': 0.08626634,\n",
              "  'train_auc': 0.79282,\n",
              "  'train_precision': 0.12331015,\n",
              "  'train_recall': 0.05816221754753898,\n",
              "  'train_reciprocal': 0.29422668},\n",
              " 'genre_logistic': {'model': <lightfm.lightfm.LightFM at 0x7f937ca6cfd0>,\n",
              "  'test_auc': 0.51542306,\n",
              "  'test_precision': 0.024473287,\n",
              "  'test_recall': 0.00905691788631663,\n",
              "  'test_reciprocal': 0.08309055,\n",
              "  'train_auc': 0.51715565,\n",
              "  'train_precision': 0.07102649,\n",
              "  'train_recall': 0.015908241605659214,\n",
              "  'train_reciprocal': 0.20324436},\n",
              " 'genre_warp': {'model': <lightfm.lightfm.LightFM at 0x7f938469aa90>,\n",
              "  'test_auc': 0.6993842,\n",
              "  'test_precision': 0.04069869,\n",
              "  'test_recall': 0.025156142187565962,\n",
              "  'test_reciprocal': 0.120099105,\n",
              "  'train_auc': 0.8099065,\n",
              "  'train_precision': 0.14960238,\n",
              "  'train_recall': 0.06663207454370088,\n",
              "  'train_reciprocal': 0.3308879},\n",
              " 'label_conf_bpr': {'model': <lightfm.lightfm.LightFM at 0x7f937ca6cc50>,\n",
              "  'test_auc': 0.7123951,\n",
              "  'test_precision': 0.04251528,\n",
              "  'test_recall': 0.034087482619726404,\n",
              "  'test_reciprocal': 0.12923902,\n",
              "  'train_auc': 0.8802572,\n",
              "  'train_precision': 0.32128894,\n",
              "  'train_recall': 0.18626871606308523,\n",
              "  'train_reciprocal': 0.70101655},\n",
              " 'label_conf_logistic': {'model': <lightfm.lightfm.LightFM at 0x7f93956f06a0>,\n",
              "  'test_auc': 0.57798004,\n",
              "  'test_precision': 0.060677566,\n",
              "  'test_recall': 0.020814532278860928,\n",
              "  'test_reciprocal': 0.16095552,\n",
              "  'train_auc': 0.584448,\n",
              "  'train_precision': 0.15824504,\n",
              "  'train_recall': 0.03755303998105849,\n",
              "  'train_reciprocal': 0.3552754},\n",
              " 'label_conf_warp': {'model': <lightfm.lightfm.LightFM at 0x7f937ca6ceb8>,\n",
              "  'test_auc': 0.84294504,\n",
              "  'test_precision': 0.15608734,\n",
              "  'test_recall': 0.10477452974858296,\n",
              "  'test_reciprocal': 0.34334365,\n",
              "  'train_auc': 0.9281632,\n",
              "  'train_precision': 0.43343273,\n",
              "  'train_recall': 0.2268408622433218,\n",
              "  'train_reciprocal': 0.69688654},\n",
              " 'label_freq_bpr': {'model': <lightfm.lightfm.LightFM at 0x7f937cad8400>,\n",
              "  'test_auc': 0.7209587,\n",
              "  'test_precision': 0.036401745,\n",
              "  'test_recall': 0.03149371767084538,\n",
              "  'test_reciprocal': 0.1179044,\n",
              "  'train_auc': 0.8862821,\n",
              "  'train_precision': 0.33124584,\n",
              "  'train_recall': 0.18724660924121767,\n",
              "  'train_reciprocal': 0.69855064},\n",
              " 'label_freq_logistic': {'model': <lightfm.lightfm.LightFM at 0x7f937cb01860>,\n",
              "  'test_auc': 0.59019387,\n",
              "  'test_precision': 0.053868197,\n",
              "  'test_recall': 0.018290343524090123,\n",
              "  'test_reciprocal': 0.14766109,\n",
              "  'train_auc': 0.59197336,\n",
              "  'train_precision': 0.14917219,\n",
              "  'train_recall': 0.03422199219572534,\n",
              "  'train_reciprocal': 0.34185326},\n",
              " 'label_freq_warp': {'model': <lightfm.lightfm.LightFM at 0x7f937ca83518>,\n",
              "  'test_auc': 0.8607961,\n",
              "  'test_precision': 0.15612228,\n",
              "  'test_recall': 0.10360331414667653,\n",
              "  'test_reciprocal': 0.33559886,\n",
              "  'train_auc': 0.9318841,\n",
              "  'train_precision': 0.4333002,\n",
              "  'train_recall': 0.2237514163273267,\n",
              "  'train_reciprocal': 0.6960598},\n",
              " 'subs_bpr': {'model': <lightfm.lightfm.LightFM at 0x7f93853b2a90>,\n",
              "  'test_auc': 0.84933424,\n",
              "  'test_precision': 0.06965939,\n",
              "  'test_recall': 0.04792916028542466,\n",
              "  'test_reciprocal': 0.17947684,\n",
              "  'train_auc': 0.9410109,\n",
              "  'train_precision': 0.30791917,\n",
              "  'train_recall': 0.1608697207638197,\n",
              "  'train_reciprocal': 0.5275987},\n",
              " 'subs_logistic': {'model': <lightfm.lightfm.LightFM at 0x7f938867f198>,\n",
              "  'test_auc': 0.6133296,\n",
              "  'test_precision': 0.028417328,\n",
              "  'test_recall': 0.009675833748960517,\n",
              "  'test_reciprocal': 0.08846668,\n",
              "  'train_auc': 0.61686766,\n",
              "  'train_precision': 0.081788085,\n",
              "  'train_recall': 0.017226723442035137,\n",
              "  'train_reciprocal': 0.19129808},\n",
              " 'subs_warp': {'model': <lightfm.lightfm.LightFM at 0x7f9384ebd198>,\n",
              "  'test_auc': 0.5130672,\n",
              "  'test_precision': 0.0039475984,\n",
              "  'test_recall': 0.0014917133450165158,\n",
              "  'test_reciprocal': 0.023007,\n",
              "  'train_auc': 0.53807193,\n",
              "  'train_precision': 0.016766071,\n",
              "  'train_recall': 0.004864972027504409,\n",
              "  'train_reciprocal': 0.07943374},\n",
              " 'tags_bpr': {'model': <lightfm.lightfm.LightFM at 0x7f93868a4438>,\n",
              "  'test_auc': 0.5388822,\n",
              "  'test_precision': 0.0018515284,\n",
              "  'test_recall': 0.0012787723318007232,\n",
              "  'test_reciprocal': 0.018052878,\n",
              "  'train_auc': 0.5504291,\n",
              "  'train_precision': 0.013055004,\n",
              "  'train_recall': 0.004641638826315043,\n",
              "  'train_reciprocal': 0.043460693},\n",
              " 'tags_logistic': {'model': <lightfm.lightfm.LightFM at 0x7f93868a42e8>,\n",
              "  'test_auc': 0.5181011,\n",
              "  'test_precision': 0.026967807,\n",
              "  'test_recall': 0.008147746694826373,\n",
              "  'test_reciprocal': 0.08413834,\n",
              "  'train_auc': 0.5158076,\n",
              "  'train_precision': 0.06903973,\n",
              "  'train_recall': 0.011091473267275742,\n",
              "  'train_reciprocal': 0.20735686},\n",
              " 'tags_warp': {'model': <lightfm.lightfm.LightFM at 0x7f93868a44a8>,\n",
              "  'test_auc': 0.569232,\n",
              "  'test_precision': 0.00869869,\n",
              "  'test_recall': 0.0038816435900515017,\n",
              "  'test_reciprocal': 0.03476406,\n",
              "  'train_auc': 0.5701217,\n",
              "  'train_precision': 0.03250497,\n",
              "  'train_recall': 0.008090344032876434,\n",
              "  'train_reciprocal': 0.087495364}}"
            ]
          },
          "metadata": {
            "tags": []
          },
          "execution_count": 24
        }
      ]
    },
    {
      "cell_type": "code",
      "metadata": {
        "id": "eUQGYru_KnQg",
        "outputId": "0108df02-f4c6-46aa-b52a-ddd4ad6eaa9d",
        "colab": {
          "base_uri": "https://localhost:8080/",
          "height": 1000
        }
      },
      "source": [
        "evaluation_results"
      ],
      "execution_count": null,
      "outputs": [
        {
          "output_type": "execute_result",
          "data": {
            "text/plain": [
              "{'cf_bpr': {'model': <lightfm.lightfm.LightFM at 0x7f7c386cb978>,\n",
              "  'test_auc': 0.85921216,\n",
              "  'test_precision': 0.12343063,\n",
              "  'test_recall': 0.13169008184960684,\n",
              "  'test_reciprocal': 0.30568025,\n",
              "  'train_auc': 0.9627521,\n",
              "  'train_precision': 0.4591892,\n",
              "  'train_recall': 0.4009652344081713,\n",
              "  'train_reciprocal': 0.86753994},\n",
              " 'cf_logistic': {'model': <lightfm.lightfm.LightFM at 0x7f7c386cbe80>,\n",
              "  'test_auc': 0.9382832,\n",
              "  'test_precision': 0.10103702,\n",
              "  'test_recall': 0.10801101037189173,\n",
              "  'test_reciprocal': 0.25803545,\n",
              "  'train_auc': 0.9392178,\n",
              "  'train_precision': 0.21941386,\n",
              "  'train_recall': 0.1526927937370082,\n",
              "  'train_reciprocal': 0.45815992},\n",
              " 'cf_warp': {'model': <lightfm.lightfm.LightFM at 0x7f7c386cb438>,\n",
              "  'test_auc': 0.96734726,\n",
              "  'test_precision': 0.1903408,\n",
              "  'test_recall': 0.1941912592143658,\n",
              "  'test_reciprocal': 0.406352,\n",
              "  'train_auc': 0.9868507,\n",
              "  'train_precision': 0.41289216,\n",
              "  'train_recall': 0.3520498837347658,\n",
              "  'train_reciprocal': 0.6985445},\n",
              " 'genre_bpr': {'model': <lightfm.lightfm.LightFM at 0x7f7c386c39b0>,\n",
              "  'test_auc': 0.60646874,\n",
              "  'test_precision': 0.006711234,\n",
              "  'test_recall': 0.005141996362907169,\n",
              "  'test_reciprocal': 0.028694319,\n",
              "  'train_auc': 0.8205608,\n",
              "  'train_precision': 0.0423468,\n",
              "  'train_recall': 0.040914829937057015,\n",
              "  'train_reciprocal': 0.13614473},\n",
              " 'genre_logistic': {'model': <lightfm.lightfm.LightFM at 0x7f7c386c3eb8>,\n",
              "  'test_auc': 0.48781854,\n",
              "  'test_precision': 0.005147971,\n",
              "  'test_recall': 0.0025777179858935797,\n",
              "  'test_reciprocal': 0.024059799,\n",
              "  'train_auc': 0.4903306,\n",
              "  'train_precision': 0.0181705,\n",
              "  'train_recall': 0.0065204231264151475,\n",
              "  'train_reciprocal': 0.063704774},\n",
              " 'genre_warp': {'model': <lightfm.lightfm.LightFM at 0x7f7c386c34a8>,\n",
              "  'test_auc': 0.6633607,\n",
              "  'test_precision': 0.010060329,\n",
              "  'test_recall': 0.0077828262197945286,\n",
              "  'test_reciprocal': 0.04072573,\n",
              "  'train_auc': 0.8389561,\n",
              "  'train_precision': 0.049347393,\n",
              "  'train_recall': 0.04328846731261033,\n",
              "  'train_reciprocal': 0.14711371},\n",
              " 'label_conf_bpr': {'model': <lightfm.lightfm.LightFM at 0x7f7c386bea58>,\n",
              "  'test_auc': 0.7300463,\n",
              "  'test_precision': 0.012656122,\n",
              "  'test_recall': 0.020941310299142226,\n",
              "  'test_reciprocal': 0.052923378,\n",
              "  'train_auc': 0.9144867,\n",
              "  'train_precision': 0.18404028,\n",
              "  'train_recall': 0.2158584419943915,\n",
              "  'train_reciprocal': 0.51641786},\n",
              " 'label_conf_logistic': {'model': <lightfm.lightfm.LightFM at 0x7f7c386bef60>,\n",
              "  'test_auc': 0.5529556,\n",
              "  'test_precision': 0.04144368,\n",
              "  'test_recall': 0.02191334053362572,\n",
              "  'test_reciprocal': 0.121005446,\n",
              "  'train_auc': 0.5551477,\n",
              "  'train_precision': 0.11470584,\n",
              "  'train_recall': 0.048254888497057974,\n",
              "  'train_reciprocal': 0.31640556},\n",
              " 'label_conf_warp': {'model': <lightfm.lightfm.LightFM at 0x7f7c386be550>,\n",
              "  'test_auc': 0.8802352,\n",
              "  'test_precision': 0.11966411,\n",
              "  'test_recall': 0.1320653789193527,\n",
              "  'test_reciprocal': 0.28200424,\n",
              "  'train_auc': 0.95686615,\n",
              "  'train_precision': 0.32975614,\n",
              "  'train_recall': 0.29987418161846807,\n",
              "  'train_reciprocal': 0.5999663},\n",
              " 'label_freq_bpr': {'model': <lightfm.lightfm.LightFM at 0x7f7c386abb70>,\n",
              "  'test_auc': 0.725088,\n",
              "  'test_precision': 0.007774336,\n",
              "  'test_recall': 0.01383585297489205,\n",
              "  'test_reciprocal': 0.03847942,\n",
              "  'train_auc': 0.912391,\n",
              "  'train_precision': 0.15811473,\n",
              "  'train_recall': 0.1886421972458943,\n",
              "  'train_reciprocal': 0.44302586},\n",
              " 'label_freq_logistic': {'model': <lightfm.lightfm.LightFM at 0x7f7c386b80f0>,\n",
              "  'test_auc': 0.56092143,\n",
              "  'test_precision': 0.023362279,\n",
              "  'test_recall': 0.012582950876807981,\n",
              "  'test_reciprocal': 0.07338439,\n",
              "  'train_auc': 0.55685526,\n",
              "  'train_precision': 0.07430199,\n",
              "  'train_recall': 0.029920401098743343,\n",
              "  'train_reciprocal': 0.20057745},\n",
              " 'label_freq_warp': {'model': <lightfm.lightfm.LightFM at 0x7f7c3a60b278>,\n",
              "  'test_auc': 0.88756645,\n",
              "  'test_precision': 0.12248166,\n",
              "  'test_recall': 0.136183327307329,\n",
              "  'test_reciprocal': 0.28298023,\n",
              "  'train_auc': 0.95585376,\n",
              "  'train_precision': 0.3346092,\n",
              "  'train_recall': 0.30115917618638355,\n",
              "  'train_reciprocal': 0.60578406},\n",
              " 'tags_bpr': {'model': <lightfm.lightfm.LightFM at 0x7f7c386b8b00>,\n",
              "  'test_auc': 0.82186985,\n",
              "  'test_precision': 0.10838741,\n",
              "  'test_recall': 0.11531578820836579,\n",
              "  'test_reciprocal': 0.27161872,\n",
              "  'train_auc': 0.95157576,\n",
              "  'train_precision': 0.41198635,\n",
              "  'train_recall': 0.3684619120455243,\n",
              "  'train_reciprocal': 0.8067167},\n",
              " 'tags_logistic': {'model': <lightfm.lightfm.LightFM at 0x7f7c386be048>,\n",
              "  'test_auc': 0.5650519,\n",
              "  'test_precision': 0.09990254,\n",
              "  'test_recall': 0.05261024741388352,\n",
              "  'test_reciprocal': 0.23812552,\n",
              "  'train_auc': 0.5615985,\n",
              "  'train_precision': 0.21742061,\n",
              "  'train_recall': 0.08207699762000291,\n",
              "  'train_reciprocal': 0.46787205},\n",
              " 'tags_warp': {'model': <lightfm.lightfm.LightFM at 0x7f7c386b85f8>,\n",
              "  'test_auc': 0.676919,\n",
              "  'test_precision': 0.0073927934,\n",
              "  'test_recall': 0.004727944267672824,\n",
              "  'test_reciprocal': 0.031403966,\n",
              "  'train_auc': 0.7151602,\n",
              "  'train_precision': 0.027719688,\n",
              "  'train_recall': 0.017163485691434558,\n",
              "  'train_reciprocal': 0.084535904}}"
            ]
          },
          "metadata": {
            "tags": []
          },
          "execution_count": 6
        }
      ]
    },
    {
      "cell_type": "code",
      "metadata": {
        "id": "JjHtUkKp5jax",
        "outputId": "13d46a01-88a5-4f98-b89b-7e22f008509e",
        "colab": {
          "base_uri": "https://localhost:8080/",
          "height": 54
        }
      },
      "source": [
        "# Define the hyperparameters\n",
        "NUM_THREADS = 2\n",
        "NUM_COMPONENTS = 21\n",
        "LEARNING_RATE = 0.06\n",
        "ITEM_ALPHA = 5.9e-08\n",
        "USER_ALPHA = 10e-09\n",
        "MAX_SAMPLED = 7\n",
        "NUM_EPOCHS = 25\n",
        "\n",
        "\n",
        "# Define the model\n",
        "model = LightFM(loss='warp',\n",
        "                learning_schedule='adagrad',\n",
        "                learning_rate=LEARNING_RATE,\n",
        "                user_alpha=USER_ALPHA,\n",
        "                item_alpha=ITEM_ALPHA,\n",
        "                max_sampled=MAX_SAMPLED,\n",
        "                no_components=NUM_COMPONENTS)\n",
        "\n",
        "# Fit the model.\n",
        "%time model = model.fit(train,item_features=item_features,epochs=NUM_EPOCHS,num_threads=NUM_THREADS)\n"
      ],
      "execution_count": null,
      "outputs": [
        {
          "output_type": "stream",
          "text": [
            "CPU times: user 2min 53s, sys: 60.1 ms, total: 2min 53s\n",
            "Wall time: 1min 27s\n"
          ],
          "name": "stdout"
        }
      ]
    },
    {
      "cell_type": "code",
      "metadata": {
        "id": "_gH63sPSiuwP"
      },
      "source": [
        "user_dict = data['user_dict']\n",
        "def new_user():\n",
        "  userId = max(user_d.keys())+1\n",
        "  update_userdict(userId)\n",
        "  user_obj = {'userId': userId,\n",
        "            'interactions':[]}\n",
        "  \n",
        "  return user_obj\n",
        "\n",
        "def update_userdict(newId):\n",
        "  user_dict[newId] = user_dict[max(user_dict.keys())]+1\n",
        "\n",
        "def add_interaction(movieId):\n",
        "  "
      ],
      "execution_count": null,
      "outputs": []
    },
    {
      "cell_type": "code",
      "metadata": {
        "id": "t1QYBKqHRpit"
      },
      "source": [
        "class Recommender:\n",
        "  def __init__(model, interactions, item_features, user_dict, item_dict):\n",
        "    self.model = model\n",
        "    self.interactions = interactions\n",
        "    self.item_features = item_features\n",
        "    self.user_dict = user_dict\n",
        "    self.item_dict = item_dict\n",
        "\n",
        "\n",
        "  def get_model():\n",
        "    return self.model\n",
        "\n",
        "  def set_model(model):\n",
        "    self.model = model\n",
        "\n",
        "  def get_user_dict():\n",
        "    return self.user_dict\n",
        "\n",
        "  def set_user_dict(user_dict):\n",
        "    self.user_dict = user_dict\n",
        "\n",
        "  def new_user():\n",
        "    \n",
        "    userId = max(get_user_dict().keys())+1\n",
        "    user_obj = {'userId': userId, \n",
        "                'interactions':[]}\n",
        "\n",
        "    new_user_dict = get_user_dict()\n",
        "    new_user_dict[userId] = new_user_dict[max(new_user_dict).keys()] + 1\n",
        "    self.set_user_dict(new_user_dict)\n",
        "\n",
        "    return user_obj\n",
        "\n",
        "  def retrain_add_user(user_obj):\n",
        "    model = \n",
        "\n",
        "  def recommend_items(userId):\n",
        "  \n",
        "\n"
      ],
      "execution_count": null,
      "outputs": []
    },
    {
      "cell_type": "code",
      "metadata": {
        "id": "CW23Ku3LSNYd",
        "outputId": "2235baad-c18b-4935-bcfc-e370a4f7b0c3",
        "colab": {
          "base_uri": "https://localhost:8080/",
          "height": 35
        }
      },
      "source": [
        "user_obj"
      ],
      "execution_count": null,
      "outputs": [
        {
          "output_type": "execute_result",
          "data": {
            "text/plain": [
              "{'id': 6041, 'interactions': []}"
            ]
          },
          "metadata": {
            "tags": []
          },
          "execution_count": 82
        }
      ]
    },
    {
      "cell_type": "code",
      "metadata": {
        "id": "6CiuX-_ARMzo"
      },
      "source": [
        "userId = max(user_dict.keys())+1\n",
        "user_d[userId] = user_d[max(user_dict.keys())+1]"
      ],
      "execution_count": null,
      "outputs": []
    },
    {
      "cell_type": "code",
      "metadata": {
        "id": "vzu2W4G9i65h"
      },
      "source": [
        "dummy_user = np.zeros(shape=(1,1514), dtype=np.int64)\n",
        "\n",
        "new_user=csr_matrix(dummy_user)"
      ],
      "execution_count": null,
      "outputs": []
    },
    {
      "cell_type": "code",
      "metadata": {
        "id": "pappE7BXmany",
        "outputId": "2fe7f75b-d01d-4d56-cbc1-7153f0feb4bf",
        "colab": {
          "base_uri": "https://localhost:8080/",
          "height": 54
        }
      },
      "source": [
        " np.array(new_user.todense())"
      ],
      "execution_count": null,
      "outputs": [
        {
          "output_type": "execute_result",
          "data": {
            "text/plain": [
              "array([[0, 0, 0, ..., 0, 0, 0],\n",
              "       [0, 0, 0, ..., 0, 0, 0]])"
            ]
          },
          "metadata": {
            "tags": []
          },
          "execution_count": 46
        }
      ]
    },
    {
      "cell_type": "code",
      "metadata": {
        "id": "mrtc7Bl8mMZv"
      },
      "source": [
        "a = np.array(new_user.todense())"
      ],
      "execution_count": null,
      "outputs": []
    },
    {
      "cell_type": "code",
      "metadata": {
        "id": "YIMCtbqcmtCe",
        "outputId": "244b4daf-5f0b-4701-9e85-b6512432a7d0",
        "colab": {
          "base_uri": "https://localhost:8080/",
          "height": 145
        }
      },
      "source": [
        "np.array(train.todense())"
      ],
      "execution_count": null,
      "outputs": [
        {
          "output_type": "execute_result",
          "data": {
            "text/plain": [
              "array([[0., 0., 0., ..., 0., 0., 0.],\n",
              "       [0., 0., 0., ..., 0., 0., 0.],\n",
              "       [0., 0., 0., ..., 0., 0., 0.],\n",
              "       ...,\n",
              "       [0., 0., 0., ..., 0., 0., 0.],\n",
              "       [0., 0., 0., ..., 0., 0., 0.],\n",
              "       [0., 0., 0., ..., 0., 0., 0.]], dtype=float32)"
            ]
          },
          "metadata": {
            "tags": []
          },
          "execution_count": 45
        }
      ]
    },
    {
      "cell_type": "code",
      "metadata": {
        "id": "7Njty6m9jqTz",
        "outputId": "2034bfe8-708e-4719-b61f-53a04e073c30",
        "colab": {
          "base_uri": "https://localhost:8080/",
          "height": 54
        }
      },
      "source": [
        "\n",
        "new_interactions = csr_matrix(np.append(np.array(train.todense()), a, axis=0))\n",
        "new_interactions"
      ],
      "execution_count": null,
      "outputs": [
        {
          "output_type": "execute_result",
          "data": {
            "text/plain": [
              "<6042x1514 sparse matrix of type '<class 'numpy.float64'>'\n",
              "\twith 218012 stored elements in Compressed Sparse Row format>"
            ]
          },
          "metadata": {
            "tags": []
          },
          "execution_count": 47
        }
      ]
    },
    {
      "cell_type": "code",
      "metadata": {
        "id": "_HCyLvAGkbW_",
        "outputId": "b2a3ef63-6b76-475b-a761-2cd34f9ab4c3",
        "colab": {
          "base_uri": "https://localhost:8080/",
          "height": 323
        }
      },
      "source": [
        "model = model.fit_partial(interactions=csr_matrix(a),epochs=NUM_EPOCHS, num_threads=NUM_THREADS)"
      ],
      "execution_count": null,
      "outputs": [
        {
          "output_type": "error",
          "ename": "ValueError",
          "evalue": "ignored",
          "traceback": [
            "\u001b[0;31m---------------------------------------------------------------------------\u001b[0m",
            "\u001b[0;31mValueError\u001b[0m                                Traceback (most recent call last)",
            "\u001b[0;32m<ipython-input-54-4c235173f64b>\u001b[0m in \u001b[0;36m<module>\u001b[0;34m()\u001b[0m\n\u001b[0;32m----> 1\u001b[0;31m \u001b[0mmodel\u001b[0m \u001b[0;34m=\u001b[0m \u001b[0mmodel\u001b[0m\u001b[0;34m.\u001b[0m\u001b[0mfit_partial\u001b[0m\u001b[0;34m(\u001b[0m\u001b[0minteractions\u001b[0m\u001b[0;34m=\u001b[0m\u001b[0mcsr_matrix\u001b[0m\u001b[0;34m(\u001b[0m\u001b[0ma\u001b[0m\u001b[0;34m)\u001b[0m\u001b[0;34m,\u001b[0m\u001b[0mepochs\u001b[0m\u001b[0;34m=\u001b[0m\u001b[0mNUM_EPOCHS\u001b[0m\u001b[0;34m,\u001b[0m \u001b[0mnum_threads\u001b[0m\u001b[0;34m=\u001b[0m\u001b[0mNUM_THREADS\u001b[0m\u001b[0;34m)\u001b[0m\u001b[0;34m\u001b[0m\u001b[0;34m\u001b[0m\u001b[0m\n\u001b[0m",
            "\u001b[0;32m/usr/local/lib/python3.6/dist-packages/lightfm/lightfm.py\u001b[0m in \u001b[0;36mfit_partial\u001b[0;34m(self, interactions, user_features, item_features, sample_weight, epochs, num_threads, verbose)\u001b[0m\n\u001b[1;32m    542\u001b[0m                                                            \u001b[0mn_items\u001b[0m\u001b[0;34m,\u001b[0m\u001b[0;34m\u001b[0m\u001b[0;34m\u001b[0m\u001b[0m\n\u001b[1;32m    543\u001b[0m                                                            \u001b[0muser_features\u001b[0m\u001b[0;34m,\u001b[0m\u001b[0;34m\u001b[0m\u001b[0;34m\u001b[0m\u001b[0m\n\u001b[0;32m--> 544\u001b[0;31m                                                            item_features)\n\u001b[0m\u001b[1;32m    545\u001b[0m \u001b[0;34m\u001b[0m\u001b[0m\n\u001b[1;32m    546\u001b[0m         for input_data in (user_features.data,\n",
            "\u001b[0;32m/usr/local/lib/python3.6/dist-packages/lightfm/lightfm.py\u001b[0m in \u001b[0;36m_construct_feature_matrices\u001b[0;34m(self, n_users, n_items, user_features, item_features)\u001b[0m\n\u001b[1;32m    316\u001b[0m                                  'feature embeddings: {} vs {}.'.format(\n\u001b[1;32m    317\u001b[0m                                      \u001b[0mself\u001b[0m\u001b[0;34m.\u001b[0m\u001b[0mitem_embeddings\u001b[0m\u001b[0;34m.\u001b[0m\u001b[0mshape\u001b[0m\u001b[0;34m[\u001b[0m\u001b[0;36m0\u001b[0m\u001b[0;34m]\u001b[0m\u001b[0;34m,\u001b[0m\u001b[0;34m\u001b[0m\u001b[0;34m\u001b[0m\u001b[0m\n\u001b[0;32m--> 318\u001b[0;31m                                      \u001b[0mitem_features\u001b[0m\u001b[0;34m.\u001b[0m\u001b[0mshape\u001b[0m\u001b[0;34m[\u001b[0m\u001b[0;36m1\u001b[0m\u001b[0;34m]\u001b[0m\u001b[0;34m\u001b[0m\u001b[0;34m\u001b[0m\u001b[0m\n\u001b[0m\u001b[1;32m    319\u001b[0m                                  ))\n\u001b[1;32m    320\u001b[0m \u001b[0;34m\u001b[0m\u001b[0m\n",
            "\u001b[0;31mValueError\u001b[0m: The item feature matrix specifies more features than there are estimated feature embeddings: 939 vs 1514."
          ]
        }
      ]
    },
    {
      "cell_type": "code",
      "metadata": {
        "id": "Rhe9rFdGiJdd"
      },
      "source": [
        "pickle.dump(model, (open('/content/drive/My Drive/Master/Data/hybrid_label_model.p', 'wb')))"
      ],
      "execution_count": null,
      "outputs": []
    },
    {
      "cell_type": "code",
      "metadata": {
        "id": "cQsbiNK7OU5J"
      },
      "source": [
        "'''\n",
        "\n",
        "Sample recommendations\n",
        "\n",
        "'''"
      ],
      "execution_count": null,
      "outputs": []
    },
    {
      "cell_type": "code",
      "metadata": {
        "id": "2f3RbvuSvQpu"
      },
      "source": [
        "items = list(data['item_dict'].keys())\n",
        "items = np.array(items, dtype=int)\n",
        "\n",
        "users = list(data['user_dict'].keys())\n",
        "users = np.array(users, dtype=int)"
      ],
      "execution_count": null,
      "outputs": []
    },
    {
      "cell_type": "code",
      "metadata": {
        "id": "ShazR-UJUq82",
        "outputId": "7d01532b-962c-4106-b951-1ee2c68f4251",
        "colab": {
          "base_uri": "https://localhost:8080/",
          "height": 72
        }
      },
      "source": [
        "items = list(data['item_dict'].values())\n",
        "items = np.array(items, dtype=str)\n",
        "#map(lambda x: int(x), items)\n",
        "#items_np = np.array(items, np.int32)\n",
        "items"
      ],
      "execution_count": null,
      "outputs": [
        {
          "output_type": "execute_result",
          "data": {
            "text/plain": [
              "array(['Mary Reilly (1996)', 'Vampire in Brooklyn (1995)',\n",
              "       'Beautiful Girls (1996)', ..., 'Meet the Parents (2000)',\n",
              "       'Tigerland (2000)', 'Contender, The (2000)'], dtype='<U79')"
            ]
          },
          "metadata": {
            "tags": []
          },
          "execution_count": 12
        }
      ]
    },
    {
      "cell_type": "code",
      "metadata": {
        "id": "wpdmzNsX-mFS",
        "outputId": "502f08aa-ba9c-4e65-df4c-b568dcb1053a",
        "colab": {
          "base_uri": "https://localhost:8080/",
          "height": 90
        }
      },
      "source": [
        "print(items_np.shape[0])\n",
        "print(item_features.shape)\n",
        "print(train.shape)\n",
        "print(model.user_embeddings.shape)"
      ],
      "execution_count": null,
      "outputs": [
        {
          "output_type": "stream",
          "text": [
            "3254\n",
            "(3254, 985)\n",
            "(610, 3254)\n",
            "(610, 21)\n"
          ],
          "name": "stdout"
        }
      ]
    },
    {
      "cell_type": "code",
      "metadata": {
        "id": "p8AO09bMhkBU",
        "outputId": "dacce237-1b0d-4158-cef9-11473530da87",
        "colab": {
          "base_uri": "https://localhost:8080/",
          "height": 1000
        }
      },
      "source": [
        "def sample_recommendation(model, items, data, user_ids):\n",
        "\n",
        "\n",
        "    n_users, n_items = data['train'].shape\n",
        "\n",
        "    for user_id in user_ids:\n",
        "        known_positives = items[data['train'].tocsr()[user_id].indices]\n",
        "\n",
        "        scores = model.predict(user_id, np.arange(n_items), item_features=item_features)\n",
        "        top_items = items[np.argsort(-scores)]\n",
        "\n",
        "        print(\"User %s\" % user_id)\n",
        "        print(\"     Known positives:\")\n",
        "\n",
        "        for x in known_positives[:5]:\n",
        "            print(\"        %s\" % x)\n",
        "\n",
        "        print(\"     Recommended:\")\n",
        "\n",
        "        for x in top_items[:5]:\n",
        "            print(\"        %s\" % x)\n",
        "model = evaluation_results['label_freq_warp']['model']\n",
        "sample_recommendation(model, items, data, [1, 2, 3, 4, 5, 6, 249, 414, 599, 448])"
      ],
      "execution_count": null,
      "outputs": [
        {
          "output_type": "stream",
          "text": [
            "User 1\n",
            "     Known positives:\n",
            "        Desperado (1995)\n",
            "        Like Water for Chocolate (Como agua para chocolate) (1992)\n",
            "        Maverick (1994)\n",
            "        Fugitive, The (1993)\n",
            "        Terminator 2: Judgment Day (1991)\n",
            "     Recommended:\n",
            "        Saving Private Ryan (1998)\n",
            "        Legends of the Fall (1994)\n",
            "        Thelma & Louise (1991)\n",
            "        Jerry Maguire (1996)\n",
            "        Patriot, The (2000)\n",
            "User 2\n",
            "     Known positives:\n",
            "        Dances with Wolves (1990)\n",
            "        Rock, The (1996)\n",
            "        Fish Called Wanda, A (1988)\n",
            "        Monty Python and the Holy Grail (1974)\n",
            "        Star Wars: Episode V - The Empire Strikes Back (1980)\n",
            "     Recommended:\n",
            "        Three Amigos! (1986)\n",
            "        Butch Cassidy and the Sundance Kid (1969)\n",
            "        Crocodile Dundee (1986)\n",
            "        Young Guns (1988)\n",
            "        Back to the Future (1985)\n",
            "User 3\n",
            "     Known positives:\n",
            "        E.T. the Extra-Terrestrial (1982)\n",
            "        Jaws (1975)\n",
            "        Saving Private Ryan (1998)\n",
            "        Run Lola Run (Lola rennt) (1998)\n",
            "        Thelma & Louise (1991)\n",
            "     Recommended:\n",
            "        Thelma & Louise (1991)\n",
            "        Terminator 2: Judgment Day (1991)\n",
            "        Jaws (1975)\n",
            "        Saving Private Ryan (1998)\n",
            "        Lost World: Jurassic Park, The (1997)\n",
            "User 4\n",
            "     Known positives:\n",
            "        Crumb (1994)\n",
            "        Piano, The (1993)\n",
            "        Nightmare Before Christmas, The (1993)\n",
            "        Bound (1996)\n",
            "        Wild Reeds (1994)\n",
            "     Recommended:\n",
            "        American Beauty (1999)\n",
            "        Guinevere (1999)\n",
            "        Election (1999)\n",
            "        Run Lola Run (Lola rennt) (1998)\n",
            "        South Park: Bigger, Longer and Uncut (1999)\n",
            "User 5\n",
            "     Known positives:\n",
            "        Legends of the Fall (1994)\n",
            "        Maverick (1994)\n",
            "        Wyatt Earp (1994)\n",
            "        Beauty and the Beast (1991)\n",
            "        Pretty Woman (1990)\n",
            "     Recommended:\n",
            "        Patriot, The (2000)\n",
            "        Shakespeare in Love (1998)\n",
            "        Legends of the Fall (1994)\n",
            "        Galaxy Quest (1999)\n",
            "        Star Wars: Episode I - The Phantom Menace (1999)\n",
            "User 6\n",
            "     Known positives:\n",
            "        Demolition Man (1993)\n",
            "        Terminator 2: Judgment Day (1991)\n",
            "        Rock, The (1996)\n",
            "        Star Wars: Episode V - The Empire Strikes Back (1980)\n",
            "        Tomorrow Never Dies (1997)\n",
            "     Recommended:\n",
            "        Enemy of the State (1998)\n",
            "        Terminator 2: Judgment Day (1991)\n",
            "        Mission: Impossible 2 (2000)\n",
            "        Fugitive, The (1993)\n",
            "        Demolition Man (1993)\n",
            "User 249\n",
            "     Known positives:\n",
            "        Escape from New York (1981)\n",
            "        Lost World: Jurassic Park, The (1997)\n",
            "     Recommended:\n",
            "        Lost World: Jurassic Park, The (1997)\n",
            "        Star Wars: Episode I - The Phantom Menace (1999)\n",
            "        Star Trek: First Contact (1996)\n",
            "        Mission to Mars (2000)\n",
            "        Lost in Space (1998)\n",
            "User 414\n",
            "     Known positives:\n",
            "        Taxi Driver (1976)\n",
            "        Ed Wood (1994)\n",
            "        Tank Girl (1995)\n",
            "        Adventures of Priscilla, Queen of the Desert, The (1994)\n",
            "        Four Weddings and a Funeral (1994)\n",
            "     Recommended:\n",
            "        Monty Python and the Holy Grail (1974)\n",
            "        Dr. Strangelove or: How I Learned to Stop Worrying and Love the Bomb (1963)\n",
            "        Star Wars: Episode V - The Empire Strikes Back (1980)\n",
            "        Psycho (1960)\n",
            "        Duck Soup (1933)\n",
            "User 599\n",
            "     Known positives:\n",
            "        Happy Gilmore (1996)\n",
            "        Dave (1993)\n",
            "        Rear Window (1954)\n",
            "        Desperately Seeking Susan (1985)\n",
            "        Austin Powers: The Spy Who Shagged Me (1999)\n",
            "     Recommended:\n",
            "        American Beauty (1999)\n",
            "        Austin Powers: International Man of Mystery (1997)\n",
            "        Office Space (1999)\n",
            "        Who Framed Roger Rabbit? (1988)\n",
            "        Austin Powers: The Spy Who Shagged Me (1999)\n",
            "User 448\n",
            "     Known positives:\n",
            "        E.T. the Extra-Terrestrial (1982)\n",
            "        Army of Darkness (1993)\n",
            "        Psycho (1960)\n",
            "        American Werewolf in London, An (1981)\n",
            "        Carrie (1976)\n",
            "     Recommended:\n",
            "        Rocky Horror Picture Show, The (1975)\n",
            "        American Werewolf in London, An (1981)\n",
            "        E.T. the Extra-Terrestrial (1982)\n",
            "        Aliens (1986)\n",
            "        Poltergeist (1982)\n"
          ],
          "name": "stdout"
        }
      ]
    },
    {
      "cell_type": "code",
      "metadata": {
        "id": "HjxTasKNJm3G",
        "outputId": "f861dd67-e8ad-42c4-cfbd-92d8ed4d0d08",
        "colab": {
          "base_uri": "https://localhost:8080/",
          "height": 90
        }
      },
      "source": [
        "tag_labels = list(data['full_vocab'].keys())\n",
        "tag_labels = np.array(tag_labels, dtype=str)\n",
        "def get_similar_tags(model, tag_id):\n",
        "    # Define similarity as the cosine of the angle\n",
        "    # between the tag latent vectors\n",
        "    \n",
        "    # Normalize the vectors to unit length\n",
        "    tag_embeddings = (model.item_embeddings.T\n",
        "                      / np.linalg.norm(model.item_embeddings, axis=1)).T\n",
        "    \n",
        "    query_embedding = tag_embeddings[tag_id]\n",
        "    similarity = np.dot(tag_embeddings, query_embedding)\n",
        "    most_similar = np.argsort(-similarity)[1:4]\n",
        "    \n",
        "    return most_similar\n",
        "\n",
        "\n",
        "for tag in ('mobile_home', 'ballplayer', 'snorkel', 'comic_book'):\n",
        "    tag_id = tag_labels.tolist().index(tag)\n",
        "    print('Most similar tags for %s: %s' % (tag_labels[tag_id],\n",
        "                                            tag_labels[get_similar_tags(model, tag_id)]))"
      ],
      "execution_count": null,
      "outputs": [
        {
          "output_type": "stream",
          "text": [
            "Most similar tags for mobile_home: ['macaw' 'lens_cap' 'hen-of-the-woods']\n",
            "Most similar tags for ballplayer: ['motor_scooter' 'steam_locomotive' 'stingray']\n",
            "Most similar tags for snorkel: ['Yorkshire_terrier' 'common_iguana' 'rain_barrel']\n",
            "Most similar tags for comic_book: ['shower_curtain' 'barbershop' 'hummingbird']\n"
          ],
          "name": "stdout"
        }
      ]
    }
  ]
}